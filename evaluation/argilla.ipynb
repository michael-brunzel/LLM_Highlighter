{
 "cells": [
  {
   "cell_type": "code",
   "execution_count": 1,
   "id": "e385645b-fbfd-4b44-a712-e19defb060dc",
   "metadata": {
    "tags": []
   },
   "outputs": [
    {
     "name": "stdout",
     "output_type": "stream",
     "text": [
      "Requirement already satisfied: datasets==2.17.1 in /home/ec2-user/anaconda3/envs/tensorflow2_p310/lib/python3.10/site-packages (from datasets[s3]==2.17.1->-r eval_requirements.txt (line 1)) (2.17.1)\n",
      "Requirement already satisfied: seqeval in /home/ec2-user/anaconda3/envs/tensorflow2_p310/lib/python3.10/site-packages (from -r eval_requirements.txt (line 2)) (1.2.2)\n",
      "Collecting argilla==1.29.1 (from -r eval_requirements.txt (line 3))\n",
      "  Using cached argilla-1.29.1-py3-none-any.whl.metadata (17 kB)\n",
      "Requirement already satisfied: evaluate in /home/ec2-user/anaconda3/envs/tensorflow2_p310/lib/python3.10/site-packages (from -r eval_requirements.txt (line 4)) (0.4.2)\n",
      "Requirement already satisfied: python-dotenv==1.0.1 in /home/ec2-user/anaconda3/envs/tensorflow2_p310/lib/python3.10/site-packages (from -r eval_requirements.txt (line 5)) (1.0.1)\n",
      "Requirement already satisfied: filelock in /home/ec2-user/anaconda3/envs/tensorflow2_p310/lib/python3.10/site-packages (from datasets==2.17.1->datasets[s3]==2.17.1->-r eval_requirements.txt (line 1)) (3.14.0)\n",
      "Requirement already satisfied: numpy>=1.17 in /home/ec2-user/anaconda3/envs/tensorflow2_p310/lib/python3.10/site-packages (from datasets==2.17.1->datasets[s3]==2.17.1->-r eval_requirements.txt (line 1)) (1.26.4)\n",
      "Requirement already satisfied: pyarrow>=12.0.0 in /home/ec2-user/anaconda3/envs/tensorflow2_p310/lib/python3.10/site-packages (from datasets==2.17.1->datasets[s3]==2.17.1->-r eval_requirements.txt (line 1)) (16.1.0)\n",
      "Requirement already satisfied: pyarrow-hotfix in /home/ec2-user/anaconda3/envs/tensorflow2_p310/lib/python3.10/site-packages (from datasets==2.17.1->datasets[s3]==2.17.1->-r eval_requirements.txt (line 1)) (0.6)\n",
      "Requirement already satisfied: dill<0.3.9,>=0.3.0 in /home/ec2-user/anaconda3/envs/tensorflow2_p310/lib/python3.10/site-packages (from datasets==2.17.1->datasets[s3]==2.17.1->-r eval_requirements.txt (line 1)) (0.3.8)\n",
      "Requirement already satisfied: pandas in /home/ec2-user/anaconda3/envs/tensorflow2_p310/lib/python3.10/site-packages (from datasets==2.17.1->datasets[s3]==2.17.1->-r eval_requirements.txt (line 1)) (1.5.3)\n",
      "Requirement already satisfied: requests>=2.19.0 in /home/ec2-user/anaconda3/envs/tensorflow2_p310/lib/python3.10/site-packages (from datasets==2.17.1->datasets[s3]==2.17.1->-r eval_requirements.txt (line 1)) (2.32.3)\n",
      "Requirement already satisfied: tqdm>=4.62.1 in /home/ec2-user/anaconda3/envs/tensorflow2_p310/lib/python3.10/site-packages (from datasets==2.17.1->datasets[s3]==2.17.1->-r eval_requirements.txt (line 1)) (4.66.4)\n",
      "Requirement already satisfied: xxhash in /home/ec2-user/anaconda3/envs/tensorflow2_p310/lib/python3.10/site-packages (from datasets==2.17.1->datasets[s3]==2.17.1->-r eval_requirements.txt (line 1)) (3.4.1)\n",
      "Requirement already satisfied: multiprocess in /home/ec2-user/anaconda3/envs/tensorflow2_p310/lib/python3.10/site-packages (from datasets==2.17.1->datasets[s3]==2.17.1->-r eval_requirements.txt (line 1)) (0.70.16)\n",
      "Requirement already satisfied: fsspec<=2023.10.0,>=2023.1.0 in /home/ec2-user/anaconda3/envs/tensorflow2_p310/lib/python3.10/site-packages (from fsspec[http]<=2023.10.0,>=2023.1.0->datasets==2.17.1->datasets[s3]==2.17.1->-r eval_requirements.txt (line 1)) (2023.10.0)\n",
      "Requirement already satisfied: aiohttp in /home/ec2-user/anaconda3/envs/tensorflow2_p310/lib/python3.10/site-packages (from datasets==2.17.1->datasets[s3]==2.17.1->-r eval_requirements.txt (line 1)) (3.9.5)\n",
      "Requirement already satisfied: huggingface-hub>=0.19.4 in /home/ec2-user/anaconda3/envs/tensorflow2_p310/lib/python3.10/site-packages (from datasets==2.17.1->datasets[s3]==2.17.1->-r eval_requirements.txt (line 1)) (0.24.5)\n",
      "Requirement already satisfied: packaging in /home/ec2-user/anaconda3/envs/tensorflow2_p310/lib/python3.10/site-packages (from datasets==2.17.1->datasets[s3]==2.17.1->-r eval_requirements.txt (line 1)) (21.3)\n",
      "Requirement already satisfied: pyyaml>=5.1 in /home/ec2-user/anaconda3/envs/tensorflow2_p310/lib/python3.10/site-packages (from datasets==2.17.1->datasets[s3]==2.17.1->-r eval_requirements.txt (line 1)) (6.0.1)\n",
      "Collecting httpx<=0.26,>=0.15 (from argilla==1.29.1->-r eval_requirements.txt (line 3))\n",
      "  Downloading httpx-0.26.0-py3-none-any.whl.metadata (7.6 kB)\n",
      "Requirement already satisfied: deprecated~=1.2.0 in /home/ec2-user/anaconda3/envs/tensorflow2_p310/lib/python3.10/site-packages (from argilla==1.29.1->-r eval_requirements.txt (line 3)) (1.2.14)\n",
      "Requirement already satisfied: pydantic>=1.10.7 in /home/ec2-user/anaconda3/envs/tensorflow2_p310/lib/python3.10/site-packages (from argilla==1.29.1->-r eval_requirements.txt (line 3)) (2.8.2)\n",
      "Collecting wrapt<1.15,>=1.14 (from argilla==1.29.1->-r eval_requirements.txt (line 3))\n",
      "  Using cached wrapt-1.14.1-cp310-cp310-manylinux_2_5_x86_64.manylinux1_x86_64.manylinux_2_17_x86_64.manylinux2014_x86_64.whl.metadata (6.7 kB)\n",
      "Requirement already satisfied: backoff in /home/ec2-user/anaconda3/envs/tensorflow2_p310/lib/python3.10/site-packages (from argilla==1.29.1->-r eval_requirements.txt (line 3)) (2.2.1)\n",
      "Requirement already satisfied: monotonic in /home/ec2-user/anaconda3/envs/tensorflow2_p310/lib/python3.10/site-packages (from argilla==1.29.1->-r eval_requirements.txt (line 3)) (1.6)\n",
      "Requirement already satisfied: rich!=13.1.0 in /home/ec2-user/anaconda3/envs/tensorflow2_p310/lib/python3.10/site-packages (from argilla==1.29.1->-r eval_requirements.txt (line 3)) (13.7.1)\n",
      "Collecting typer<0.10.0,>=0.6.0 (from argilla==1.29.1->-r eval_requirements.txt (line 3))\n",
      "  Using cached typer-0.9.4-py3-none-any.whl.metadata (14 kB)\n",
      "Requirement already satisfied: s3fs in /home/ec2-user/anaconda3/envs/tensorflow2_p310/lib/python3.10/site-packages (from datasets[s3]==2.17.1->-r eval_requirements.txt (line 1)) (0.4.2)\n",
      "Requirement already satisfied: scikit-learn>=0.21.3 in /home/ec2-user/anaconda3/envs/tensorflow2_p310/lib/python3.10/site-packages (from seqeval->-r eval_requirements.txt (line 2)) (1.5.0)\n",
      "Requirement already satisfied: aiosignal>=1.1.2 in /home/ec2-user/anaconda3/envs/tensorflow2_p310/lib/python3.10/site-packages (from aiohttp->datasets==2.17.1->datasets[s3]==2.17.1->-r eval_requirements.txt (line 1)) (1.3.1)\n",
      "Requirement already satisfied: attrs>=17.3.0 in /home/ec2-user/anaconda3/envs/tensorflow2_p310/lib/python3.10/site-packages (from aiohttp->datasets==2.17.1->datasets[s3]==2.17.1->-r eval_requirements.txt (line 1)) (23.2.0)\n",
      "Requirement already satisfied: frozenlist>=1.1.1 in /home/ec2-user/anaconda3/envs/tensorflow2_p310/lib/python3.10/site-packages (from aiohttp->datasets==2.17.1->datasets[s3]==2.17.1->-r eval_requirements.txt (line 1)) (1.4.1)\n",
      "Requirement already satisfied: multidict<7.0,>=4.5 in /home/ec2-user/anaconda3/envs/tensorflow2_p310/lib/python3.10/site-packages (from aiohttp->datasets==2.17.1->datasets[s3]==2.17.1->-r eval_requirements.txt (line 1)) (6.0.5)\n",
      "Requirement already satisfied: yarl<2.0,>=1.0 in /home/ec2-user/anaconda3/envs/tensorflow2_p310/lib/python3.10/site-packages (from aiohttp->datasets==2.17.1->datasets[s3]==2.17.1->-r eval_requirements.txt (line 1)) (1.9.4)\n",
      "Requirement already satisfied: async-timeout<5.0,>=4.0 in /home/ec2-user/anaconda3/envs/tensorflow2_p310/lib/python3.10/site-packages (from aiohttp->datasets==2.17.1->datasets[s3]==2.17.1->-r eval_requirements.txt (line 1)) (4.0.3)\n",
      "Requirement already satisfied: anyio in /home/ec2-user/anaconda3/envs/tensorflow2_p310/lib/python3.10/site-packages (from httpx<=0.26,>=0.15->argilla==1.29.1->-r eval_requirements.txt (line 3)) (4.4.0)\n",
      "Requirement already satisfied: certifi in /home/ec2-user/anaconda3/envs/tensorflow2_p310/lib/python3.10/site-packages (from httpx<=0.26,>=0.15->argilla==1.29.1->-r eval_requirements.txt (line 3)) (2024.2.2)\n",
      "Requirement already satisfied: httpcore==1.* in /home/ec2-user/anaconda3/envs/tensorflow2_p310/lib/python3.10/site-packages (from httpx<=0.26,>=0.15->argilla==1.29.1->-r eval_requirements.txt (line 3)) (1.0.5)\n",
      "Requirement already satisfied: idna in /home/ec2-user/anaconda3/envs/tensorflow2_p310/lib/python3.10/site-packages (from httpx<=0.26,>=0.15->argilla==1.29.1->-r eval_requirements.txt (line 3)) (3.7)\n",
      "Requirement already satisfied: sniffio in /home/ec2-user/anaconda3/envs/tensorflow2_p310/lib/python3.10/site-packages (from httpx<=0.26,>=0.15->argilla==1.29.1->-r eval_requirements.txt (line 3)) (1.3.1)\n",
      "Requirement already satisfied: h11<0.15,>=0.13 in /home/ec2-user/anaconda3/envs/tensorflow2_p310/lib/python3.10/site-packages (from httpcore==1.*->httpx<=0.26,>=0.15->argilla==1.29.1->-r eval_requirements.txt (line 3)) (0.14.0)\n",
      "Requirement already satisfied: typing-extensions>=3.7.4.3 in /home/ec2-user/anaconda3/envs/tensorflow2_p310/lib/python3.10/site-packages (from huggingface-hub>=0.19.4->datasets==2.17.1->datasets[s3]==2.17.1->-r eval_requirements.txt (line 1)) (4.12.1)\n",
      "Requirement already satisfied: pyparsing!=3.0.5,>=2.0.2 in /home/ec2-user/anaconda3/envs/tensorflow2_p310/lib/python3.10/site-packages (from packaging->datasets==2.17.1->datasets[s3]==2.17.1->-r eval_requirements.txt (line 1)) (3.1.2)\n",
      "Requirement already satisfied: python-dateutil>=2.8.1 in /home/ec2-user/anaconda3/envs/tensorflow2_p310/lib/python3.10/site-packages (from pandas->datasets==2.17.1->datasets[s3]==2.17.1->-r eval_requirements.txt (line 1)) (2.9.0)\n",
      "Requirement already satisfied: pytz>=2020.1 in /home/ec2-user/anaconda3/envs/tensorflow2_p310/lib/python3.10/site-packages (from pandas->datasets==2.17.1->datasets[s3]==2.17.1->-r eval_requirements.txt (line 1)) (2024.1)\n",
      "Requirement already satisfied: annotated-types>=0.4.0 in /home/ec2-user/anaconda3/envs/tensorflow2_p310/lib/python3.10/site-packages (from pydantic>=1.10.7->argilla==1.29.1->-r eval_requirements.txt (line 3)) (0.7.0)\n",
      "Requirement already satisfied: pydantic-core==2.20.1 in /home/ec2-user/anaconda3/envs/tensorflow2_p310/lib/python3.10/site-packages (from pydantic>=1.10.7->argilla==1.29.1->-r eval_requirements.txt (line 3)) (2.20.1)\n",
      "Requirement already satisfied: charset-normalizer<4,>=2 in /home/ec2-user/anaconda3/envs/tensorflow2_p310/lib/python3.10/site-packages (from requests>=2.19.0->datasets==2.17.1->datasets[s3]==2.17.1->-r eval_requirements.txt (line 1)) (3.3.2)\n",
      "Requirement already satisfied: urllib3<3,>=1.21.1 in /home/ec2-user/anaconda3/envs/tensorflow2_p310/lib/python3.10/site-packages (from requests>=2.19.0->datasets==2.17.1->datasets[s3]==2.17.1->-r eval_requirements.txt (line 1)) (2.2.1)\n",
      "Requirement already satisfied: markdown-it-py>=2.2.0 in /home/ec2-user/anaconda3/envs/tensorflow2_p310/lib/python3.10/site-packages (from rich!=13.1.0->argilla==1.29.1->-r eval_requirements.txt (line 3)) (3.0.0)\n",
      "Requirement already satisfied: pygments<3.0.0,>=2.13.0 in /home/ec2-user/anaconda3/envs/tensorflow2_p310/lib/python3.10/site-packages (from rich!=13.1.0->argilla==1.29.1->-r eval_requirements.txt (line 3)) (2.18.0)\n",
      "Requirement already satisfied: scipy>=1.6.0 in /home/ec2-user/anaconda3/envs/tensorflow2_p310/lib/python3.10/site-packages (from scikit-learn>=0.21.3->seqeval->-r eval_requirements.txt (line 2)) (1.13.1)\n",
      "Requirement already satisfied: joblib>=1.2.0 in /home/ec2-user/anaconda3/envs/tensorflow2_p310/lib/python3.10/site-packages (from scikit-learn>=0.21.3->seqeval->-r eval_requirements.txt (line 2)) (1.4.2)\n",
      "Requirement already satisfied: threadpoolctl>=3.1.0 in /home/ec2-user/anaconda3/envs/tensorflow2_p310/lib/python3.10/site-packages (from scikit-learn>=0.21.3->seqeval->-r eval_requirements.txt (line 2)) (3.5.0)\n",
      "Requirement already satisfied: click<9.0.0,>=7.1.1 in /home/ec2-user/anaconda3/envs/tensorflow2_p310/lib/python3.10/site-packages (from typer<0.10.0,>=0.6.0->argilla==1.29.1->-r eval_requirements.txt (line 3)) (8.1.7)\n",
      "Requirement already satisfied: botocore>=1.12.91 in /home/ec2-user/anaconda3/envs/tensorflow2_p310/lib/python3.10/site-packages (from s3fs->datasets[s3]==2.17.1->-r eval_requirements.txt (line 1)) (1.34.142)\n",
      "Requirement already satisfied: jmespath<2.0.0,>=0.7.1 in /home/ec2-user/anaconda3/envs/tensorflow2_p310/lib/python3.10/site-packages (from botocore>=1.12.91->s3fs->datasets[s3]==2.17.1->-r eval_requirements.txt (line 1)) (1.0.1)\n",
      "Requirement already satisfied: mdurl~=0.1 in /home/ec2-user/anaconda3/envs/tensorflow2_p310/lib/python3.10/site-packages (from markdown-it-py>=2.2.0->rich!=13.1.0->argilla==1.29.1->-r eval_requirements.txt (line 3)) (0.1.2)\n",
      "Requirement already satisfied: six>=1.5 in /home/ec2-user/anaconda3/envs/tensorflow2_p310/lib/python3.10/site-packages (from python-dateutil>=2.8.1->pandas->datasets==2.17.1->datasets[s3]==2.17.1->-r eval_requirements.txt (line 1)) (1.16.0)\n",
      "Requirement already satisfied: exceptiongroup>=1.0.2 in /home/ec2-user/anaconda3/envs/tensorflow2_p310/lib/python3.10/site-packages (from anyio->httpx<=0.26,>=0.15->argilla==1.29.1->-r eval_requirements.txt (line 3)) (1.2.0)\n",
      "Using cached argilla-1.29.1-py3-none-any.whl (417 kB)\n",
      "Downloading httpx-0.26.0-py3-none-any.whl (75 kB)\n",
      "\u001b[2K   \u001b[90m━━━━━━━━━━━━━━━━━━━━━━━━━━━━━━━━━━━━━━━━\u001b[0m \u001b[32m75.9/75.9 kB\u001b[0m \u001b[31m8.6 MB/s\u001b[0m eta \u001b[36m0:00:00\u001b[0m\n",
      "\u001b[?25hUsing cached typer-0.9.4-py3-none-any.whl (45 kB)\n",
      "Using cached wrapt-1.14.1-cp310-cp310-manylinux_2_5_x86_64.manylinux1_x86_64.manylinux_2_17_x86_64.manylinux2014_x86_64.whl (77 kB)\n",
      "Installing collected packages: wrapt, typer, httpx, argilla\n",
      "  Attempting uninstall: wrapt\n",
      "    Found existing installation: wrapt 1.13.3\n",
      "    Uninstalling wrapt-1.13.3:\n",
      "      Successfully uninstalled wrapt-1.13.3\n",
      "  Attempting uninstall: httpx\n",
      "    Found existing installation: httpx 0.27.0\n",
      "    Uninstalling httpx-0.27.0:\n",
      "      Successfully uninstalled httpx-0.27.0\n",
      "  Attempting uninstall: argilla\n",
      "    Found existing installation: argilla 2.0.0\n",
      "    Uninstalling argilla-2.0.0:\n",
      "      Successfully uninstalled argilla-2.0.0\n",
      "Successfully installed argilla-1.29.1 httpx-0.26.0 typer-0.9.4 wrapt-1.14.1\n",
      "Note: you may need to restart the kernel to use updated packages.\n"
     ]
    }
   ],
   "source": [
    "%pip install -r eval_requirements.txt\n"
   ]
  },
  {
   "cell_type": "code",
   "execution_count": 8,
   "id": "0ad97bff-559d-4586-bb88-b4eb13c5dc3f",
   "metadata": {
    "tags": []
   },
   "outputs": [],
   "source": [
    "from datasets import load_dataset\n",
    "import argilla as rg\n",
    "import json\n",
    "import re\n",
    "from typing import List, Tuple\n",
    "import json\n",
    "from utils import compute_argilla_entities\n",
    "import os\n",
    "from dotenv import load_dotenv\n",
    "\n",
    "load_dotenv(\"../env.txt\")\n",
    "\n",
    "# dataset used\n",
    "data_path = 'MichaelAI23/English_CVs'"
   ]
  },
  {
   "cell_type": "code",
   "execution_count": 10,
   "id": "09483e2e-64b3-4cad-9d37-2992b1dccf69",
   "metadata": {
    "tags": []
   },
   "outputs": [
    {
     "data": {
      "text/plain": [
       "Dataset({\n",
       "    features: ['output', 'hobbies', 'personal', 'work_experience', 'skills', 'academia', 'education', 'overall'],\n",
       "    num_rows: 1000\n",
       "})"
      ]
     },
     "execution_count": 10,
     "metadata": {},
     "output_type": "execute_result"
    }
   ],
   "source": [
    "data = load_dataset(data_path)\n",
    "data[\"train\"]"
   ]
  },
  {
   "cell_type": "code",
   "execution_count": 11,
   "id": "44affcee-132e-40ff-ab5e-894b1f1b6fa3",
   "metadata": {
    "tags": []
   },
   "outputs": [],
   "source": [
    "train_val = data[\"train\"].train_test_split(\n",
    "    test_size=100, shuffle=True, seed=42\n",
    ")"
   ]
  },
  {
   "cell_type": "code",
   "execution_count": 12,
   "id": "8de299d6-78dd-4afe-ac78-a7c7093b2c85",
   "metadata": {
    "tags": []
   },
   "outputs": [],
   "source": [
    "train_data = train_val[\"train\"]\n",
    "val_data = train_val[\"test\"]"
   ]
  },
  {
   "cell_type": "code",
   "execution_count": null,
   "id": "851b0c37-3239-4f46-bffd-d6fb2f8a077c",
   "metadata": {},
   "outputs": [],
   "source": []
  },
  {
   "cell_type": "code",
   "execution_count": 9,
   "id": "1699e2c3-e942-40f1-a78e-81f68ac5fe48",
   "metadata": {
    "tags": []
   },
   "outputs": [
    {
     "name": "stderr",
     "output_type": "stream",
     "text": [
      "/home/ec2-user/anaconda3/envs/tensorflow2_p310/lib/python3.10/site-packages/argilla/client/client.py:195: UserWarning: You're connecting to Argilla Server 1.26.0 using a different client version (1.29.1).\n",
      "This may lead to potential compatibility issues during your experience.\n",
      "To ensure a seamless and optimized connection, we highly recommend aligning your client version with the server version.\n",
      "  warnings.warn(\n"
     ]
    }
   ],
   "source": [
    "rg.init(\n",
    "    api_url=os.getenv(\"ARGILLA_API_URL\"),\n",
    "    api_key=os.getenv(\"ARGILLA_API_KEY\"),\n",
    "    workspace=\"admin\"\n",
    ")"
   ]
  },
  {
   "cell_type": "code",
   "execution_count": 13,
   "id": "1ebfbaa4-774a-4e4f-829f-279890eed0e6",
   "metadata": {
    "tags": []
   },
   "outputs": [],
   "source": [
    "CV_text = val_data[0][\"overall\"]"
   ]
  },
  {
   "cell_type": "code",
   "execution_count": 14,
   "id": "bf877060-a28e-448e-a133-6c4f93fae7ef",
   "metadata": {
    "tags": []
   },
   "outputs": [
    {
     "data": {
      "text/plain": [
       "'As a Business Analyst at TechSolutions Inc., I was responsible for analyzing market trends and providing strategic recommendations to drive business growth. I started my role in January 2014 after graduating in 2012 and continued until December 2018, where I successfully implemented data-driven solutions that improved operational efficiency.\\n- Published research paper on \"The Impact of Data Analytics in Business Decision Making\" in Journal of Business Intelligence, 2012\\n- Co-authored a study on \"Predictive Modeling for Customer Churn Analysis\" in International Conference on Business Analytics, 2013\\n- Presented findings on \"Optimizing Supply Chain Management through Big Data Analysis\" at the Annual Meeting of Operations Research Society, 2014\\n- Contributed to a book chapter titled \"Emerging Trends in Business Forecasting Techniques\" published by Springer, 2015\\n- Received Best Paper Award for research on \"Machine Learning Applications in Marketing Strategy Development\" at the Academy of Management Conference, 2016\\nExperienced Business Analyst with a proven track record of leveraging data-driven insights to drive strategic decision-making and improve operational efficiency. Skilled in conducting thorough market research, analyzing complex business processes, and developing innovative solutions to optimize performance. Proficient in translating technical requirements into user-friendly reports and presentations for stakeholders at all levels. Adept at collaborating cross-functionally to deliver actionable recommendations that align with organizational goals and drive sustainable growth.\\nMichael Lima is a guest at The Burj Al Arab Jumeirah in Dubai, UAE. His mailing address is P.O. Box 74147, Dubai, United Arab Emirates. He can be reached by phone at +971-4-3017777. Michael Lima enjoys the luxurious amenities and stunning views offered by the iconic hotel.\\n'"
      ]
     },
     "execution_count": 14,
     "metadata": {},
     "output_type": "execute_result"
    }
   ],
   "source": [
    "CV_text"
   ]
  },
  {
   "cell_type": "code",
   "execution_count": 15,
   "id": "05087cd7-fd32-4599-b9ec-05161dc893f9",
   "metadata": {
    "tags": []
   },
   "outputs": [],
   "source": [
    "output = val_data[0][\"output\"]"
   ]
  },
  {
   "cell_type": "markdown",
   "id": "59cc8afc-4f33-4384-80d7-12384e0199ae",
   "metadata": {},
   "source": [
    "#### Compare predictions and the labels"
   ]
  },
  {
   "cell_type": "code",
   "execution_count": 17,
   "id": "9651ce46-89be-4deb-a875-129c8eca6365",
   "metadata": {
    "tags": []
   },
   "outputs": [],
   "source": [
    "with open(f\"textmarker_predictions.json\", \"r\", encoding=\"utf-8\") as fp:\n",
    "    CV_preds = json.load(fp)[\"model_preds\"]"
   ]
  },
  {
   "cell_type": "code",
   "execution_count": 18,
   "id": "678354d8-719e-4f22-9318-b0cc64a2416f",
   "metadata": {
    "tags": []
   },
   "outputs": [],
   "source": [
    "preds = list(CV_preds.values())\n",
    "preds = [pred[0][\"generated_text\"] for pred in preds]"
   ]
  },
  {
   "cell_type": "code",
   "execution_count": 19,
   "id": "c63484d8-7d46-41df-bb0c-f69736a0c2be",
   "metadata": {
    "tags": []
   },
   "outputs": [
    {
     "data": {
      "text/plain": [
       "\"{'pe': {'s': 'Michael', 'e': ' hotel.'}, 'ed': {'s': '', 'e': ''}, 'wo': {'s': 'As', 'e': ' efficiency.'}, 'sk': {'s': 'Experienced', 'e': ' growth.'}}\""
      ]
     },
     "execution_count": 19,
     "metadata": {},
     "output_type": "execute_result"
    }
   ],
   "source": [
    "preds[0]"
   ]
  },
  {
   "cell_type": "code",
   "execution_count": 20,
   "id": "6ca15432-412f-4e99-8baa-3e22e8632404",
   "metadata": {
    "tags": []
   },
   "outputs": [],
   "source": [
    "labels = val_data[\"output\"]"
   ]
  },
  {
   "cell_type": "code",
   "execution_count": 21,
   "id": "39356ad2-3460-4f70-8053-d82d5ba75e58",
   "metadata": {
    "tags": []
   },
   "outputs": [
    {
     "data": {
      "text/plain": [
       "{'pe': {'s': 'Michael', 'e': ' hotel.'},\n",
       " 'ed': {'s': '', 'e': ''},\n",
       " 'wo': {'s': 'As', 'e': ' efficiency.'},\n",
       " 'sk': {'s': 'Experienced', 'e': ' growth.'}}"
      ]
     },
     "execution_count": 21,
     "metadata": {},
     "output_type": "execute_result"
    }
   ],
   "source": [
    "json.loads(preds[0].replace(\"\\'\", \"\\\"\"))"
   ]
  },
  {
   "cell_type": "code",
   "execution_count": 22,
   "id": "61db68e7-32f7-494a-aef1-16a44c52acd0",
   "metadata": {
    "tags": []
   },
   "outputs": [
    {
     "data": {
      "text/plain": [
       "True"
      ]
     },
     "execution_count": 22,
     "metadata": {},
     "output_type": "execute_result"
    }
   ],
   "source": [
    "json.loads(labels[0].replace(\"\\'\", \"\\\"\")) == json.loads(preds[0].replace(\"\\'\", \"\\\"\"))"
   ]
  },
  {
   "cell_type": "code",
   "execution_count": 23,
   "id": "40e5d3e8-4aec-4578-bc7f-4359b360131f",
   "metadata": {
    "tags": []
   },
   "outputs": [
    {
     "name": "stdout",
     "output_type": "stream",
     "text": [
      "- Proficient in designing complex technical solutions that align with business objectives and requirements, demonstrating a deep understanding of architecture principles and best practices.\n",
      "- Skilled in translating high-level business strategies into detailed technical designs, ensuring scalability, security, and performance are considered at every stage of the solution development process.\n",
      "- Experienced in leading cross-functional teams and collaborating with stakeholders to drive consensus on architectural decisions, fostering a culture of innovation and continuous improvement.\n",
      "- Proven ability to communicate effectively with both technical and non-technical audiences, presenting complex ideas in a clear and concise manner to facilitate decision-making and project success.\n",
      "- Co-authored a research paper on \"Optimizing Cloud Solutions for Scalability\" published in the International Journal of Cloud Computing in 2020.\n",
      "- Presented findings on \"Integration Strategies for Enterprise Systems\" at the IEEE Conference on Software Architecture in 2021.\n",
      "- Contributed to a chapter on \"Emerging Trends in Digital Transformation\" in a book titled \"Innovations in Information Technology\" released in 2022.\n",
      "- Published an article on \"Security Considerations in IoT Architectures\" in the Journal of Internet of Things Research in 2023.\n",
      "Jose Cruz can be reached at jose.cruz@example.com. He resides at 123 Lakeview Drive, Udaipur, India. For any inquiries, he can be contacted at +91-9876543210.\n",
      "Solution Architect, 2020 - Present at Tech Solutions Inc.\n",
      "- Design and implement end-to-end solutions for clients in various industries\n",
      "- Collaborate with cross-functional teams to ensure successful delivery of projects\n",
      "I enjoy mountain biking on weekends to stay active and explore nature. In addition, I have a passion for photography and love capturing beautiful moments in landscapes and portraits. Furthermore, I find relaxation in playing the guitar and creating music in my free time.\n",
      "- Bachelor of Science in Computer Science, KTH Royal Institute of Technology, Stockholm, Sweden, 2017\n",
      "- Master of Science in Information Systems, Lund University, Lund, Sweden, 2019\n",
      "- Certified Solution Architect, Swedish Association of IT Professionals, 2020\n",
      "{'pe': {'s': 'Jose', 'e': '-9876543210.'}, 'ed': {'s': '- Bachelor', 'e': ', 2020'}, 'wo': {'s': 'Solution', 'e': ' projects'}, 'sk': {'s': '- Proficient', 'e': ' success.'}}\n",
      "{'pe': {'s': 'Jose', 'e': '-9876543210.'}, 'ed': {'s': '- Bachelor', 'e': ', 2020'}, 'wo': {'s': 'Solution Architect', 'e': ' projects'}, 'sk': {'s': '- Proficient', 'e': ' success.'}}\n",
      "1\n",
      "- I enjoy playing golf in my free time and love spending hours on the course perfecting my swing.\n",
      "- Photography is another passion of mine, capturing beautiful moments and landscapes brings me joy.\n",
      "- Cooking is a relaxing hobby for me, experimenting with new recipes and flavors is always exciting.\n",
      "- Traveling to different countries and immersing myself in different cultures is something I look forward to every chance I get.\n",
      "- Reading fiction novels is a great way for me to unwind and escape into different worlds.\n",
      "A bachelor's degree in Business Administration from Bocconi University in 2011 and a master's degree in Finance from the same university in 2014 were successfully completed.\n",
      "Business Analyst, 2016 - 2018 at Deloitte\n",
      "- Conducted data analysis and market research to support client projects.\n",
      "- Collaborated with cross-functional teams to develop business strategies based on findings.\n",
      "- Presented insights and recommendations to senior management for decision-making.\n",
      "\n",
      "Senior Business Analyst, 2018 - 2020 at Amazon\n",
      "- Led a team of analysts in analyzing customer behavior and sales trends.\n",
      "- Implemented process improvements that resulted in a 15% increase in operational efficiency.\n",
      "- Prepared detailed reports and dashboards for executive leadership.\n",
      "The individual began publishing academic articles related to business analysis in 2014, contributing valuable insights and research findings to the field. Their publications have provided a scholarly perspective on various aspects of business analytics and decision-making processes.\n",
      "Experienced Business Analyst with a proven track record of driving strategic decision-making through data analysis and interpretation. Skilled in identifying key business trends and opportunities to optimize processes and increase efficiency. Proficient in creating detailed reports and presentations that effectively communicate complex information to stakeholders at all levels. Strong background in project management, stakeholder engagement, and cross-functional collaboration.\n",
      "- Mail: ava.schmidt@theraffles.com\n",
      "- Address: The Raffles, Anse Takamaka, Seychelles\n",
      "- Phone: +248 1234567\n",
      "- Name: Ava Schmidt\n",
      "- LinkedIn: linkedin.com/in/ava-schmidt\n",
      "{'pe': {'s': '- Mail', 'e': '-schmidt'}, 'ed': {'s': 'A bachelor', 'e': ' completed.'}, 'wo': {'s': 'Business Analyst', 'e': ' leadership.'}, 'sk': {'s': 'Experienced', 'e': ' collaboration.'}}\n",
      "{'pe': {'s': '- Mail', 'e': '-schmidt'}, 'ed': {'s': 'A', 'e': ' completed.'}, 'wo': {'s': 'Business Analyst', 'e': ' leadership.'}, 'sk': {'s': 'Experienced', 'e': ' collaboration.'}}\n",
      "2\n",
      "- I enjoy playing golf in my free time, it's a great way to relax and stay active.\n",
      "- I have a passion for cooking and love trying out new recipes in the kitchen.\n",
      "- Photography is another hobby of mine; capturing moments and scenes through my camera lens brings me joy.\n",
      "- I am an avid reader and always have a book on hand to dive into different worlds and stories.\n",
      "- Traveling is something I look forward to, exploring new places and experiencing different cultures is enriching.\n",
      "\n",
      "1. As a Data Scientist at TechInsight, I led the development of predictive models to optimize customer segmentation strategies from 2010 to 2013.\n",
      "2. At Analytix Solutions, I spearheaded the implementation of machine learning algorithms for fraud detection in financial transactions between 2014 and 2017.\n",
      "3. Serving as the Lead Data Scientist at InnovateData, I designed and deployed natural language processing solutions for sentiment analysis from 2018 to 2021.\n",
      "4. During my tenure at InfoAnalytics, I collaborated with cross-functional teams to create interactive dashboards for real-time data visualization between 2022 and 2025.\n",
      "\n",
      "- Proficient in advanced statistical analysis and machine learning techniques to derive actionable insights from complex datasets, driving data-driven decision-making within the organization.\n",
      "- Skilled in programming languages such as Python and R for data manipulation and visualization, with a proven track record of developing predictive models that optimize business processes and enhance performance.\n",
      "\n",
      "Amelia Gomes, a resident of The Peninsula in Tokyo, Japan, can be reached at ameliagomes@peninsula.com. Her address is 123 Sakura Street, Suite 456, Tokyo, Japan. You can contact her by phone at +81-12-3456-7890. Amelia Gomes is known for her warm personality and love for exploring the vibrant city of Tokyo.\n",
      "\n",
      "- Publication Title: \"Predictive Modeling of Customer Churn in Telecommunication Industry\"\n",
      "  Journal: International Journal of Data Science and Analytics\n",
      "  Year: 2008\n",
      "\n",
      "- Publication Title: \"Sentiment Analysis of Social Media Data Using Machine Learning Techniques\"\n",
      "  Conference: IEEE International Conference on Data Mining\n",
      "  Year: 2010\n",
      "\n",
      "- Publication Title: \"Anomaly Detection in Network Traffic Using Deep Learning Algorithms\"\n",
      "  Journal: ACM Transactions on Knowledge Discovery from Data\n",
      "  Year: 2012\n",
      "\n",
      "- Publication Title: \"Forecasting Stock Prices with Long Short-Term Memory Networks\"\n",
      "  Conference: Neural Information Processing Systems (NIPS)\n",
      "  Year: 2014\n",
      "\n",
      "- Publication Title: \"A Survey of Feature Selection Methods for High-Dimensional Data\"\n",
      "  Journal: Journal of Machine Learning Research\n",
      "  Year: 2016\n",
      "\n",
      "- Publication Title: \"Explainable AI: Interpretable Models for Decision Support Systems\"\n",
      "  Conference: AAAI Conference on Artificial Intelligence\n",
      "  Year: 2018\n",
      "{'pe': {'s': 'Amelia', 'e': ' of Tokyo.'}, 'ed': {'s': '', 'e': ''}, 'wo': {'s': '1', 'e': ' visualization between 2022 and 2025.'}, 'sk': {'s': '- Proficient', 'e': ' performance.'}}\n",
      "{'pe': {'s': 'Amelia', 'e': ' of Tokyo.'}, 'ed': {'s': '', 'e': ''}, 'wo': {'s': '1', 'e': ' 2025.'}, 'sk': {'s': '- Proficient', 'e': ' performance.'}}\n",
      "3\n",
      "- I enjoy mountain biking on weekends and exploring new trails in the great outdoors.\n",
      "- Cooking is a passion of mine, and I love experimenting with different recipes and cuisines.\n",
      "- Photography is another hobby that allows me to capture beautiful moments and scenes through my lens.\n",
      "- I am an avid reader and always have a book or two on my nightstand that I delve into before bed.\n",
      "- Traveling is a big part of my life, and I love immersing myself in different cultures and trying new foods.\n",
      "\n",
      "As a skilled Data Engineer, I possess a deep understanding of data modeling and database design, allowing me to create efficient and scalable data pipelines. My expertise in programming languages such as Python and SQL enables me to manipulate and analyze large datasets with precision and accuracy. With experience in cloud platforms like AWS and Google Cloud, I can deploy and manage data infrastructure effectively. Additionally, my strong problem-solving skills and attention to detail ensure that data processes are optimized for maximum performance.\n",
      "\n",
      "Data Engineer, 2021 - Present at TechCorp\n",
      "- Design and implement scalable data pipelines to process and analyze large volumes of structured and unstructured data.\n",
      "- Collaborate with cross-functional teams to optimize data storage and retrieval processes for improved efficiency.\n",
      "- Develop and maintain ETL processes to ensure data quality and integrity in a cloud-based environment.\n",
      "\n",
      "Intern Data Engineer, Summer 2020 at BigData Co.\n",
      "- Assisted senior engineers in building data ingestion pipelines using Apache Kafka and Spark.\n",
      "- Conducted performance testing and optimization on existing data processing workflows.\n",
      "- Contributed to the development of automated monitoring and alerting systems for real-time data processing.\n",
      "\n",
      "- Bachelor of Science in Computer Science, University of California, Berkeley, 2018\n",
      "- Master of Science in Data Engineering, Stanford University, 2021\n",
      "\n",
      "\n",
      "{'pe': {'s': '', 'e': ''}, 'ed': {'s': '- Bachelor', 'e': ', 2021'}, 'wo': {'s': 'Data Engineer, 2021', 'e': ' systems for real-time data processing.'}, 'sk': {'s': 'As', 'e': ' performance.'}}\n",
      "{'pe': {'s': '', 'e': ''}, 'ed': {'s': '- Bachelor', 'e': ', 2021'}, 'wo': {'s': 'Data Engineer, 2021', 'e': '-time data processing.'}, 'sk': {'s': 'As', 'e': ' performance.'}}\n",
      "4\n",
      "\n",
      "- Proficient in designing and implementing scalable data pipelines using tools such as Apache Spark and Kafka, with a strong focus on optimizing performance and reliability.\n",
      "- Skilled in building and maintaining data infrastructure on cloud platforms like AWS, leveraging services like S3, Redshift, and EMR to enable efficient data processing and analysis.\n",
      "- I enjoy mountain biking on weekends and exploring new trails in the great outdoors.\n",
      "- Cooking is a passion of mine, and I love experimenting with different recipes and cuisines.\n",
      "- Photography is another hobby that allows me to capture beautiful moments and scenes through my lens.\n",
      "- I am an avid reader and always have a book or two on my nightstand that I delve into before bed.\n",
      "- Traveling is a big part of my life, and I love immersing myself in different cultures and trying new foods.\n",
      "1. As a Data Engineer at TechData Solutions, I led the development of scalable data pipelines from 2014 to 2017, enabling real-time analytics for our clients in the e-commerce sector.\n",
      "\n",
      "2. At CloudWorks Innovations, I designed and implemented a cloud-based data lake architecture between 2018 and 2020, improving data accessibility and processing efficiency across multiple business units.\n",
      "\n",
      "3. From 2021 to present, as a Senior Data Engineer at Insightful Analytics Co., I have been instrumental in building machine learning models that drive personalized recommendations for our users, leveraging my expertise gained since graduating in 2012.\n",
      "{'pe': {'s': '', 'e': ''}, 'ed': {'s': '', 'e': ''}, 'wo': {'s': '1. As', 'e': ' 2012.'}, 'sk': {'s': '- Proficient', 'e': ' analysis.'}}\n",
      "{'pe': {'s': '', 'e': ''}, 'ed': {'s': '', 'e': ''}, 'wo': {'s': '1', 'e': ' 2012.'}, 'sk': {'s': '- Proficient', 'e': ' analysis.'}}\n",
      "5\n",
      "- Proficient in designing complex technical solutions that align with business objectives, leveraging a deep understanding of cloud technologies and architecture patterns.\n",
      "- Skilled at translating high-level requirements into detailed design specifications, ensuring scalability, reliability, and security of the solution.\n",
      "- Experienced in collaborating with cross-functional teams to drive successful implementation and delivery of projects within tight timelines.\n",
      "Caleb Gonçalves can be reached at caleb.goncalves@email.com for any inquiries. He resides at 123 Palm Avenue, Mumbai, India and his phone number is +91-9876543210. Caleb Gonçalves is a distinguished guest at The St. Regis in Mumbai, known for his impeccable taste and style.\n",
      "Solution Architect, 2014 - Present at Tech Solutions Inc.\n",
      "- Design and implement innovative solutions for clients in various industries to address their complex business challenges.\n",
      "- Collaborate with cross-functional teams to ensure the successful delivery of projects on time and within budget.\n",
      "- Provide technical expertise and guidance to stakeholders to optimize system performance and drive continuous improvement initiatives.\n",
      "I am a Solution Architect who enjoys skiing in the winter, painting landscapes during my free time, and playing the guitar to unwind after a long day at work.\n",
      "- Title: \"Enhancing Cloud Security Through Multi-Factor Authentication Mechanisms\"\n",
      "  Journal: International Journal of Information Security\n",
      "  Year: 2014\n",
      "\n",
      "- Title: \"Optimizing Data Storage Solutions for Scalable Applications in the Cloud Environment\"\n",
      "  Conference: IEEE International Conference on Cloud Computing\n",
      "  Year: 2015\n",
      "\n",
      "- Title: \"Integrating Blockchain Technology into Enterprise Solutions for Enhanced Data Integrity\"\n",
      "  Journal: Journal of Information Systems and Technology\n",
      "  Year: 2016\n",
      "\n",
      "- Title: \"Implementing Microservices Architecture for Agile Development in Large Enterprises\"\n",
      "  Conference: ACM Symposium on Software Engineering\n",
      "  Year: 2017\n",
      "\n",
      "- Title: \"Automating Infrastructure Deployment with DevOps Practices in Hybrid Cloud Environments\"\n",
      "  Journal: Journal of Cloud Computing\n",
      "  Year: 2018\n",
      "\n",
      "- Title: \"Ensuring Regulatory Compliance in Healthcare Systems Using Secure Solution Architectures\"\n",
      "  Conference: Health Informatics Conference\n",
      "  Year: 2019\n",
      "{'pe': {'s': 'Caleb', 'e': ' style.'}, 'ed': {'s': '', 'e': ''}, 'wo': {'s': 'Solution', 'e': ' timelines.'}, 'sk': {'s': '- Proficient', 'e': ' timelines.'}}\n",
      "{'pe': {'s': 'Caleb', 'e': ' style.'}, 'ed': {'s': '', 'e': ''}, 'wo': {'s': 'Solution', 'e': ' initiatives.'}, 'sk': {'s': '- Proficient', 'e': ' timelines.'}}\n",
      "6\n",
      "I enjoy mountain biking on weekends to stay active and explore nature. In addition, I have a passion for painting landscapes in my free time as a creative outlet that is completely unrelated to my work as a Data Scientist.\n",
      "- Mail: ava.schmidt@theraffles.com\n",
      "- Address: The Raffles, Anse Takamaka, Seychelles\n",
      "- Phone: +248 1234567\n",
      "- Name: Ava Schmidt\n",
      "- LinkedIn: linkedin.com/in/ava-schmidt\n",
      "Data Scientist, 2014 - 2016 at Google\n",
      "- Developed machine learning models to optimize search engine algorithms and improve user experience.\n",
      "- Collaborated with cross-functional teams to extract insights from large datasets and drive data-driven decision-making processes.\n",
      "A bachelor's degree in Computer Science from Universidad Complutense de Madrid in 2010 and a master's degree in Data Science from Universidad Politécnica de Madrid in 2014 were successfully completed.\n",
      "- Proficient in statistical analysis and machine learning techniques to derive insights from complex datasets\n",
      "- Skilled in data visualization tools such as Tableau and Power BI to communicate findings effectively to stakeholders\n",
      "- Experienced in programming languages like Python and R for data manipulation and model building\n",
      "- Strong background in experimental design and hypothesis testing to drive data-driven decision-making processes\n",
      "{'pe': {'s': '- Mail', 'e': '-schmidt'}, 'ed': {'s': 'A bachelor', 'e': ' completed.'}, 'wo': {'s': 'Data Scientist, 2014', 'e': ' processes.'}, 'sk': {'s': '- Proficient', 'e': ' processes.'}}\n",
      "{'pe': {'s': '- Mail', 'e': '-schmidt'}, 'ed': {'s': 'A bachelor', 'e': ' completed.'}, 'wo': {'s': 'Data Scientist, 2014', 'e': ' processes.'}, 'sk': {'s': '- Proficient', 'e': ' processes'}}\n",
      "7\n",
      "I am a Business Analyst who enjoys rock climbing in my free time, challenging myself to reach new heights. Additionally, I have a passion for photography, capturing moments and scenes that inspire me creatively.\n",
      "Business Analyst, 2019 - Present at XYZ Corporation\n",
      "- Conducted market research and data analysis to identify key trends and opportunities for business growth.\n",
      "- Collaborated with cross-functional teams to develop and implement strategies that improved operational efficiency and customer satisfaction.\n",
      "\n",
      "Intern Business Analyst, Summer 2018 at ABC Consulting Firm\n",
      "- Assisted senior analysts in gathering and analyzing data to support client projects and recommendations.\n",
      "- Prepared reports and presentations for clients, summarizing findings and providing actionable insights for decision-making.\n",
      "The individual began publishing academic research in the field of business analysis in 2019, contributing valuable insights and knowledge to the scholarly community. Their publications demonstrate a deep understanding of data analysis and decision-making processes within various business contexts.\n",
      "\n",
      "A bachelor's degree in Business Administration from the University of California, Berkeley in 2016 and a master's degree in Business Analytics from Stanford University in 2019 were successfully completed.\n",
      "Experienced Business Analyst with a proven track record of driving strategic decision-making through data analysis and market research. Skilled in translating complex business requirements into actionable insights to optimize processes and enhance overall performance.\n",
      "{'pe': {'s': '', 'e': ''}, 'ed': {'s': 'A bachelor', 'e': ' completed.'}, 'wo': {'s': 'Business', 'e': '-making.'}, 'sk': {'s': 'Experienced', 'e': ' performance.'}}\n",
      "{'pe': {'s': '', 'e': ''}, 'ed': {'s': 'A bachelor', 'e': ' completed.'}, 'wo': {'s': 'Business Analyst, 2019', 'e': '-making.'}, 'sk': {'s': 'Experienced', 'e': ' performance.'}}\n",
      "8\n",
      "- Mail: charlotte.cunha@peninsula.com\n",
      "- Address: The Peninsula, 19 Avenue Kléber, 75116 Paris, France\n",
      "- Phone: +33 1 58 12 28 88\n",
      "- Name: Charlotte Cunha\n",
      "- LinkedIn: linkedin.com/in/charlotte-cunha\n",
      "\n",
      "- Proficient in conducting thorough data analysis and translating complex information into actionable insights to drive strategic decision-making within the organization.\n",
      "- Skilled in identifying key business trends, opportunities for improvement, and developing innovative solutions to enhance operational efficiency and achieve business objectives.\n",
      "\n",
      "- I enjoy swimming in my free time to stay active and relax.\n",
      "- I have a passion for photography and love capturing beautiful moments.\n",
      "- Cooking is one of my favorite hobbies, and I often experiment with new recipes.\n",
      "- Gardening is a therapeutic activity for me, and I take pride in tending to my plants.\n",
      "- Traveling is a big part of my life, and I love exploring new cultures and cuisines.\n",
      "- Reading is a hobby that helps me unwind and expand my knowledge on various topics.\n",
      "\n",
      "\n",
      "\n",
      "- Master's in Business Administration, INSEAD, 2008\n",
      "- Bachelor's in Economics, Université Paris-Dauphine, 2006\n",
      "- Certification in Data Analysis, Ecole Polytechnique, 2007\n",
      "\n",
      "Business Analyst, 2008 - 2012 at IBM\n",
      "- Conducted market research and data analysis to identify key trends and opportunities for business growth.\n",
      "- Collaborated with cross-functional teams to develop strategic plans and recommendations based on analytical insights.\n",
      "- Presented findings and recommendations to senior management to drive informed decision-making.\n",
      "\n",
      "Senior Business Analyst, 2012 - 2016 at Microsoft\n",
      "- Led a team of analysts in conducting complex data modeling and forecasting to support product development initiatives.\n",
      "- Implemented process improvements and automation tools to streamline data collection and analysis procedures.\n",
      "- Worked closely with stakeholders to define project requirements and ensure alignment with business objectives.\n",
      "{'pe': {'s': '- Mail', 'e': '-cunha'}, 'ed': {'s': '- Master', 'e': ', 2007'}, 'wo': {'s': 'Business', 'e': ' objectives.'}, 'sk': {'s': '- Proficient', 'e': ' objectives.'}}\n",
      "{'pe': {'s': '- Mail', 'e': '-cunha'}, 'ed': {'s': '- Master', 'e': ', 2007'}, 'wo': {'s': 'Business Analyst', 'e': ' objectives.'}, 'sk': {'s': '- Proficient', 'e': ' objectives.'}}\n",
      "9\n"
     ]
    }
   ],
   "source": [
    "sum = 0\n",
    "for i in range(len(labels)):\n",
    "    if json.loads(preds[i].replace(\"\\'\", \"\\\"\")) != json.loads(labels[i].replace(\"\\'\", \"\\\"\")):\n",
    "        print(val_data[\"overall\"][i])\n",
    "        print(preds[i])\n",
    "        print(labels[i])\n",
    "        sum += 1\n",
    "        print(sum)"
   ]
  },
  {
   "cell_type": "code",
   "execution_count": 19,
   "id": "9efe4f7e-824d-4c02-ba57-687d7b98b479",
   "metadata": {
    "tags": []
   },
   "outputs": [
    {
     "name": "stdout",
     "output_type": "stream",
     "text": [
      "- Proficient in designing complex technical solutions that align with business objectives and requirements, demonstrating a deep understanding of architecture principles and best practices.\n",
      "- Skilled in translating high-level business strategies into detailed technical designs, ensuring scalability, security, and performance are considered at every stage of the solution development process.\n",
      "- Experienced in leading cross-functional teams and collaborating with stakeholders to drive consensus on architectural decisions, fostering a culture of innovation and continuous improvement.\n",
      "- Proven ability to communicate effectively with both technical and non-technical audiences, presenting complex ideas in a clear and concise manner to facilitate decision-making and project success.\n",
      "- Co-authored a research paper on \"Optimizing Cloud Solutions for Scalability\" published in the International Journal of Cloud Computing in 2020.\n",
      "- Presented findings on \"Integration Strategies for Enterprise Systems\" at the IEEE Conference on Software Architecture in 2021.\n",
      "- Contributed to a chapter on \"Emerging Trends in Digital Transformation\" in a book titled \"Innovations in Information Technology\" released in 2022.\n",
      "- Published an article on \"Security Considerations in IoT Architectures\" in the Journal of Internet of Things Research in 2023.\n",
      "Jose Cruz can be reached at jose.cruz@example.com. He resides at 123 Lakeview Drive, Udaipur, India. For any inquiries, he can be contacted at +91-9876543210.\n",
      "Solution Architect, 2020 - Present at Tech Solutions Inc.\n",
      "- Design and implement end-to-end solutions for clients in various industries\n",
      "- Collaborate with cross-functional teams to ensure successful delivery of projects\n",
      "I enjoy mountain biking on weekends to stay active and explore nature. In addition, I have a passion for photography and love capturing beautiful moments in landscapes and portraits. Furthermore, I find relaxation in playing the guitar and creating music in my free time.\n",
      "- Bachelor of Science in Computer Science, KTH Royal Institute of Technology, Stockholm, Sweden, 2017\n",
      "- Master of Science in Information Systems, Lund University, Lund, Sweden, 2019\n",
      "- Certified Solution Architect, Swedish Association of IT Professionals, 2020\n",
      "{'pe':{'s': 'Jose', 'e': '-9876543210.'}, 'ed':{'s': '- Bachelor', 'e': ', 2020'}, 'wo':{'s': 'Solution', 'e': ' projects'}, 'sk':{'s': '- Proficient', 'e': ' success.'}}\n",
      "{'pe': {'s': 'Jose', 'e': '-9876543210.'}, 'ed': {'s': '- Bachelor', 'e': ', 2020'}, 'wo': {'s': 'Solution Architect', 'e': ' projects'}, 'sk': {'s': '- Proficient', 'e': ' success.'}}\n",
      "1\n",
      "As a Data Scientist at TechGen Analytics, I utilized machine learning algorithms to optimize customer segmentation strategies from 2022 to 2024. Following my graduation in 2022, I joined DataTech Solutions as a Senior Data Scientist where I led a team in developing predictive models for financial forecasting until 2026.\n",
      "\n",
      "- Master of Science in Data Science, University of Edinburgh, 2022\n",
      "- Bachelor of Science in Computer Science with a specialization in Artificial Intelligence, University of Cambridge, 2019\n",
      "\n",
      "As a Data Scientist, I possess advanced proficiency in statistical analysis and machine learning techniques, allowing me to derive valuable insights from complex datasets. My expertise in programming languages such as Python and R enables me to develop sophisticated data models and algorithms to solve real-world problems efficiently. With a strong background in data visualization and storytelling, I excel at communicating technical findings to non-technical stakeholders in a clear and compelling manner.\n",
      "\n",
      "- \"Predictive Modeling for Customer Churn Analysis Using Machine Learning Techniques,\" International Journal of Data Science, 2022\n",
      "- \"Exploring the Impact of Feature Engineering on Model Performance in Natural Language Processing Tasks,\" IEEE Transactions on Big Data, 2023\n",
      "- \"An Ensemble Approach to Time Series Forecasting: A Case Study in Financial Markets,\" Journal of Artificial Intelligence Research, 2024\n",
      "- \"Interpretable Machine Learning Models for Healthcare Predictive Analytics,\" ACM Transactions on Intelligent Systems and Technology, 2025\n",
      "- \"Ethical Considerations in Data Science: Addressing Bias and Fairness in Algorithmic Decision-Making,\" Proceedings of the AAAI Conference on Artificial Intelligence, 2026\n",
      "\n",
      "- I enjoy dancing in my free time, especially salsa and hip-hop.\n",
      "- I love hiking and exploring the great outdoors on weekends.\n",
      "- Cooking is a passion of mine, and I often experiment with new recipes.\n",
      "- Painting and sketching help me unwind and tap into my creative side.\n",
      "- Playing the guitar is another hobby that brings me joy and relaxation.\n",
      "- I am an avid reader and always have a book on hand to dive into different worlds.\n",
      "\n",
      "Sophia Lima from The Mandarin Oriental in Hong Kong can be reached at sophialima@mandarinoriental.com. Her address is 123 Luxury Lane, Central District, Hong Kong, and her phone number is +852-9876-5432.\n",
      "{'pe':{'s': 'Sophia', 'e': '-5432.'}, 'ed':{'s': '- Master', 'e': ', 2019'}, 'wo':{'s': 'As', 'e': ' 2026.'}, 'sk':{'s': 'As a', 'e': ' manner.'}}\n",
      "{'pe': {'s': 'Sophia', 'e': '-5432.'}, 'ed': {'s': '- Master', 'e': ', 2019'}, 'wo': {'s': 'As', 'e': ' 2026.'}, 'sk': {'s': 'As a Data Scientist, I', 'e': ' manner.'}}\n",
      "2\n",
      "\n",
      "- Proficient in designing and implementing scalable data pipelines using tools such as Apache Spark and Kafka, with a strong focus on optimizing performance and reliability.\n",
      "- Skilled in building and maintaining data infrastructure on cloud platforms like AWS, leveraging services like S3, Redshift, and EMR to enable efficient data processing and analysis.\n",
      "- I enjoy mountain biking on weekends and exploring new trails in the great outdoors.\n",
      "- Cooking is a passion of mine, and I love experimenting with different recipes and cuisines.\n",
      "- Photography is another hobby that allows me to capture beautiful moments and scenes through my lens.\n",
      "- I am an avid reader and always have a book or two on my nightstand that I delve into before bed.\n",
      "- Traveling is a big part of my life, and I love immersing myself in different cultures and trying new foods.\n",
      "1. As a Data Engineer at TechData Solutions, I led the development of scalable data pipelines from 2014 to 2017, enabling real-time analytics for our clients in the e-commerce sector.\n",
      "\n",
      "2. At CloudWorks Innovations, I designed and implemented a cloud-based data lake architecture between 2018 and 2020, improving data accessibility and processing efficiency across multiple business units.\n",
      "\n",
      "3. From 2021 to present, as a Senior Data Engineer at Insightful Analytics Co., I have been instrumental in building machine learning models that drive personalized recommendations for our users, leveraging my expertise gained since graduating in 2012.\n",
      "{'pe':{'s': '', 'e': ''}, 'ed':{'s': '', 'e': ''}, 'wo':{'s': '1. As', 'e': ' 2012.'}, 'sk':{'s': '- Proficient', 'e': ' analysis.'}}\n",
      "{'pe': {'s': '', 'e': ''}, 'ed': {'s': '', 'e': ''}, 'wo': {'s': '1', 'e': ' 2012.'}, 'sk': {'s': '- Proficient', 'e': ' analysis.'}}\n",
      "3\n",
      "I enjoy mountain biking on weekends to stay active and explore nature. In addition, I have a passion for painting landscapes in my free time as a creative outlet that is completely unrelated to my work as a Data Scientist.\n",
      "- Mail: ava.schmidt@theraffles.com\n",
      "- Address: The Raffles, Anse Takamaka, Seychelles\n",
      "- Phone: +248 1234567\n",
      "- Name: Ava Schmidt\n",
      "- LinkedIn: linkedin.com/in/ava-schmidt\n",
      "Data Scientist, 2014 - 2016 at Google\n",
      "- Developed machine learning models to optimize search engine algorithms and improve user experience.\n",
      "- Collaborated with cross-functional teams to extract insights from large datasets and drive data-driven decision-making processes.\n",
      "A bachelor's degree in Computer Science from Universidad Complutense de Madrid in 2010 and a master's degree in Data Science from Universidad Politécnica de Madrid in 2014 were successfully completed.\n",
      "- Proficient in statistical analysis and machine learning techniques to derive insights from complex datasets\n",
      "- Skilled in data visualization tools such as Tableau and Power BI to communicate findings effectively to stakeholders\n",
      "- Experienced in programming languages like Python and R for data manipulation and model building\n",
      "- Strong background in experimental design and hypothesis testing to drive data-driven decision-making processes\n",
      "{'pe':{'s': '- Mail', 'e': '-schmidt'}, 'ed':{'s': 'A bachelor', 'e': ' completed.'}, 'wo':{'s': 'Data', 'e': ' processes.'}, 'sk':{'s': '- Proficient', 'e': ' processes'}}\n",
      "{'pe': {'s': '- Mail', 'e': '-schmidt'}, 'ed': {'s': 'A bachelor', 'e': ' completed.'}, 'wo': {'s': 'Data Scientist, 2014', 'e': ' processes.'}, 'sk': {'s': '- Proficient', 'e': ' processes'}}\n",
      "4\n",
      "I enjoy mountain biking on weekends to stay active and explore nature. In addition, I have a passion for photography and love capturing beautiful moments in landscapes and portraits. Furthermore, I find relaxation in playing the guitar and creating music in my free time.\n",
      "\n",
      "- Proficient in designing complex technical solutions that align with business objectives and requirements, demonstrating a deep understanding of architecture principles and best practices.\n",
      "- Skilled in translating high-level business strategies into detailed technical designs, ensuring scalability, security, and performance are considered at every stage of the solution development process.\n",
      "- Experienced in leading cross-functional teams and collaborating with stakeholders to drive consensus on architectural decisions, fostering a culture of innovation and continuous improvement.\n",
      "- Proven ability to communicate effectively with both technical and non-technical audiences, presenting complex ideas in a clear and concise manner to facilitate decision-making and project success.\n",
      "\n",
      "\n",
      "\n",
      "A bachelor's degree in Computer Science from Aalto University in 2013 was successfully completed by the Finnish Solution Architect.\n",
      "\n",
      "Solution Architect, 2015 - 2017 at IBM\n",
      "- Designed and implemented complex IT solutions for clients in various industries.\n",
      "- Collaborated with cross-functional teams to ensure successful delivery of projects on time and within budget.\n",
      "- Provided technical expertise and guidance to support sales efforts and client relationships.\n",
      "\n",
      "Senior Solution Architect, 2017 - 2020 at Microsoft\n",
      "- Led a team of solution architects in developing innovative cloud-based solutions for enterprise customers.\n",
      "- Defined architecture standards and best practices to drive consistency and quality across projects.\n",
      "- Engaged with key stakeholders to understand business requirements and translate them into technical solutions.\n",
      "{'pe':{'s': '', 'e': ''}, 'ed':{'s': 'A bachelor', 'e': ' Architect.'}, 'wo':{'s': 'Solution Architect, 2015', 'e': ' technical solutions.'}, 'sk':{'s': '- Proficient', 'e': ' success.'}}\n",
      "{'pe': {'s': '', 'e': ''}, 'ed': {'s': 'A', 'e': ' Architect.'}, 'wo': {'s': 'Solution Architect, 2015', 'e': ' technical solutions.'}, 'sk': {'s': '- Proficient', 'e': ' success.'}}\n",
      "5\n",
      "\n",
      "\n",
      "- Proficient in designing complex technical solutions that align with business objectives, leveraging a deep understanding of enterprise architecture principles and best practices.\n",
      "- Skilled at collaborating with cross-functional teams to gather requirements, analyze system capabilities, and propose innovative solutions that drive operational efficiency and enhance user experience.\n",
      "- Experienced in presenting technical concepts to non-technical stakeholders in a clear and concise manner, demonstrating strong communication and problem-solving skills.\n",
      "\n",
      "1. As a Solution Architect at TechSolve Innovations, I led the design and implementation of cutting-edge solutions for our clients in the healthcare industry from 2020 to 2022.\n",
      "2. Starting my career journey as a Solution Architect at DataGenius Solutions in 2019, I collaborated with cross-functional teams to deliver scalable and secure software solutions that exceeded client expectations.\n",
      "3. From 2021 to 2023, I served as a Solution Architect at CloudVision Technologies, where I played a key role in architecting cloud-based solutions for global enterprises, leveraging my expertise gained since graduating in 2019.\n",
      "\n",
      "- Mail: luna.melo@slshotels.com\n",
      "- Address: The SLS Beverly Hills, Los Angeles, USA\n",
      "- Phone: +1 (310) 123-4567\n",
      "- Name: Luna Melo\n",
      "- LinkedIn: linkedin.com/in/lunamelo\n",
      "\n",
      "- Bachelor of Science in Computer Science, University of Cambridge, 2016\n",
      "- Master of Business Administration, London School of Economics, 2018\n",
      "- Professional Certification in Enterprise Architecture, British Computer Society, 2019\n",
      "{'pe':{'s': '- Mail', 'e': '/lunamelo'}, 'ed':{'s': '- Bachelor', 'e': ', 2019'}, 'wo':{'s': '1. As', 'e': ' graduating in 2019.'}, 'sk':{'s': '- Proficient', 'e': ' skills.'}}\n",
      "{'pe': {'s': '- Mail', 'e': '/lunamelo'}, 'ed': {'s': '- Bachelor', 'e': ', 2019'}, 'wo': {'s': '1', 'e': ' graduating in 2019.'}, 'sk': {'s': '- Proficient', 'e': ' skills.'}}\n",
      "6\n"
     ]
    }
   ],
   "source": [
    "sum = 0\n",
    "for i in range(len(labels)):\n",
    "    if json.loads(preds[i].replace(\"\\'\", \"\\\"\")) != json.loads(labels[i].replace(\"\\'\", \"\\\"\")):\n",
    "        print(val_data[\"overall\"][i])\n",
    "        print(preds[i])\n",
    "        print(labels[i])\n",
    "        sum += 1\n",
    "        print(sum)"
   ]
  },
  {
   "cell_type": "code",
   "execution_count": 17,
   "id": "b7c21712-e8a8-400a-a18a-a939741e7f28",
   "metadata": {
    "tags": []
   },
   "outputs": [
    {
     "name": "stdout",
     "output_type": "stream",
     "text": [
      "- Proficient in designing complex technical solutions that align with business objectives and requirements, demonstrating a deep understanding of architecture principles and best practices.\n",
      "- Skilled in translating high-level business strategies into detailed technical designs, ensuring scalability, security, and performance are considered at every stage of the solution development process.\n",
      "- Experienced in leading cross-functional teams and collaborating with stakeholders to drive consensus on architectural decisions, fostering a culture of innovation and continuous improvement.\n",
      "- Proven ability to communicate effectively with both technical and non-technical audiences, presenting complex ideas in a clear and concise manner to facilitate decision-making and project success.\n",
      "- Co-authored a research paper on \"Optimizing Cloud Solutions for Scalability\" published in the International Journal of Cloud Computing in 2020.\n",
      "- Presented findings on \"Integration Strategies for Enterprise Systems\" at the IEEE Conference on Software Architecture in 2021.\n",
      "- Contributed to a chapter on \"Emerging Trends in Digital Transformation\" in a book titled \"Innovations in Information Technology\" released in 2022.\n",
      "- Published an article on \"Security Considerations in IoT Architectures\" in the Journal of Internet of Things Research in 2023.\n",
      "Jose Cruz can be reached at jose.cruz@example.com. He resides at 123 Lakeview Drive, Udaipur, India. For any inquiries, he can be contacted at +91-9876543210.\n",
      "Solution Architect, 2020 - Present at Tech Solutions Inc.\n",
      "- Design and implement end-to-end solutions for clients in various industries\n",
      "- Collaborate with cross-functional teams to ensure successful delivery of projects\n",
      "I enjoy mountain biking on weekends to stay active and explore nature. In addition, I have a passion for photography and love capturing beautiful moments in landscapes and portraits. Furthermore, I find relaxation in playing the guitar and creating music in my free time.\n",
      "- Bachelor of Science in Computer Science, KTH Royal Institute of Technology, Stockholm, Sweden, 2017\n",
      "- Master of Science in Information Systems, Lund University, Lund, Sweden, 2019\n",
      "- Certified Solution Architect, Swedish Association of IT Professionals, 2020\n",
      "{'pe': {'s': 'Jose', 'e': '-9876543210.'}, 'ed': {'s': '- Bachelor', 'e': ', 2020'}, 'wo': {'s': 'Solution', 'e': ' projects'}, 'sk': {'s': '- Proficient', 'e': ' success.'}}\n",
      "{'pe': {'s': 'Jose', 'e': '-9876543210.'}, 'ed': {'s': '- Bachelor', 'e': ', 2020'}, 'wo': {'s': 'Solution Architect', 'e': ' projects'}, 'sk': {'s': '- Proficient', 'e': ' success.'}}\n",
      "1\n",
      "- I enjoy playing golf in my free time and love spending hours on the course perfecting my swing.\n",
      "- Photography is another passion of mine, capturing beautiful moments and landscapes brings me joy.\n",
      "- Cooking is a relaxing hobby for me, experimenting with new recipes and flavors is always exciting.\n",
      "- Traveling to different countries and immersing myself in different cultures is something I look forward to every chance I get.\n",
      "- Reading fiction novels is a great way for me to unwind and escape into different worlds.\n",
      "A bachelor's degree in Business Administration from Bocconi University in 2011 and a master's degree in Finance from the same university in 2014 were successfully completed.\n",
      "Business Analyst, 2016 - 2018 at Deloitte\n",
      "- Conducted data analysis and market research to support client projects.\n",
      "- Collaborated with cross-functional teams to develop business strategies based on findings.\n",
      "- Presented insights and recommendations to senior management for decision-making.\n",
      "\n",
      "Senior Business Analyst, 2018 - 2020 at Amazon\n",
      "- Led a team of analysts in analyzing customer behavior and sales trends.\n",
      "- Implemented process improvements that resulted in a 15% increase in operational efficiency.\n",
      "- Prepared detailed reports and dashboards for executive leadership.\n",
      "The individual began publishing academic articles related to business analysis in 2014, contributing valuable insights and research findings to the field. Their publications have provided a scholarly perspective on various aspects of business analytics and decision-making processes.\n",
      "Experienced Business Analyst with a proven track record of driving strategic decision-making through data analysis and interpretation. Skilled in identifying key business trends and opportunities to optimize processes and increase efficiency. Proficient in creating detailed reports and presentations that effectively communicate complex information to stakeholders at all levels. Strong background in project management, stakeholder engagement, and cross-functional collaboration.\n",
      "- Mail: ava.schmidt@theraffles.com\n",
      "- Address: The Raffles, Anse Takamaka, Seychelles\n",
      "- Phone: +248 1234567\n",
      "- Name: Ava Schmidt\n",
      "- LinkedIn: linkedin.com/in/ava-schmidt\n",
      "{'pe': {'s': '- Mail', 'e': '-schmidt'}, 'ed': {'s': 'A bachelor', 'e': ' completed.'}, 'wo': {'s': 'Business Analyst', 'e': ' leadership.'}, 'sk': {'s': 'Experienced', 'e': ' collaboration.'}}\n",
      "{'pe': {'s': '- Mail', 'e': '-schmidt'}, 'ed': {'s': 'A', 'e': ' completed.'}, 'wo': {'s': 'Business Analyst', 'e': ' leadership.'}, 'sk': {'s': 'Experienced', 'e': ' collaboration.'}}\n",
      "2\n",
      "- I enjoy playing golf in my free time, it's a great way to relax and stay active.\n",
      "- I have a passion for cooking and love trying out new recipes in the kitchen.\n",
      "- Photography is another hobby of mine; capturing moments and scenes through my camera lens brings me joy.\n",
      "- I am an avid reader and always have a book on hand to dive into different worlds and stories.\n",
      "- Traveling is something I look forward to, exploring new places and experiencing different cultures is enriching.\n",
      "\n",
      "1. As a Data Scientist at TechInsight, I led the development of predictive models to optimize customer segmentation strategies from 2010 to 2013.\n",
      "2. At Analytix Solutions, I spearheaded the implementation of machine learning algorithms for fraud detection in financial transactions between 2014 and 2017.\n",
      "3. Serving as the Lead Data Scientist at InnovateData, I designed and deployed natural language processing solutions for sentiment analysis from 2018 to 2021.\n",
      "4. During my tenure at InfoAnalytics, I collaborated with cross-functional teams to create interactive dashboards for real-time data visualization between 2022 and 2025.\n",
      "\n",
      "- Proficient in advanced statistical analysis and machine learning techniques to derive actionable insights from complex datasets, driving data-driven decision-making within the organization.\n",
      "- Skilled in programming languages such as Python and R for data manipulation and visualization, with a proven track record of developing predictive models that optimize business processes and enhance performance.\n",
      "\n",
      "Amelia Gomes, a resident of The Peninsula in Tokyo, Japan, can be reached at ameliagomes@peninsula.com. Her address is 123 Sakura Street, Suite 456, Tokyo, Japan. You can contact her by phone at +81-12-3456-7890. Amelia Gomes is known for her warm personality and love for exploring the vibrant city of Tokyo.\n",
      "\n",
      "- Publication Title: \"Predictive Modeling of Customer Churn in Telecommunication Industry\"\n",
      "  Journal: International Journal of Data Science and Analytics\n",
      "  Year: 2008\n",
      "\n",
      "- Publication Title: \"Sentiment Analysis of Social Media Data Using Machine Learning Techniques\"\n",
      "  Conference: IEEE International Conference on Data Mining\n",
      "  Year: 2010\n",
      "\n",
      "- Publication Title: \"Anomaly Detection in Network Traffic Using Deep Learning Algorithms\"\n",
      "  Journal: ACM Transactions on Knowledge Discovery from Data\n",
      "  Year: 2012\n",
      "\n",
      "- Publication Title: \"Forecasting Stock Prices with Long Short-Term Memory Networks\"\n",
      "  Conference: Neural Information Processing Systems (NIPS)\n",
      "  Year: 2014\n",
      "\n",
      "- Publication Title: \"A Survey of Feature Selection Methods for High-Dimensional Data\"\n",
      "  Journal: Journal of Machine Learning Research\n",
      "  Year: 2016\n",
      "\n",
      "- Publication Title: \"Explainable AI: Interpretable Models for Decision Support Systems\"\n",
      "  Conference: AAAI Conference on Artificial Intelligence\n",
      "  Year: 2018\n",
      "{'pe': {'s': 'Amelia', 'e': ' of Tokyo.'}, 'ed': {'s': '', 'e': ''}, 'wo': {'s': '1', 'e': ' visualization between 2022 and 2025.'}, 'sk': {'s': '- Proficient', 'e': ' performance.'}}\n",
      "{'pe': {'s': 'Amelia', 'e': ' of Tokyo.'}, 'ed': {'s': '', 'e': ''}, 'wo': {'s': '1', 'e': ' 2025.'}, 'sk': {'s': '- Proficient', 'e': ' performance.'}}\n",
      "3\n",
      "- I enjoy mountain biking on weekends and exploring new trails in the great outdoors.\n",
      "- Cooking is a passion of mine, and I love experimenting with different recipes and cuisines.\n",
      "- Photography is another hobby that allows me to capture beautiful moments and scenes through my lens.\n",
      "- I am an avid reader and always have a book or two on my nightstand that I delve into before bed.\n",
      "- Traveling is a big part of my life, and I love immersing myself in different cultures and trying new foods.\n",
      "\n",
      "As a skilled Data Engineer, I possess a deep understanding of data modeling and database design, allowing me to create efficient and scalable data pipelines. My expertise in programming languages such as Python and SQL enables me to manipulate and analyze large datasets with precision and accuracy. With experience in cloud platforms like AWS and Google Cloud, I can deploy and manage data infrastructure effectively. Additionally, my strong problem-solving skills and attention to detail ensure that data processes are optimized for maximum performance.\n",
      "\n",
      "Data Engineer, 2021 - Present at TechCorp\n",
      "- Design and implement scalable data pipelines to process and analyze large volumes of structured and unstructured data.\n",
      "- Collaborate with cross-functional teams to optimize data storage and retrieval processes for improved efficiency.\n",
      "- Develop and maintain ETL processes to ensure data quality and integrity in a cloud-based environment.\n",
      "\n",
      "Intern Data Engineer, Summer 2020 at BigData Co.\n",
      "- Assisted senior engineers in building data ingestion pipelines using Apache Kafka and Spark.\n",
      "- Conducted performance testing and optimization on existing data processing workflows.\n",
      "- Contributed to the development of automated monitoring and alerting systems for real-time data processing.\n",
      "\n",
      "- Bachelor of Science in Computer Science, University of California, Berkeley, 2018\n",
      "- Master of Science in Data Engineering, Stanford University, 2021\n",
      "\n",
      "\n",
      "{'pe': {'s': '', 'e': ''}, 'ed': {'s': '- Bachelor', 'e': ', 2021'}, 'wo': {'s': 'Data Engineer, 2021', 'e': ' systems for real-time data processing.'}, 'sk': {'s': 'As', 'e': ' performance.'}}\n",
      "{'pe': {'s': '', 'e': ''}, 'ed': {'s': '- Bachelor', 'e': ', 2021'}, 'wo': {'s': 'Data Engineer, 2021', 'e': '-time data processing.'}, 'sk': {'s': 'As', 'e': ' performance.'}}\n",
      "4\n",
      "\n",
      "- Proficient in designing and implementing scalable data pipelines using tools such as Apache Spark and Kafka, with a strong focus on optimizing performance and reliability.\n",
      "- Skilled in building and maintaining data infrastructure on cloud platforms like AWS, leveraging services like S3, Redshift, and EMR to enable efficient data processing and analysis.\n",
      "- I enjoy mountain biking on weekends and exploring new trails in the great outdoors.\n",
      "- Cooking is a passion of mine, and I love experimenting with different recipes and cuisines.\n",
      "- Photography is another hobby that allows me to capture beautiful moments and scenes through my lens.\n",
      "- I am an avid reader and always have a book or two on my nightstand that I delve into before bed.\n",
      "- Traveling is a big part of my life, and I love immersing myself in different cultures and trying new foods.\n",
      "1. As a Data Engineer at TechData Solutions, I led the development of scalable data pipelines from 2014 to 2017, enabling real-time analytics for our clients in the e-commerce sector.\n",
      "\n",
      "2. At CloudWorks Innovations, I designed and implemented a cloud-based data lake architecture between 2018 and 2020, improving data accessibility and processing efficiency across multiple business units.\n",
      "\n",
      "3. From 2021 to present, as a Senior Data Engineer at Insightful Analytics Co., I have been instrumental in building machine learning models that drive personalized recommendations for our users, leveraging my expertise gained since graduating in 2012.\n",
      "{'pe': {'s': '', 'e': ''}, 'ed': {'s': '', 'e': ''}, 'wo': {'s': '1. As', 'e': ' 2012.'}, 'sk': {'s': '- Proficient', 'e': ' analysis.'}}\n",
      "{'pe': {'s': '', 'e': ''}, 'ed': {'s': '', 'e': ''}, 'wo': {'s': '1', 'e': ' 2012.'}, 'sk': {'s': '- Proficient', 'e': ' analysis.'}}\n",
      "5\n",
      "- Proficient in designing complex technical solutions that align with business objectives, leveraging a deep understanding of cloud technologies and architecture patterns.\n",
      "- Skilled at translating high-level requirements into detailed design specifications, ensuring scalability, reliability, and security of the solution.\n",
      "- Experienced in collaborating with cross-functional teams to drive successful implementation and delivery of projects within tight timelines.\n",
      "Caleb Gonçalves can be reached at caleb.goncalves@email.com for any inquiries. He resides at 123 Palm Avenue, Mumbai, India and his phone number is +91-9876543210. Caleb Gonçalves is a distinguished guest at The St. Regis in Mumbai, known for his impeccable taste and style.\n",
      "Solution Architect, 2014 - Present at Tech Solutions Inc.\n",
      "- Design and implement innovative solutions for clients in various industries to address their complex business challenges.\n",
      "- Collaborate with cross-functional teams to ensure the successful delivery of projects on time and within budget.\n",
      "- Provide technical expertise and guidance to stakeholders to optimize system performance and drive continuous improvement initiatives.\n",
      "I am a Solution Architect who enjoys skiing in the winter, painting landscapes during my free time, and playing the guitar to unwind after a long day at work.\n",
      "- Title: \"Enhancing Cloud Security Through Multi-Factor Authentication Mechanisms\"\n",
      "  Journal: International Journal of Information Security\n",
      "  Year: 2014\n",
      "\n",
      "- Title: \"Optimizing Data Storage Solutions for Scalable Applications in the Cloud Environment\"\n",
      "  Conference: IEEE International Conference on Cloud Computing\n",
      "  Year: 2015\n",
      "\n",
      "- Title: \"Integrating Blockchain Technology into Enterprise Solutions for Enhanced Data Integrity\"\n",
      "  Journal: Journal of Information Systems and Technology\n",
      "  Year: 2016\n",
      "\n",
      "- Title: \"Implementing Microservices Architecture for Agile Development in Large Enterprises\"\n",
      "  Conference: ACM Symposium on Software Engineering\n",
      "  Year: 2017\n",
      "\n",
      "- Title: \"Automating Infrastructure Deployment with DevOps Practices in Hybrid Cloud Environments\"\n",
      "  Journal: Journal of Cloud Computing\n",
      "  Year: 2018\n",
      "\n",
      "- Title: \"Ensuring Regulatory Compliance in Healthcare Systems Using Secure Solution Architectures\"\n",
      "  Conference: Health Informatics Conference\n",
      "  Year: 2019\n",
      "{'pe': {'s': 'Caleb', 'e': ' style.'}, 'ed': {'s': '', 'e': ''}, 'wo': {'s': 'Solution', 'e': ' timelines.'}, 'sk': {'s': '- Proficient', 'e': ' timelines.'}}\n",
      "{'pe': {'s': 'Caleb', 'e': ' style.'}, 'ed': {'s': '', 'e': ''}, 'wo': {'s': 'Solution', 'e': ' initiatives.'}, 'sk': {'s': '- Proficient', 'e': ' timelines.'}}\n",
      "6\n",
      "I enjoy mountain biking on weekends to stay active and explore nature. In addition, I have a passion for painting landscapes in my free time as a creative outlet that is completely unrelated to my work as a Data Scientist.\n",
      "- Mail: ava.schmidt@theraffles.com\n",
      "- Address: The Raffles, Anse Takamaka, Seychelles\n",
      "- Phone: +248 1234567\n",
      "- Name: Ava Schmidt\n",
      "- LinkedIn: linkedin.com/in/ava-schmidt\n",
      "Data Scientist, 2014 - 2016 at Google\n",
      "- Developed machine learning models to optimize search engine algorithms and improve user experience.\n",
      "- Collaborated with cross-functional teams to extract insights from large datasets and drive data-driven decision-making processes.\n",
      "A bachelor's degree in Computer Science from Universidad Complutense de Madrid in 2010 and a master's degree in Data Science from Universidad Politécnica de Madrid in 2014 were successfully completed.\n",
      "- Proficient in statistical analysis and machine learning techniques to derive insights from complex datasets\n",
      "- Skilled in data visualization tools such as Tableau and Power BI to communicate findings effectively to stakeholders\n",
      "- Experienced in programming languages like Python and R for data manipulation and model building\n",
      "- Strong background in experimental design and hypothesis testing to drive data-driven decision-making processes\n",
      "{'pe': {'s': '- Mail', 'e': '-schmidt'}, 'ed': {'s': 'A bachelor', 'e': ' completed.'}, 'wo': {'s': 'Data Scientist, 2014', 'e': ' processes.'}, 'sk': {'s': '- Proficient', 'e': ' processes.'}}\n",
      "{'pe': {'s': '- Mail', 'e': '-schmidt'}, 'ed': {'s': 'A bachelor', 'e': ' completed.'}, 'wo': {'s': 'Data Scientist, 2014', 'e': ' processes.'}, 'sk': {'s': '- Proficient', 'e': ' processes'}}\n",
      "7\n",
      "I am a Business Analyst who enjoys rock climbing in my free time, challenging myself to reach new heights. Additionally, I have a passion for photography, capturing moments and scenes that inspire me creatively.\n",
      "Business Analyst, 2019 - Present at XYZ Corporation\n",
      "- Conducted market research and data analysis to identify key trends and opportunities for business growth.\n",
      "- Collaborated with cross-functional teams to develop and implement strategies that improved operational efficiency and customer satisfaction.\n",
      "\n",
      "Intern Business Analyst, Summer 2018 at ABC Consulting Firm\n",
      "- Assisted senior analysts in gathering and analyzing data to support client projects and recommendations.\n",
      "- Prepared reports and presentations for clients, summarizing findings and providing actionable insights for decision-making.\n",
      "The individual began publishing academic research in the field of business analysis in 2019, contributing valuable insights and knowledge to the scholarly community. Their publications demonstrate a deep understanding of data analysis and decision-making processes within various business contexts.\n",
      "\n",
      "A bachelor's degree in Business Administration from the University of California, Berkeley in 2016 and a master's degree in Business Analytics from Stanford University in 2019 were successfully completed.\n",
      "Experienced Business Analyst with a proven track record of driving strategic decision-making through data analysis and market research. Skilled in translating complex business requirements into actionable insights to optimize processes and enhance overall performance.\n",
      "{'pe': {'s': '', 'e': ''}, 'ed': {'s': 'A bachelor', 'e': ' completed.'}, 'wo': {'s': 'Business', 'e': '-making.'}, 'sk': {'s': 'Experienced', 'e': ' performance.'}}\n",
      "{'pe': {'s': '', 'e': ''}, 'ed': {'s': 'A bachelor', 'e': ' completed.'}, 'wo': {'s': 'Business Analyst, 2019', 'e': '-making.'}, 'sk': {'s': 'Experienced', 'e': ' performance.'}}\n",
      "8\n",
      "- Mail: charlotte.cunha@peninsula.com\n",
      "- Address: The Peninsula, 19 Avenue Kléber, 75116 Paris, France\n",
      "- Phone: +33 1 58 12 28 88\n",
      "- Name: Charlotte Cunha\n",
      "- LinkedIn: linkedin.com/in/charlotte-cunha\n",
      "\n",
      "- Proficient in conducting thorough data analysis and translating complex information into actionable insights to drive strategic decision-making within the organization.\n",
      "- Skilled in identifying key business trends, opportunities for improvement, and developing innovative solutions to enhance operational efficiency and achieve business objectives.\n",
      "\n",
      "- I enjoy swimming in my free time to stay active and relax.\n",
      "- I have a passion for photography and love capturing beautiful moments.\n",
      "- Cooking is one of my favorite hobbies, and I often experiment with new recipes.\n",
      "- Gardening is a therapeutic activity for me, and I take pride in tending to my plants.\n",
      "- Traveling is a big part of my life, and I love exploring new cultures and cuisines.\n",
      "- Reading is a hobby that helps me unwind and expand my knowledge on various topics.\n",
      "\n",
      "\n",
      "\n",
      "- Master's in Business Administration, INSEAD, 2008\n",
      "- Bachelor's in Economics, Université Paris-Dauphine, 2006\n",
      "- Certification in Data Analysis, Ecole Polytechnique, 2007\n",
      "\n",
      "Business Analyst, 2008 - 2012 at IBM\n",
      "- Conducted market research and data analysis to identify key trends and opportunities for business growth.\n",
      "- Collaborated with cross-functional teams to develop strategic plans and recommendations based on analytical insights.\n",
      "- Presented findings and recommendations to senior management to drive informed decision-making.\n",
      "\n",
      "Senior Business Analyst, 2012 - 2016 at Microsoft\n",
      "- Led a team of analysts in conducting complex data modeling and forecasting to support product development initiatives.\n",
      "- Implemented process improvements and automation tools to streamline data collection and analysis procedures.\n",
      "- Worked closely with stakeholders to define project requirements and ensure alignment with business objectives.\n",
      "{'pe': {'s': '- Mail', 'e': '-cunha'}, 'ed': {'s': '- Master', 'e': ', 2007'}, 'wo': {'s': 'Business', 'e': ' objectives.'}, 'sk': {'s': '- Proficient', 'e': ' objectives.'}}\n",
      "{'pe': {'s': '- Mail', 'e': '-cunha'}, 'ed': {'s': '- Master', 'e': ', 2007'}, 'wo': {'s': 'Business Analyst', 'e': ' objectives.'}, 'sk': {'s': '- Proficient', 'e': ' objectives.'}}\n",
      "9\n"
     ]
    }
   ],
   "source": [
    "sum = 0\n",
    "for i in range(len(labels)):\n",
    "    if preds[i] != labels[i]:\n",
    "        print(val_data[\"overall\"][i])\n",
    "        print(preds[i])\n",
    "        print(labels[i])\n",
    "        sum += 1\n",
    "        print(sum)"
   ]
  },
  {
   "cell_type": "code",
   "execution_count": 24,
   "id": "80580fec-8c4c-4be5-89aa-85c03bd999d8",
   "metadata": {
    "tags": []
   },
   "outputs": [],
   "source": [
    "texts = val_data[\"overall\"]\n",
    "labels = val_data[\"output\"]"
   ]
  },
  {
   "cell_type": "code",
   "execution_count": 25,
   "id": "d126dd93-4be6-45f3-a9de-e5463eb98d04",
   "metadata": {
    "tags": []
   },
   "outputs": [
    {
     "data": {
      "text/plain": [
       "\"{'pe': {'s': 'Penelope', 'e': ' reservations.'}, 'ed': {'s': '- Master', 'e': ', 2018'}, 'wo': {'s': '\\\\nAssociate', 'e': ' supervision.'}, 'sk': {'s': '- Proficient', 'e': ' precision.'}}\""
      ]
     },
     "execution_count": 25,
     "metadata": {},
     "output_type": "execute_result"
    }
   ],
   "source": [
    "labels[27]"
   ]
  },
  {
   "cell_type": "code",
   "execution_count": 26,
   "id": "e08c3137-7159-4bd8-9a0b-f93f68a7f676",
   "metadata": {
    "tags": []
   },
   "outputs": [],
   "source": [
    "preds_filtered = [pred for idx, pred in enumerate(preds) if pred != labels[idx]]\n",
    "labels_filtered = [label for idx, label in enumerate(labels) if label != preds[idx]]\n",
    "texts_filtered = [txt for idx, txt in enumerate(texts) if preds[idx] != labels[idx]]"
   ]
  },
  {
   "cell_type": "code",
   "execution_count": 27,
   "id": "e72b0fef-c568-4c36-a628-12b69952859a",
   "metadata": {
    "tags": []
   },
   "outputs": [
    {
     "data": {
      "text/plain": [
       "\"{'pe': {'s': 'Caleb', 'e': ' style.'}, 'ed': {'s': '', 'e': ''}, 'wo': {'s': 'Solution', 'e': ' initiatives.'}, 'sk': {'s': '- Proficient', 'e': ' timelines.'}}\""
      ]
     },
     "execution_count": 27,
     "metadata": {},
     "output_type": "execute_result"
    }
   ],
   "source": [
    "labels_filtered[5]"
   ]
  },
  {
   "cell_type": "code",
   "execution_count": 28,
   "id": "9866e2a5-4aaa-4eb8-9687-99dd5d0271c7",
   "metadata": {
    "tags": []
   },
   "outputs": [
    {
     "data": {
      "text/plain": [
       "\"{'pe': {'s': 'Caleb', 'e': ' style.'}, 'ed': {'s': '', 'e': ''}, 'wo': {'s': 'Solution', 'e': ' timelines.'}, 'sk': {'s': '- Proficient', 'e': ' timelines.'}}\""
      ]
     },
     "execution_count": 28,
     "metadata": {},
     "output_type": "execute_result"
    }
   ],
   "source": [
    "preds_filtered[5]"
   ]
  },
  {
   "cell_type": "code",
   "execution_count": 29,
   "id": "3ad6516a-43b7-40df-92c2-91036d7af493",
   "metadata": {
    "tags": []
   },
   "outputs": [
    {
     "data": {
      "text/plain": [
       "'- Proficient in designing complex technical solutions that align with business objectives, leveraging a deep understanding of cloud technologies and architecture patterns.\\n- Skilled at translating high-level requirements into detailed design specifications, ensuring scalability, reliability, and security of the solution.\\n- Experienced in collaborating with cross-functional teams to drive successful implementation and delivery of projects within tight timelines.\\nCaleb Gonçalves can be reached at caleb.goncalves@email.com for any inquiries. He resides at 123 Palm Avenue, Mumbai, India and his phone number is +91-9876543210. Caleb Gonçalves is a distinguished guest at The St. Regis in Mumbai, known for his impeccable taste and style.\\nSolution Architect, 2014 - Present at Tech Solutions Inc.\\n- Design and implement innovative solutions for clients in various industries to address their complex business challenges.\\n- Collaborate with cross-functional teams to ensure the successful delivery of projects on time and within budget.\\n- Provide technical expertise and guidance to stakeholders to optimize system performance and drive continuous improvement initiatives.\\nI am a Solution Architect who enjoys skiing in the winter, painting landscapes during my free time, and playing the guitar to unwind after a long day at work.\\n- Title: \"Enhancing Cloud Security Through Multi-Factor Authentication Mechanisms\"\\n  Journal: International Journal of Information Security\\n  Year: 2014\\n\\n- Title: \"Optimizing Data Storage Solutions for Scalable Applications in the Cloud Environment\"\\n  Conference: IEEE International Conference on Cloud Computing\\n  Year: 2015\\n\\n- Title: \"Integrating Blockchain Technology into Enterprise Solutions for Enhanced Data Integrity\"\\n  Journal: Journal of Information Systems and Technology\\n  Year: 2016\\n\\n- Title: \"Implementing Microservices Architecture for Agile Development in Large Enterprises\"\\n  Conference: ACM Symposium on Software Engineering\\n  Year: 2017\\n\\n- Title: \"Automating Infrastructure Deployment with DevOps Practices in Hybrid Cloud Environments\"\\n  Journal: Journal of Cloud Computing\\n  Year: 2018\\n\\n- Title: \"Ensuring Regulatory Compliance in Healthcare Systems Using Secure Solution Architectures\"\\n  Conference: Health Informatics Conference\\n  Year: 2019'"
      ]
     },
     "execution_count": 29,
     "metadata": {},
     "output_type": "execute_result"
    }
   ],
   "source": [
    "texts_filtered[5]"
   ]
  },
  {
   "cell_type": "code",
   "execution_count": 30,
   "id": "6fb84e4a-4d98-4ce0-a7ac-48bba5b9ecb1",
   "metadata": {
    "tags": []
   },
   "outputs": [
    {
     "name": "stdout",
     "output_type": "stream",
     "text": [
      "0\n",
      "1\n",
      "2\n",
      "3\n",
      "4\n",
      "5\n",
      "6\n",
      "7\n",
      "8\n",
      "9\n",
      "10\n",
      "11\n",
      "12\n",
      "13\n",
      "14\n",
      "15\n",
      "16\n",
      "17\n",
      "18\n",
      "19\n",
      "20\n",
      "21\n",
      "22\n",
      "23\n",
      "24\n",
      "25\n",
      "26\n",
      "27\n",
      "28\n",
      "29\n",
      "30\n",
      "31\n",
      "32\n",
      "33\n",
      "34\n",
      "35\n",
      "36\n",
      "37\n",
      "38\n",
      "39\n",
      "40\n",
      "41\n",
      "42\n",
      "43\n",
      "44\n",
      "45\n",
      "46\n",
      "47\n",
      "48\n",
      "49\n",
      "50\n",
      "51\n",
      "52\n",
      "53\n",
      "54\n",
      "55\n",
      "56\n",
      "57\n",
      "58\n",
      "59\n",
      "60\n",
      "61\n",
      "62\n",
      "63\n",
      "64\n",
      "65\n",
      "66\n",
      "67\n",
      "68\n",
      "69\n",
      "70\n",
      "71\n",
      "72\n",
      "73\n",
      "74\n",
      "75\n",
      "76\n",
      "77\n",
      "78\n",
      "79\n",
      "80\n",
      "81\n",
      "82\n",
      "83\n",
      "84\n",
      "85\n",
      "86\n",
      "87\n",
      "88\n",
      "89\n",
      "90\n",
      "91\n",
      "92\n",
      "93\n",
      "94\n",
      "95\n",
      "96\n",
      "97\n",
      "98\n",
      "99\n"
     ]
    }
   ],
   "source": [
    "token_dataset = compute_argilla_entities(preds, labels, texts, \"LLM_Textmarker_mistral_7B_02_JsonFormer\")"
   ]
  },
  {
   "cell_type": "code",
   "execution_count": 31,
   "id": "6a2a6f14-5ccb-45fd-bc54-b8481bcf8ec2",
   "metadata": {
    "tags": []
   },
   "outputs": [
    {
     "data": {
      "application/vnd.jupyter.widget-view+json": {
       "model_id": "92959bbfba674de0b9960df199e2adf5",
       "version_major": 2,
       "version_minor": 0
      },
      "text/plain": [
       "Output()"
      ]
     },
     "metadata": {},
     "output_type": "display_data"
    },
    {
     "data": {
      "text/html": [
       "<pre style=\"white-space:pre;overflow-x:auto;line-height:normal;font-family:Menlo,'DejaVu Sans Mono',consolas,'Courier New',monospace\"></pre>\n"
      ],
      "text/plain": []
     },
     "metadata": {},
     "output_type": "display_data"
    },
    {
     "data": {
      "text/html": [
       "<pre style=\"white-space:pre;overflow-x:auto;line-height:normal;font-family:Menlo,'DejaVu Sans Mono',consolas,'Courier New',monospace\">\n",
       "</pre>\n"
      ],
      "text/plain": [
       "\n"
      ]
     },
     "metadata": {},
     "output_type": "display_data"
    },
    {
     "data": {
      "text/html": [
       "<pre style=\"white-space:pre;overflow-x:auto;line-height:normal;font-family:Menlo,'DejaVu Sans Mono',consolas,'Courier New',monospace\"><span style=\"color: #008080; text-decoration-color: #008080; font-weight: bold\">1</span> records logged to <a href=\"https://michaelai23-argillatest.hf.space/datasets/admin/llm_textmarker_with_preds\" target=\"_blank\"><span style=\"color: #0000ff; text-decoration-color: #0000ff; text-decoration: underline\">https://michaelai23-argillatest.hf.space/datasets/admin/llm_textmarker_with_preds</span></a>\n",
       "</pre>\n"
      ],
      "text/plain": [
       "\u001b[1;36m1\u001b[0m records logged to \u001b]8;id=995772;https://michaelai23-argillatest.hf.space/datasets/admin/llm_textmarker_with_preds\u001b\\\u001b[4;94mhttps://michaelai23-argillatest.hf.space/datasets/admin/llm_textmarker_with_preds\u001b[0m\u001b]8;;\u001b\\\n"
      ]
     },
     "metadata": {},
     "output_type": "display_data"
    },
    {
     "data": {
      "application/vnd.jupyter.widget-view+json": {
       "model_id": "d3ba28df8ac04600b6bdc8aae7ac5c7b",
       "version_major": 2,
       "version_minor": 0
      },
      "text/plain": [
       "Output()"
      ]
     },
     "metadata": {},
     "output_type": "display_data"
    },
    {
     "data": {
      "text/html": [
       "<pre style=\"white-space:pre;overflow-x:auto;line-height:normal;font-family:Menlo,'DejaVu Sans Mono',consolas,'Courier New',monospace\"></pre>\n"
      ],
      "text/plain": []
     },
     "metadata": {},
     "output_type": "display_data"
    },
    {
     "data": {
      "text/html": [
       "<pre style=\"white-space:pre;overflow-x:auto;line-height:normal;font-family:Menlo,'DejaVu Sans Mono',consolas,'Courier New',monospace\">\n",
       "</pre>\n"
      ],
      "text/plain": [
       "\n"
      ]
     },
     "metadata": {},
     "output_type": "display_data"
    },
    {
     "data": {
      "text/html": [
       "<pre style=\"white-space:pre;overflow-x:auto;line-height:normal;font-family:Menlo,'DejaVu Sans Mono',consolas,'Courier New',monospace\"><span style=\"color: #008080; text-decoration-color: #008080; font-weight: bold\">1</span> records logged to <a href=\"https://michaelai23-argillatest.hf.space/datasets/admin/llm_textmarker_with_preds\" target=\"_blank\"><span style=\"color: #0000ff; text-decoration-color: #0000ff; text-decoration: underline\">https://michaelai23-argillatest.hf.space/datasets/admin/llm_textmarker_with_preds</span></a>\n",
       "</pre>\n"
      ],
      "text/plain": [
       "\u001b[1;36m1\u001b[0m records logged to \u001b]8;id=491962;https://michaelai23-argillatest.hf.space/datasets/admin/llm_textmarker_with_preds\u001b\\\u001b[4;94mhttps://michaelai23-argillatest.hf.space/datasets/admin/llm_textmarker_with_preds\u001b[0m\u001b]8;;\u001b\\\n"
      ]
     },
     "metadata": {},
     "output_type": "display_data"
    },
    {
     "data": {
      "application/vnd.jupyter.widget-view+json": {
       "model_id": "827c160ef1ac4396971a934cfc8b6e8d",
       "version_major": 2,
       "version_minor": 0
      },
      "text/plain": [
       "Output()"
      ]
     },
     "metadata": {},
     "output_type": "display_data"
    },
    {
     "data": {
      "text/html": [
       "<pre style=\"white-space:pre;overflow-x:auto;line-height:normal;font-family:Menlo,'DejaVu Sans Mono',consolas,'Courier New',monospace\"></pre>\n"
      ],
      "text/plain": []
     },
     "metadata": {},
     "output_type": "display_data"
    },
    {
     "data": {
      "text/html": [
       "<pre style=\"white-space:pre;overflow-x:auto;line-height:normal;font-family:Menlo,'DejaVu Sans Mono',consolas,'Courier New',monospace\">\n",
       "</pre>\n"
      ],
      "text/plain": [
       "\n"
      ]
     },
     "metadata": {},
     "output_type": "display_data"
    },
    {
     "data": {
      "text/html": [
       "<pre style=\"white-space:pre;overflow-x:auto;line-height:normal;font-family:Menlo,'DejaVu Sans Mono',consolas,'Courier New',monospace\"><span style=\"color: #008080; text-decoration-color: #008080; font-weight: bold\">1</span> records logged to <a href=\"https://michaelai23-argillatest.hf.space/datasets/admin/llm_textmarker_with_preds\" target=\"_blank\"><span style=\"color: #0000ff; text-decoration-color: #0000ff; text-decoration: underline\">https://michaelai23-argillatest.hf.space/datasets/admin/llm_textmarker_with_preds</span></a>\n",
       "</pre>\n"
      ],
      "text/plain": [
       "\u001b[1;36m1\u001b[0m records logged to \u001b]8;id=39978;https://michaelai23-argillatest.hf.space/datasets/admin/llm_textmarker_with_preds\u001b\\\u001b[4;94mhttps://michaelai23-argillatest.hf.space/datasets/admin/llm_textmarker_with_preds\u001b[0m\u001b]8;;\u001b\\\n"
      ]
     },
     "metadata": {},
     "output_type": "display_data"
    },
    {
     "data": {
      "application/vnd.jupyter.widget-view+json": {
       "model_id": "8eeffe8ac9f641a386424636f7098d95",
       "version_major": 2,
       "version_minor": 0
      },
      "text/plain": [
       "Output()"
      ]
     },
     "metadata": {},
     "output_type": "display_data"
    },
    {
     "data": {
      "text/html": [
       "<pre style=\"white-space:pre;overflow-x:auto;line-height:normal;font-family:Menlo,'DejaVu Sans Mono',consolas,'Courier New',monospace\"></pre>\n"
      ],
      "text/plain": []
     },
     "metadata": {},
     "output_type": "display_data"
    },
    {
     "data": {
      "text/html": [
       "<pre style=\"white-space:pre;overflow-x:auto;line-height:normal;font-family:Menlo,'DejaVu Sans Mono',consolas,'Courier New',monospace\">\n",
       "</pre>\n"
      ],
      "text/plain": [
       "\n"
      ]
     },
     "metadata": {},
     "output_type": "display_data"
    },
    {
     "data": {
      "text/html": [
       "<pre style=\"white-space:pre;overflow-x:auto;line-height:normal;font-family:Menlo,'DejaVu Sans Mono',consolas,'Courier New',monospace\"><span style=\"color: #008080; text-decoration-color: #008080; font-weight: bold\">1</span> records logged to <a href=\"https://michaelai23-argillatest.hf.space/datasets/admin/llm_textmarker_with_preds\" target=\"_blank\"><span style=\"color: #0000ff; text-decoration-color: #0000ff; text-decoration: underline\">https://michaelai23-argillatest.hf.space/datasets/admin/llm_textmarker_with_preds</span></a>\n",
       "</pre>\n"
      ],
      "text/plain": [
       "\u001b[1;36m1\u001b[0m records logged to \u001b]8;id=319930;https://michaelai23-argillatest.hf.space/datasets/admin/llm_textmarker_with_preds\u001b\\\u001b[4;94mhttps://michaelai23-argillatest.hf.space/datasets/admin/llm_textmarker_with_preds\u001b[0m\u001b]8;;\u001b\\\n"
      ]
     },
     "metadata": {},
     "output_type": "display_data"
    },
    {
     "data": {
      "application/vnd.jupyter.widget-view+json": {
       "model_id": "9ab9b2c7d314435eae3e1e9bcf6f7b31",
       "version_major": 2,
       "version_minor": 0
      },
      "text/plain": [
       "Output()"
      ]
     },
     "metadata": {},
     "output_type": "display_data"
    },
    {
     "data": {
      "text/html": [
       "<pre style=\"white-space:pre;overflow-x:auto;line-height:normal;font-family:Menlo,'DejaVu Sans Mono',consolas,'Courier New',monospace\"></pre>\n"
      ],
      "text/plain": []
     },
     "metadata": {},
     "output_type": "display_data"
    },
    {
     "data": {
      "text/html": [
       "<pre style=\"white-space:pre;overflow-x:auto;line-height:normal;font-family:Menlo,'DejaVu Sans Mono',consolas,'Courier New',monospace\">\n",
       "</pre>\n"
      ],
      "text/plain": [
       "\n"
      ]
     },
     "metadata": {},
     "output_type": "display_data"
    },
    {
     "data": {
      "text/html": [
       "<pre style=\"white-space:pre;overflow-x:auto;line-height:normal;font-family:Menlo,'DejaVu Sans Mono',consolas,'Courier New',monospace\"><span style=\"color: #008080; text-decoration-color: #008080; font-weight: bold\">1</span> records logged to <a href=\"https://michaelai23-argillatest.hf.space/datasets/admin/llm_textmarker_with_preds\" target=\"_blank\"><span style=\"color: #0000ff; text-decoration-color: #0000ff; text-decoration: underline\">https://michaelai23-argillatest.hf.space/datasets/admin/llm_textmarker_with_preds</span></a>\n",
       "</pre>\n"
      ],
      "text/plain": [
       "\u001b[1;36m1\u001b[0m records logged to \u001b]8;id=516194;https://michaelai23-argillatest.hf.space/datasets/admin/llm_textmarker_with_preds\u001b\\\u001b[4;94mhttps://michaelai23-argillatest.hf.space/datasets/admin/llm_textmarker_with_preds\u001b[0m\u001b]8;;\u001b\\\n"
      ]
     },
     "metadata": {},
     "output_type": "display_data"
    },
    {
     "data": {
      "application/vnd.jupyter.widget-view+json": {
       "model_id": "93f1df9fb95041899957fc957a2bfe5b",
       "version_major": 2,
       "version_minor": 0
      },
      "text/plain": [
       "Output()"
      ]
     },
     "metadata": {},
     "output_type": "display_data"
    },
    {
     "data": {
      "text/html": [
       "<pre style=\"white-space:pre;overflow-x:auto;line-height:normal;font-family:Menlo,'DejaVu Sans Mono',consolas,'Courier New',monospace\"></pre>\n"
      ],
      "text/plain": []
     },
     "metadata": {},
     "output_type": "display_data"
    },
    {
     "data": {
      "text/html": [
       "<pre style=\"white-space:pre;overflow-x:auto;line-height:normal;font-family:Menlo,'DejaVu Sans Mono',consolas,'Courier New',monospace\">\n",
       "</pre>\n"
      ],
      "text/plain": [
       "\n"
      ]
     },
     "metadata": {},
     "output_type": "display_data"
    },
    {
     "data": {
      "text/html": [
       "<pre style=\"white-space:pre;overflow-x:auto;line-height:normal;font-family:Menlo,'DejaVu Sans Mono',consolas,'Courier New',monospace\"><span style=\"color: #008080; text-decoration-color: #008080; font-weight: bold\">1</span> records logged to <a href=\"https://michaelai23-argillatest.hf.space/datasets/admin/llm_textmarker_with_preds\" target=\"_blank\"><span style=\"color: #0000ff; text-decoration-color: #0000ff; text-decoration: underline\">https://michaelai23-argillatest.hf.space/datasets/admin/llm_textmarker_with_preds</span></a>\n",
       "</pre>\n"
      ],
      "text/plain": [
       "\u001b[1;36m1\u001b[0m records logged to \u001b]8;id=415909;https://michaelai23-argillatest.hf.space/datasets/admin/llm_textmarker_with_preds\u001b\\\u001b[4;94mhttps://michaelai23-argillatest.hf.space/datasets/admin/llm_textmarker_with_preds\u001b[0m\u001b]8;;\u001b\\\n"
      ]
     },
     "metadata": {},
     "output_type": "display_data"
    },
    {
     "data": {
      "application/vnd.jupyter.widget-view+json": {
       "model_id": "6ea020c15023430eb98f2eb83f35320a",
       "version_major": 2,
       "version_minor": 0
      },
      "text/plain": [
       "Output()"
      ]
     },
     "metadata": {},
     "output_type": "display_data"
    },
    {
     "data": {
      "text/html": [
       "<pre style=\"white-space:pre;overflow-x:auto;line-height:normal;font-family:Menlo,'DejaVu Sans Mono',consolas,'Courier New',monospace\"></pre>\n"
      ],
      "text/plain": []
     },
     "metadata": {},
     "output_type": "display_data"
    },
    {
     "data": {
      "text/html": [
       "<pre style=\"white-space:pre;overflow-x:auto;line-height:normal;font-family:Menlo,'DejaVu Sans Mono',consolas,'Courier New',monospace\">\n",
       "</pre>\n"
      ],
      "text/plain": [
       "\n"
      ]
     },
     "metadata": {},
     "output_type": "display_data"
    },
    {
     "data": {
      "text/html": [
       "<pre style=\"white-space:pre;overflow-x:auto;line-height:normal;font-family:Menlo,'DejaVu Sans Mono',consolas,'Courier New',monospace\"><span style=\"color: #008080; text-decoration-color: #008080; font-weight: bold\">1</span> records logged to <a href=\"https://michaelai23-argillatest.hf.space/datasets/admin/llm_textmarker_with_preds\" target=\"_blank\"><span style=\"color: #0000ff; text-decoration-color: #0000ff; text-decoration: underline\">https://michaelai23-argillatest.hf.space/datasets/admin/llm_textmarker_with_preds</span></a>\n",
       "</pre>\n"
      ],
      "text/plain": [
       "\u001b[1;36m1\u001b[0m records logged to \u001b]8;id=998448;https://michaelai23-argillatest.hf.space/datasets/admin/llm_textmarker_with_preds\u001b\\\u001b[4;94mhttps://michaelai23-argillatest.hf.space/datasets/admin/llm_textmarker_with_preds\u001b[0m\u001b]8;;\u001b\\\n"
      ]
     },
     "metadata": {},
     "output_type": "display_data"
    },
    {
     "data": {
      "application/vnd.jupyter.widget-view+json": {
       "model_id": "809f1df49aaf447aa718cbc2cc273c63",
       "version_major": 2,
       "version_minor": 0
      },
      "text/plain": [
       "Output()"
      ]
     },
     "metadata": {},
     "output_type": "display_data"
    },
    {
     "data": {
      "text/html": [
       "<pre style=\"white-space:pre;overflow-x:auto;line-height:normal;font-family:Menlo,'DejaVu Sans Mono',consolas,'Courier New',monospace\"></pre>\n"
      ],
      "text/plain": []
     },
     "metadata": {},
     "output_type": "display_data"
    },
    {
     "data": {
      "text/html": [
       "<pre style=\"white-space:pre;overflow-x:auto;line-height:normal;font-family:Menlo,'DejaVu Sans Mono',consolas,'Courier New',monospace\">\n",
       "</pre>\n"
      ],
      "text/plain": [
       "\n"
      ]
     },
     "metadata": {},
     "output_type": "display_data"
    },
    {
     "data": {
      "text/html": [
       "<pre style=\"white-space:pre;overflow-x:auto;line-height:normal;font-family:Menlo,'DejaVu Sans Mono',consolas,'Courier New',monospace\"><span style=\"color: #008080; text-decoration-color: #008080; font-weight: bold\">1</span> records logged to <a href=\"https://michaelai23-argillatest.hf.space/datasets/admin/llm_textmarker_with_preds\" target=\"_blank\"><span style=\"color: #0000ff; text-decoration-color: #0000ff; text-decoration: underline\">https://michaelai23-argillatest.hf.space/datasets/admin/llm_textmarker_with_preds</span></a>\n",
       "</pre>\n"
      ],
      "text/plain": [
       "\u001b[1;36m1\u001b[0m records logged to \u001b]8;id=624692;https://michaelai23-argillatest.hf.space/datasets/admin/llm_textmarker_with_preds\u001b\\\u001b[4;94mhttps://michaelai23-argillatest.hf.space/datasets/admin/llm_textmarker_with_preds\u001b[0m\u001b]8;;\u001b\\\n"
      ]
     },
     "metadata": {},
     "output_type": "display_data"
    },
    {
     "data": {
      "application/vnd.jupyter.widget-view+json": {
       "model_id": "a75382c540b84518b28e4055b4e9bf42",
       "version_major": 2,
       "version_minor": 0
      },
      "text/plain": [
       "Output()"
      ]
     },
     "metadata": {},
     "output_type": "display_data"
    },
    {
     "data": {
      "text/html": [
       "<pre style=\"white-space:pre;overflow-x:auto;line-height:normal;font-family:Menlo,'DejaVu Sans Mono',consolas,'Courier New',monospace\"></pre>\n"
      ],
      "text/plain": []
     },
     "metadata": {},
     "output_type": "display_data"
    },
    {
     "data": {
      "text/html": [
       "<pre style=\"white-space:pre;overflow-x:auto;line-height:normal;font-family:Menlo,'DejaVu Sans Mono',consolas,'Courier New',monospace\">\n",
       "</pre>\n"
      ],
      "text/plain": [
       "\n"
      ]
     },
     "metadata": {},
     "output_type": "display_data"
    },
    {
     "data": {
      "text/html": [
       "<pre style=\"white-space:pre;overflow-x:auto;line-height:normal;font-family:Menlo,'DejaVu Sans Mono',consolas,'Courier New',monospace\"><span style=\"color: #008080; text-decoration-color: #008080; font-weight: bold\">1</span> records logged to <a href=\"https://michaelai23-argillatest.hf.space/datasets/admin/llm_textmarker_with_preds\" target=\"_blank\"><span style=\"color: #0000ff; text-decoration-color: #0000ff; text-decoration: underline\">https://michaelai23-argillatest.hf.space/datasets/admin/llm_textmarker_with_preds</span></a>\n",
       "</pre>\n"
      ],
      "text/plain": [
       "\u001b[1;36m1\u001b[0m records logged to \u001b]8;id=8094;https://michaelai23-argillatest.hf.space/datasets/admin/llm_textmarker_with_preds\u001b\\\u001b[4;94mhttps://michaelai23-argillatest.hf.space/datasets/admin/llm_textmarker_with_preds\u001b[0m\u001b]8;;\u001b\\\n"
      ]
     },
     "metadata": {},
     "output_type": "display_data"
    },
    {
     "data": {
      "application/vnd.jupyter.widget-view+json": {
       "model_id": "5ec74bfeb312453aafc06cfc380b5946",
       "version_major": 2,
       "version_minor": 0
      },
      "text/plain": [
       "Output()"
      ]
     },
     "metadata": {},
     "output_type": "display_data"
    },
    {
     "data": {
      "text/html": [
       "<pre style=\"white-space:pre;overflow-x:auto;line-height:normal;font-family:Menlo,'DejaVu Sans Mono',consolas,'Courier New',monospace\"></pre>\n"
      ],
      "text/plain": []
     },
     "metadata": {},
     "output_type": "display_data"
    },
    {
     "data": {
      "text/html": [
       "<pre style=\"white-space:pre;overflow-x:auto;line-height:normal;font-family:Menlo,'DejaVu Sans Mono',consolas,'Courier New',monospace\">\n",
       "</pre>\n"
      ],
      "text/plain": [
       "\n"
      ]
     },
     "metadata": {},
     "output_type": "display_data"
    },
    {
     "data": {
      "text/html": [
       "<pre style=\"white-space:pre;overflow-x:auto;line-height:normal;font-family:Menlo,'DejaVu Sans Mono',consolas,'Courier New',monospace\"><span style=\"color: #008080; text-decoration-color: #008080; font-weight: bold\">1</span> records logged to <a href=\"https://michaelai23-argillatest.hf.space/datasets/admin/llm_textmarker_with_preds\" target=\"_blank\"><span style=\"color: #0000ff; text-decoration-color: #0000ff; text-decoration: underline\">https://michaelai23-argillatest.hf.space/datasets/admin/llm_textmarker_with_preds</span></a>\n",
       "</pre>\n"
      ],
      "text/plain": [
       "\u001b[1;36m1\u001b[0m records logged to \u001b]8;id=835924;https://michaelai23-argillatest.hf.space/datasets/admin/llm_textmarker_with_preds\u001b\\\u001b[4;94mhttps://michaelai23-argillatest.hf.space/datasets/admin/llm_textmarker_with_preds\u001b[0m\u001b]8;;\u001b\\\n"
      ]
     },
     "metadata": {},
     "output_type": "display_data"
    },
    {
     "data": {
      "application/vnd.jupyter.widget-view+json": {
       "model_id": "de2b52f42551432a8bab0ad894566372",
       "version_major": 2,
       "version_minor": 0
      },
      "text/plain": [
       "Output()"
      ]
     },
     "metadata": {},
     "output_type": "display_data"
    },
    {
     "data": {
      "text/html": [
       "<pre style=\"white-space:pre;overflow-x:auto;line-height:normal;font-family:Menlo,'DejaVu Sans Mono',consolas,'Courier New',monospace\"></pre>\n"
      ],
      "text/plain": []
     },
     "metadata": {},
     "output_type": "display_data"
    },
    {
     "data": {
      "text/html": [
       "<pre style=\"white-space:pre;overflow-x:auto;line-height:normal;font-family:Menlo,'DejaVu Sans Mono',consolas,'Courier New',monospace\">\n",
       "</pre>\n"
      ],
      "text/plain": [
       "\n"
      ]
     },
     "metadata": {},
     "output_type": "display_data"
    },
    {
     "data": {
      "text/html": [
       "<pre style=\"white-space:pre;overflow-x:auto;line-height:normal;font-family:Menlo,'DejaVu Sans Mono',consolas,'Courier New',monospace\"><span style=\"color: #008080; text-decoration-color: #008080; font-weight: bold\">1</span> records logged to <a href=\"https://michaelai23-argillatest.hf.space/datasets/admin/llm_textmarker_with_preds\" target=\"_blank\"><span style=\"color: #0000ff; text-decoration-color: #0000ff; text-decoration: underline\">https://michaelai23-argillatest.hf.space/datasets/admin/llm_textmarker_with_preds</span></a>\n",
       "</pre>\n"
      ],
      "text/plain": [
       "\u001b[1;36m1\u001b[0m records logged to \u001b]8;id=432633;https://michaelai23-argillatest.hf.space/datasets/admin/llm_textmarker_with_preds\u001b\\\u001b[4;94mhttps://michaelai23-argillatest.hf.space/datasets/admin/llm_textmarker_with_preds\u001b[0m\u001b]8;;\u001b\\\n"
      ]
     },
     "metadata": {},
     "output_type": "display_data"
    },
    {
     "data": {
      "application/vnd.jupyter.widget-view+json": {
       "model_id": "261edda7a29146ff84d864a21732a4d8",
       "version_major": 2,
       "version_minor": 0
      },
      "text/plain": [
       "Output()"
      ]
     },
     "metadata": {},
     "output_type": "display_data"
    },
    {
     "data": {
      "text/html": [
       "<pre style=\"white-space:pre;overflow-x:auto;line-height:normal;font-family:Menlo,'DejaVu Sans Mono',consolas,'Courier New',monospace\"></pre>\n"
      ],
      "text/plain": []
     },
     "metadata": {},
     "output_type": "display_data"
    },
    {
     "data": {
      "text/html": [
       "<pre style=\"white-space:pre;overflow-x:auto;line-height:normal;font-family:Menlo,'DejaVu Sans Mono',consolas,'Courier New',monospace\">\n",
       "</pre>\n"
      ],
      "text/plain": [
       "\n"
      ]
     },
     "metadata": {},
     "output_type": "display_data"
    },
    {
     "data": {
      "text/html": [
       "<pre style=\"white-space:pre;overflow-x:auto;line-height:normal;font-family:Menlo,'DejaVu Sans Mono',consolas,'Courier New',monospace\"><span style=\"color: #008080; text-decoration-color: #008080; font-weight: bold\">1</span> records logged to <a href=\"https://michaelai23-argillatest.hf.space/datasets/admin/llm_textmarker_with_preds\" target=\"_blank\"><span style=\"color: #0000ff; text-decoration-color: #0000ff; text-decoration: underline\">https://michaelai23-argillatest.hf.space/datasets/admin/llm_textmarker_with_preds</span></a>\n",
       "</pre>\n"
      ],
      "text/plain": [
       "\u001b[1;36m1\u001b[0m records logged to \u001b]8;id=5534;https://michaelai23-argillatest.hf.space/datasets/admin/llm_textmarker_with_preds\u001b\\\u001b[4;94mhttps://michaelai23-argillatest.hf.space/datasets/admin/llm_textmarker_with_preds\u001b[0m\u001b]8;;\u001b\\\n"
      ]
     },
     "metadata": {},
     "output_type": "display_data"
    },
    {
     "data": {
      "application/vnd.jupyter.widget-view+json": {
       "model_id": "5430f283d7114a0385acc54c3d4d780c",
       "version_major": 2,
       "version_minor": 0
      },
      "text/plain": [
       "Output()"
      ]
     },
     "metadata": {},
     "output_type": "display_data"
    },
    {
     "data": {
      "text/html": [
       "<pre style=\"white-space:pre;overflow-x:auto;line-height:normal;font-family:Menlo,'DejaVu Sans Mono',consolas,'Courier New',monospace\"></pre>\n"
      ],
      "text/plain": []
     },
     "metadata": {},
     "output_type": "display_data"
    },
    {
     "data": {
      "text/html": [
       "<pre style=\"white-space:pre;overflow-x:auto;line-height:normal;font-family:Menlo,'DejaVu Sans Mono',consolas,'Courier New',monospace\">\n",
       "</pre>\n"
      ],
      "text/plain": [
       "\n"
      ]
     },
     "metadata": {},
     "output_type": "display_data"
    },
    {
     "data": {
      "text/html": [
       "<pre style=\"white-space:pre;overflow-x:auto;line-height:normal;font-family:Menlo,'DejaVu Sans Mono',consolas,'Courier New',monospace\"><span style=\"color: #008080; text-decoration-color: #008080; font-weight: bold\">1</span> records logged to <a href=\"https://michaelai23-argillatest.hf.space/datasets/admin/llm_textmarker_with_preds\" target=\"_blank\"><span style=\"color: #0000ff; text-decoration-color: #0000ff; text-decoration: underline\">https://michaelai23-argillatest.hf.space/datasets/admin/llm_textmarker_with_preds</span></a>\n",
       "</pre>\n"
      ],
      "text/plain": [
       "\u001b[1;36m1\u001b[0m records logged to \u001b]8;id=342713;https://michaelai23-argillatest.hf.space/datasets/admin/llm_textmarker_with_preds\u001b\\\u001b[4;94mhttps://michaelai23-argillatest.hf.space/datasets/admin/llm_textmarker_with_preds\u001b[0m\u001b]8;;\u001b\\\n"
      ]
     },
     "metadata": {},
     "output_type": "display_data"
    },
    {
     "data": {
      "application/vnd.jupyter.widget-view+json": {
       "model_id": "f5cf52ff267e4bf4b371a132cc1b5d3f",
       "version_major": 2,
       "version_minor": 0
      },
      "text/plain": [
       "Output()"
      ]
     },
     "metadata": {},
     "output_type": "display_data"
    },
    {
     "data": {
      "text/html": [
       "<pre style=\"white-space:pre;overflow-x:auto;line-height:normal;font-family:Menlo,'DejaVu Sans Mono',consolas,'Courier New',monospace\"></pre>\n"
      ],
      "text/plain": []
     },
     "metadata": {},
     "output_type": "display_data"
    },
    {
     "data": {
      "text/html": [
       "<pre style=\"white-space:pre;overflow-x:auto;line-height:normal;font-family:Menlo,'DejaVu Sans Mono',consolas,'Courier New',monospace\">\n",
       "</pre>\n"
      ],
      "text/plain": [
       "\n"
      ]
     },
     "metadata": {},
     "output_type": "display_data"
    },
    {
     "data": {
      "text/html": [
       "<pre style=\"white-space:pre;overflow-x:auto;line-height:normal;font-family:Menlo,'DejaVu Sans Mono',consolas,'Courier New',monospace\"><span style=\"color: #008080; text-decoration-color: #008080; font-weight: bold\">1</span> records logged to <a href=\"https://michaelai23-argillatest.hf.space/datasets/admin/llm_textmarker_with_preds\" target=\"_blank\"><span style=\"color: #0000ff; text-decoration-color: #0000ff; text-decoration: underline\">https://michaelai23-argillatest.hf.space/datasets/admin/llm_textmarker_with_preds</span></a>\n",
       "</pre>\n"
      ],
      "text/plain": [
       "\u001b[1;36m1\u001b[0m records logged to \u001b]8;id=346170;https://michaelai23-argillatest.hf.space/datasets/admin/llm_textmarker_with_preds\u001b\\\u001b[4;94mhttps://michaelai23-argillatest.hf.space/datasets/admin/llm_textmarker_with_preds\u001b[0m\u001b]8;;\u001b\\\n"
      ]
     },
     "metadata": {},
     "output_type": "display_data"
    },
    {
     "data": {
      "application/vnd.jupyter.widget-view+json": {
       "model_id": "042066bec7574d9a8f3598921b54d033",
       "version_major": 2,
       "version_minor": 0
      },
      "text/plain": [
       "Output()"
      ]
     },
     "metadata": {},
     "output_type": "display_data"
    },
    {
     "data": {
      "text/html": [
       "<pre style=\"white-space:pre;overflow-x:auto;line-height:normal;font-family:Menlo,'DejaVu Sans Mono',consolas,'Courier New',monospace\"></pre>\n"
      ],
      "text/plain": []
     },
     "metadata": {},
     "output_type": "display_data"
    },
    {
     "data": {
      "text/html": [
       "<pre style=\"white-space:pre;overflow-x:auto;line-height:normal;font-family:Menlo,'DejaVu Sans Mono',consolas,'Courier New',monospace\">\n",
       "</pre>\n"
      ],
      "text/plain": [
       "\n"
      ]
     },
     "metadata": {},
     "output_type": "display_data"
    },
    {
     "data": {
      "text/html": [
       "<pre style=\"white-space:pre;overflow-x:auto;line-height:normal;font-family:Menlo,'DejaVu Sans Mono',consolas,'Courier New',monospace\"><span style=\"color: #008080; text-decoration-color: #008080; font-weight: bold\">1</span> records logged to <a href=\"https://michaelai23-argillatest.hf.space/datasets/admin/llm_textmarker_with_preds\" target=\"_blank\"><span style=\"color: #0000ff; text-decoration-color: #0000ff; text-decoration: underline\">https://michaelai23-argillatest.hf.space/datasets/admin/llm_textmarker_with_preds</span></a>\n",
       "</pre>\n"
      ],
      "text/plain": [
       "\u001b[1;36m1\u001b[0m records logged to \u001b]8;id=423352;https://michaelai23-argillatest.hf.space/datasets/admin/llm_textmarker_with_preds\u001b\\\u001b[4;94mhttps://michaelai23-argillatest.hf.space/datasets/admin/llm_textmarker_with_preds\u001b[0m\u001b]8;;\u001b\\\n"
      ]
     },
     "metadata": {},
     "output_type": "display_data"
    },
    {
     "data": {
      "application/vnd.jupyter.widget-view+json": {
       "model_id": "147b4e828c8249cebf44cae31b3a3e51",
       "version_major": 2,
       "version_minor": 0
      },
      "text/plain": [
       "Output()"
      ]
     },
     "metadata": {},
     "output_type": "display_data"
    },
    {
     "data": {
      "text/html": [
       "<pre style=\"white-space:pre;overflow-x:auto;line-height:normal;font-family:Menlo,'DejaVu Sans Mono',consolas,'Courier New',monospace\"></pre>\n"
      ],
      "text/plain": []
     },
     "metadata": {},
     "output_type": "display_data"
    },
    {
     "data": {
      "text/html": [
       "<pre style=\"white-space:pre;overflow-x:auto;line-height:normal;font-family:Menlo,'DejaVu Sans Mono',consolas,'Courier New',monospace\">\n",
       "</pre>\n"
      ],
      "text/plain": [
       "\n"
      ]
     },
     "metadata": {},
     "output_type": "display_data"
    },
    {
     "data": {
      "text/html": [
       "<pre style=\"white-space:pre;overflow-x:auto;line-height:normal;font-family:Menlo,'DejaVu Sans Mono',consolas,'Courier New',monospace\"><span style=\"color: #008080; text-decoration-color: #008080; font-weight: bold\">1</span> records logged to <a href=\"https://michaelai23-argillatest.hf.space/datasets/admin/llm_textmarker_with_preds\" target=\"_blank\"><span style=\"color: #0000ff; text-decoration-color: #0000ff; text-decoration: underline\">https://michaelai23-argillatest.hf.space/datasets/admin/llm_textmarker_with_preds</span></a>\n",
       "</pre>\n"
      ],
      "text/plain": [
       "\u001b[1;36m1\u001b[0m records logged to \u001b]8;id=85748;https://michaelai23-argillatest.hf.space/datasets/admin/llm_textmarker_with_preds\u001b\\\u001b[4;94mhttps://michaelai23-argillatest.hf.space/datasets/admin/llm_textmarker_with_preds\u001b[0m\u001b]8;;\u001b\\\n"
      ]
     },
     "metadata": {},
     "output_type": "display_data"
    },
    {
     "data": {
      "application/vnd.jupyter.widget-view+json": {
       "model_id": "e87da4ba1e244d2b80f715df1b07453f",
       "version_major": 2,
       "version_minor": 0
      },
      "text/plain": [
       "Output()"
      ]
     },
     "metadata": {},
     "output_type": "display_data"
    },
    {
     "data": {
      "text/html": [
       "<pre style=\"white-space:pre;overflow-x:auto;line-height:normal;font-family:Menlo,'DejaVu Sans Mono',consolas,'Courier New',monospace\"></pre>\n"
      ],
      "text/plain": []
     },
     "metadata": {},
     "output_type": "display_data"
    },
    {
     "data": {
      "text/html": [
       "<pre style=\"white-space:pre;overflow-x:auto;line-height:normal;font-family:Menlo,'DejaVu Sans Mono',consolas,'Courier New',monospace\">\n",
       "</pre>\n"
      ],
      "text/plain": [
       "\n"
      ]
     },
     "metadata": {},
     "output_type": "display_data"
    },
    {
     "data": {
      "text/html": [
       "<pre style=\"white-space:pre;overflow-x:auto;line-height:normal;font-family:Menlo,'DejaVu Sans Mono',consolas,'Courier New',monospace\"><span style=\"color: #008080; text-decoration-color: #008080; font-weight: bold\">1</span> records logged to <a href=\"https://michaelai23-argillatest.hf.space/datasets/admin/llm_textmarker_with_preds\" target=\"_blank\"><span style=\"color: #0000ff; text-decoration-color: #0000ff; text-decoration: underline\">https://michaelai23-argillatest.hf.space/datasets/admin/llm_textmarker_with_preds</span></a>\n",
       "</pre>\n"
      ],
      "text/plain": [
       "\u001b[1;36m1\u001b[0m records logged to \u001b]8;id=541130;https://michaelai23-argillatest.hf.space/datasets/admin/llm_textmarker_with_preds\u001b\\\u001b[4;94mhttps://michaelai23-argillatest.hf.space/datasets/admin/llm_textmarker_with_preds\u001b[0m\u001b]8;;\u001b\\\n"
      ]
     },
     "metadata": {},
     "output_type": "display_data"
    },
    {
     "data": {
      "application/vnd.jupyter.widget-view+json": {
       "model_id": "e6e2a62f078c4acda12c232e6864b8fe",
       "version_major": 2,
       "version_minor": 0
      },
      "text/plain": [
       "Output()"
      ]
     },
     "metadata": {},
     "output_type": "display_data"
    },
    {
     "data": {
      "text/html": [
       "<pre style=\"white-space:pre;overflow-x:auto;line-height:normal;font-family:Menlo,'DejaVu Sans Mono',consolas,'Courier New',monospace\"></pre>\n"
      ],
      "text/plain": []
     },
     "metadata": {},
     "output_type": "display_data"
    },
    {
     "data": {
      "text/html": [
       "<pre style=\"white-space:pre;overflow-x:auto;line-height:normal;font-family:Menlo,'DejaVu Sans Mono',consolas,'Courier New',monospace\">\n",
       "</pre>\n"
      ],
      "text/plain": [
       "\n"
      ]
     },
     "metadata": {},
     "output_type": "display_data"
    },
    {
     "data": {
      "text/html": [
       "<pre style=\"white-space:pre;overflow-x:auto;line-height:normal;font-family:Menlo,'DejaVu Sans Mono',consolas,'Courier New',monospace\"><span style=\"color: #008080; text-decoration-color: #008080; font-weight: bold\">1</span> records logged to <a href=\"https://michaelai23-argillatest.hf.space/datasets/admin/llm_textmarker_with_preds\" target=\"_blank\"><span style=\"color: #0000ff; text-decoration-color: #0000ff; text-decoration: underline\">https://michaelai23-argillatest.hf.space/datasets/admin/llm_textmarker_with_preds</span></a>\n",
       "</pre>\n"
      ],
      "text/plain": [
       "\u001b[1;36m1\u001b[0m records logged to \u001b]8;id=678967;https://michaelai23-argillatest.hf.space/datasets/admin/llm_textmarker_with_preds\u001b\\\u001b[4;94mhttps://michaelai23-argillatest.hf.space/datasets/admin/llm_textmarker_with_preds\u001b[0m\u001b]8;;\u001b\\\n"
      ]
     },
     "metadata": {},
     "output_type": "display_data"
    },
    {
     "data": {
      "application/vnd.jupyter.widget-view+json": {
       "model_id": "041ea814cc56432f8871f82d294bf875",
       "version_major": 2,
       "version_minor": 0
      },
      "text/plain": [
       "Output()"
      ]
     },
     "metadata": {},
     "output_type": "display_data"
    },
    {
     "data": {
      "text/html": [
       "<pre style=\"white-space:pre;overflow-x:auto;line-height:normal;font-family:Menlo,'DejaVu Sans Mono',consolas,'Courier New',monospace\"></pre>\n"
      ],
      "text/plain": []
     },
     "metadata": {},
     "output_type": "display_data"
    },
    {
     "data": {
      "text/html": [
       "<pre style=\"white-space:pre;overflow-x:auto;line-height:normal;font-family:Menlo,'DejaVu Sans Mono',consolas,'Courier New',monospace\">\n",
       "</pre>\n"
      ],
      "text/plain": [
       "\n"
      ]
     },
     "metadata": {},
     "output_type": "display_data"
    },
    {
     "data": {
      "text/html": [
       "<pre style=\"white-space:pre;overflow-x:auto;line-height:normal;font-family:Menlo,'DejaVu Sans Mono',consolas,'Courier New',monospace\"><span style=\"color: #008080; text-decoration-color: #008080; font-weight: bold\">1</span> records logged to <a href=\"https://michaelai23-argillatest.hf.space/datasets/admin/llm_textmarker_with_preds\" target=\"_blank\"><span style=\"color: #0000ff; text-decoration-color: #0000ff; text-decoration: underline\">https://michaelai23-argillatest.hf.space/datasets/admin/llm_textmarker_with_preds</span></a>\n",
       "</pre>\n"
      ],
      "text/plain": [
       "\u001b[1;36m1\u001b[0m records logged to \u001b]8;id=977588;https://michaelai23-argillatest.hf.space/datasets/admin/llm_textmarker_with_preds\u001b\\\u001b[4;94mhttps://michaelai23-argillatest.hf.space/datasets/admin/llm_textmarker_with_preds\u001b[0m\u001b]8;;\u001b\\\n"
      ]
     },
     "metadata": {},
     "output_type": "display_data"
    },
    {
     "data": {
      "application/vnd.jupyter.widget-view+json": {
       "model_id": "6ec13780e5b441a3958679e6913e6fe8",
       "version_major": 2,
       "version_minor": 0
      },
      "text/plain": [
       "Output()"
      ]
     },
     "metadata": {},
     "output_type": "display_data"
    },
    {
     "data": {
      "text/html": [
       "<pre style=\"white-space:pre;overflow-x:auto;line-height:normal;font-family:Menlo,'DejaVu Sans Mono',consolas,'Courier New',monospace\"></pre>\n"
      ],
      "text/plain": []
     },
     "metadata": {},
     "output_type": "display_data"
    },
    {
     "data": {
      "text/html": [
       "<pre style=\"white-space:pre;overflow-x:auto;line-height:normal;font-family:Menlo,'DejaVu Sans Mono',consolas,'Courier New',monospace\">\n",
       "</pre>\n"
      ],
      "text/plain": [
       "\n"
      ]
     },
     "metadata": {},
     "output_type": "display_data"
    },
    {
     "data": {
      "text/html": [
       "<pre style=\"white-space:pre;overflow-x:auto;line-height:normal;font-family:Menlo,'DejaVu Sans Mono',consolas,'Courier New',monospace\"><span style=\"color: #008080; text-decoration-color: #008080; font-weight: bold\">1</span> records logged to <a href=\"https://michaelai23-argillatest.hf.space/datasets/admin/llm_textmarker_with_preds\" target=\"_blank\"><span style=\"color: #0000ff; text-decoration-color: #0000ff; text-decoration: underline\">https://michaelai23-argillatest.hf.space/datasets/admin/llm_textmarker_with_preds</span></a>\n",
       "</pre>\n"
      ],
      "text/plain": [
       "\u001b[1;36m1\u001b[0m records logged to \u001b]8;id=316666;https://michaelai23-argillatest.hf.space/datasets/admin/llm_textmarker_with_preds\u001b\\\u001b[4;94mhttps://michaelai23-argillatest.hf.space/datasets/admin/llm_textmarker_with_preds\u001b[0m\u001b]8;;\u001b\\\n"
      ]
     },
     "metadata": {},
     "output_type": "display_data"
    },
    {
     "data": {
      "application/vnd.jupyter.widget-view+json": {
       "model_id": "f7a81eeb3d4945988164302ca6db67f8",
       "version_major": 2,
       "version_minor": 0
      },
      "text/plain": [
       "Output()"
      ]
     },
     "metadata": {},
     "output_type": "display_data"
    },
    {
     "data": {
      "text/html": [
       "<pre style=\"white-space:pre;overflow-x:auto;line-height:normal;font-family:Menlo,'DejaVu Sans Mono',consolas,'Courier New',monospace\"></pre>\n"
      ],
      "text/plain": []
     },
     "metadata": {},
     "output_type": "display_data"
    },
    {
     "data": {
      "text/html": [
       "<pre style=\"white-space:pre;overflow-x:auto;line-height:normal;font-family:Menlo,'DejaVu Sans Mono',consolas,'Courier New',monospace\">\n",
       "</pre>\n"
      ],
      "text/plain": [
       "\n"
      ]
     },
     "metadata": {},
     "output_type": "display_data"
    },
    {
     "data": {
      "text/html": [
       "<pre style=\"white-space:pre;overflow-x:auto;line-height:normal;font-family:Menlo,'DejaVu Sans Mono',consolas,'Courier New',monospace\"><span style=\"color: #008080; text-decoration-color: #008080; font-weight: bold\">1</span> records logged to <a href=\"https://michaelai23-argillatest.hf.space/datasets/admin/llm_textmarker_with_preds\" target=\"_blank\"><span style=\"color: #0000ff; text-decoration-color: #0000ff; text-decoration: underline\">https://michaelai23-argillatest.hf.space/datasets/admin/llm_textmarker_with_preds</span></a>\n",
       "</pre>\n"
      ],
      "text/plain": [
       "\u001b[1;36m1\u001b[0m records logged to \u001b]8;id=471815;https://michaelai23-argillatest.hf.space/datasets/admin/llm_textmarker_with_preds\u001b\\\u001b[4;94mhttps://michaelai23-argillatest.hf.space/datasets/admin/llm_textmarker_with_preds\u001b[0m\u001b]8;;\u001b\\\n"
      ]
     },
     "metadata": {},
     "output_type": "display_data"
    },
    {
     "data": {
      "application/vnd.jupyter.widget-view+json": {
       "model_id": "4838954035ca4533807223edc680b1ff",
       "version_major": 2,
       "version_minor": 0
      },
      "text/plain": [
       "Output()"
      ]
     },
     "metadata": {},
     "output_type": "display_data"
    },
    {
     "data": {
      "text/html": [
       "<pre style=\"white-space:pre;overflow-x:auto;line-height:normal;font-family:Menlo,'DejaVu Sans Mono',consolas,'Courier New',monospace\"></pre>\n"
      ],
      "text/plain": []
     },
     "metadata": {},
     "output_type": "display_data"
    },
    {
     "data": {
      "text/html": [
       "<pre style=\"white-space:pre;overflow-x:auto;line-height:normal;font-family:Menlo,'DejaVu Sans Mono',consolas,'Courier New',monospace\">\n",
       "</pre>\n"
      ],
      "text/plain": [
       "\n"
      ]
     },
     "metadata": {},
     "output_type": "display_data"
    },
    {
     "data": {
      "text/html": [
       "<pre style=\"white-space:pre;overflow-x:auto;line-height:normal;font-family:Menlo,'DejaVu Sans Mono',consolas,'Courier New',monospace\"><span style=\"color: #008080; text-decoration-color: #008080; font-weight: bold\">1</span> records logged to <a href=\"https://michaelai23-argillatest.hf.space/datasets/admin/llm_textmarker_with_preds\" target=\"_blank\"><span style=\"color: #0000ff; text-decoration-color: #0000ff; text-decoration: underline\">https://michaelai23-argillatest.hf.space/datasets/admin/llm_textmarker_with_preds</span></a>\n",
       "</pre>\n"
      ],
      "text/plain": [
       "\u001b[1;36m1\u001b[0m records logged to \u001b]8;id=857767;https://michaelai23-argillatest.hf.space/datasets/admin/llm_textmarker_with_preds\u001b\\\u001b[4;94mhttps://michaelai23-argillatest.hf.space/datasets/admin/llm_textmarker_with_preds\u001b[0m\u001b]8;;\u001b\\\n"
      ]
     },
     "metadata": {},
     "output_type": "display_data"
    },
    {
     "data": {
      "application/vnd.jupyter.widget-view+json": {
       "model_id": "222a236e748d45fbba74098de9c4144f",
       "version_major": 2,
       "version_minor": 0
      },
      "text/plain": [
       "Output()"
      ]
     },
     "metadata": {},
     "output_type": "display_data"
    },
    {
     "data": {
      "text/html": [
       "<pre style=\"white-space:pre;overflow-x:auto;line-height:normal;font-family:Menlo,'DejaVu Sans Mono',consolas,'Courier New',monospace\"></pre>\n"
      ],
      "text/plain": []
     },
     "metadata": {},
     "output_type": "display_data"
    },
    {
     "data": {
      "text/html": [
       "<pre style=\"white-space:pre;overflow-x:auto;line-height:normal;font-family:Menlo,'DejaVu Sans Mono',consolas,'Courier New',monospace\">\n",
       "</pre>\n"
      ],
      "text/plain": [
       "\n"
      ]
     },
     "metadata": {},
     "output_type": "display_data"
    },
    {
     "data": {
      "text/html": [
       "<pre style=\"white-space:pre;overflow-x:auto;line-height:normal;font-family:Menlo,'DejaVu Sans Mono',consolas,'Courier New',monospace\"><span style=\"color: #008080; text-decoration-color: #008080; font-weight: bold\">1</span> records logged to <a href=\"https://michaelai23-argillatest.hf.space/datasets/admin/llm_textmarker_with_preds\" target=\"_blank\"><span style=\"color: #0000ff; text-decoration-color: #0000ff; text-decoration: underline\">https://michaelai23-argillatest.hf.space/datasets/admin/llm_textmarker_with_preds</span></a>\n",
       "</pre>\n"
      ],
      "text/plain": [
       "\u001b[1;36m1\u001b[0m records logged to \u001b]8;id=221128;https://michaelai23-argillatest.hf.space/datasets/admin/llm_textmarker_with_preds\u001b\\\u001b[4;94mhttps://michaelai23-argillatest.hf.space/datasets/admin/llm_textmarker_with_preds\u001b[0m\u001b]8;;\u001b\\\n"
      ]
     },
     "metadata": {},
     "output_type": "display_data"
    },
    {
     "data": {
      "application/vnd.jupyter.widget-view+json": {
       "model_id": "4aafc776bd1842bd96b674dad4e8d9e9",
       "version_major": 2,
       "version_minor": 0
      },
      "text/plain": [
       "Output()"
      ]
     },
     "metadata": {},
     "output_type": "display_data"
    },
    {
     "data": {
      "text/html": [
       "<pre style=\"white-space:pre;overflow-x:auto;line-height:normal;font-family:Menlo,'DejaVu Sans Mono',consolas,'Courier New',monospace\"></pre>\n"
      ],
      "text/plain": []
     },
     "metadata": {},
     "output_type": "display_data"
    },
    {
     "data": {
      "text/html": [
       "<pre style=\"white-space:pre;overflow-x:auto;line-height:normal;font-family:Menlo,'DejaVu Sans Mono',consolas,'Courier New',monospace\">\n",
       "</pre>\n"
      ],
      "text/plain": [
       "\n"
      ]
     },
     "metadata": {},
     "output_type": "display_data"
    },
    {
     "data": {
      "text/html": [
       "<pre style=\"white-space:pre;overflow-x:auto;line-height:normal;font-family:Menlo,'DejaVu Sans Mono',consolas,'Courier New',monospace\"><span style=\"color: #008080; text-decoration-color: #008080; font-weight: bold\">1</span> records logged to <a href=\"https://michaelai23-argillatest.hf.space/datasets/admin/llm_textmarker_with_preds\" target=\"_blank\"><span style=\"color: #0000ff; text-decoration-color: #0000ff; text-decoration: underline\">https://michaelai23-argillatest.hf.space/datasets/admin/llm_textmarker_with_preds</span></a>\n",
       "</pre>\n"
      ],
      "text/plain": [
       "\u001b[1;36m1\u001b[0m records logged to \u001b]8;id=485657;https://michaelai23-argillatest.hf.space/datasets/admin/llm_textmarker_with_preds\u001b\\\u001b[4;94mhttps://michaelai23-argillatest.hf.space/datasets/admin/llm_textmarker_with_preds\u001b[0m\u001b]8;;\u001b\\\n"
      ]
     },
     "metadata": {},
     "output_type": "display_data"
    },
    {
     "data": {
      "application/vnd.jupyter.widget-view+json": {
       "model_id": "e8b848afbd544afeba73a94fea05dfdc",
       "version_major": 2,
       "version_minor": 0
      },
      "text/plain": [
       "Output()"
      ]
     },
     "metadata": {},
     "output_type": "display_data"
    },
    {
     "data": {
      "text/html": [
       "<pre style=\"white-space:pre;overflow-x:auto;line-height:normal;font-family:Menlo,'DejaVu Sans Mono',consolas,'Courier New',monospace\"></pre>\n"
      ],
      "text/plain": []
     },
     "metadata": {},
     "output_type": "display_data"
    },
    {
     "data": {
      "text/html": [
       "<pre style=\"white-space:pre;overflow-x:auto;line-height:normal;font-family:Menlo,'DejaVu Sans Mono',consolas,'Courier New',monospace\">\n",
       "</pre>\n"
      ],
      "text/plain": [
       "\n"
      ]
     },
     "metadata": {},
     "output_type": "display_data"
    },
    {
     "data": {
      "text/html": [
       "<pre style=\"white-space:pre;overflow-x:auto;line-height:normal;font-family:Menlo,'DejaVu Sans Mono',consolas,'Courier New',monospace\"><span style=\"color: #008080; text-decoration-color: #008080; font-weight: bold\">1</span> records logged to <a href=\"https://michaelai23-argillatest.hf.space/datasets/admin/llm_textmarker_with_preds\" target=\"_blank\"><span style=\"color: #0000ff; text-decoration-color: #0000ff; text-decoration: underline\">https://michaelai23-argillatest.hf.space/datasets/admin/llm_textmarker_with_preds</span></a>\n",
       "</pre>\n"
      ],
      "text/plain": [
       "\u001b[1;36m1\u001b[0m records logged to \u001b]8;id=245839;https://michaelai23-argillatest.hf.space/datasets/admin/llm_textmarker_with_preds\u001b\\\u001b[4;94mhttps://michaelai23-argillatest.hf.space/datasets/admin/llm_textmarker_with_preds\u001b[0m\u001b]8;;\u001b\\\n"
      ]
     },
     "metadata": {},
     "output_type": "display_data"
    },
    {
     "data": {
      "application/vnd.jupyter.widget-view+json": {
       "model_id": "efd685dc91e4412e800a5d08492fb84d",
       "version_major": 2,
       "version_minor": 0
      },
      "text/plain": [
       "Output()"
      ]
     },
     "metadata": {},
     "output_type": "display_data"
    },
    {
     "data": {
      "text/html": [
       "<pre style=\"white-space:pre;overflow-x:auto;line-height:normal;font-family:Menlo,'DejaVu Sans Mono',consolas,'Courier New',monospace\"></pre>\n"
      ],
      "text/plain": []
     },
     "metadata": {},
     "output_type": "display_data"
    },
    {
     "data": {
      "text/html": [
       "<pre style=\"white-space:pre;overflow-x:auto;line-height:normal;font-family:Menlo,'DejaVu Sans Mono',consolas,'Courier New',monospace\">\n",
       "</pre>\n"
      ],
      "text/plain": [
       "\n"
      ]
     },
     "metadata": {},
     "output_type": "display_data"
    },
    {
     "data": {
      "text/html": [
       "<pre style=\"white-space:pre;overflow-x:auto;line-height:normal;font-family:Menlo,'DejaVu Sans Mono',consolas,'Courier New',monospace\"><span style=\"color: #008080; text-decoration-color: #008080; font-weight: bold\">1</span> records logged to <a href=\"https://michaelai23-argillatest.hf.space/datasets/admin/llm_textmarker_with_preds\" target=\"_blank\"><span style=\"color: #0000ff; text-decoration-color: #0000ff; text-decoration: underline\">https://michaelai23-argillatest.hf.space/datasets/admin/llm_textmarker_with_preds</span></a>\n",
       "</pre>\n"
      ],
      "text/plain": [
       "\u001b[1;36m1\u001b[0m records logged to \u001b]8;id=139372;https://michaelai23-argillatest.hf.space/datasets/admin/llm_textmarker_with_preds\u001b\\\u001b[4;94mhttps://michaelai23-argillatest.hf.space/datasets/admin/llm_textmarker_with_preds\u001b[0m\u001b]8;;\u001b\\\n"
      ]
     },
     "metadata": {},
     "output_type": "display_data"
    },
    {
     "data": {
      "application/vnd.jupyter.widget-view+json": {
       "model_id": "8068c6a418924edba112921243f231d8",
       "version_major": 2,
       "version_minor": 0
      },
      "text/plain": [
       "Output()"
      ]
     },
     "metadata": {},
     "output_type": "display_data"
    },
    {
     "data": {
      "text/html": [
       "<pre style=\"white-space:pre;overflow-x:auto;line-height:normal;font-family:Menlo,'DejaVu Sans Mono',consolas,'Courier New',monospace\"></pre>\n"
      ],
      "text/plain": []
     },
     "metadata": {},
     "output_type": "display_data"
    },
    {
     "data": {
      "text/html": [
       "<pre style=\"white-space:pre;overflow-x:auto;line-height:normal;font-family:Menlo,'DejaVu Sans Mono',consolas,'Courier New',monospace\">\n",
       "</pre>\n"
      ],
      "text/plain": [
       "\n"
      ]
     },
     "metadata": {},
     "output_type": "display_data"
    },
    {
     "data": {
      "text/html": [
       "<pre style=\"white-space:pre;overflow-x:auto;line-height:normal;font-family:Menlo,'DejaVu Sans Mono',consolas,'Courier New',monospace\"><span style=\"color: #008080; text-decoration-color: #008080; font-weight: bold\">1</span> records logged to <a href=\"https://michaelai23-argillatest.hf.space/datasets/admin/llm_textmarker_with_preds\" target=\"_blank\"><span style=\"color: #0000ff; text-decoration-color: #0000ff; text-decoration: underline\">https://michaelai23-argillatest.hf.space/datasets/admin/llm_textmarker_with_preds</span></a>\n",
       "</pre>\n"
      ],
      "text/plain": [
       "\u001b[1;36m1\u001b[0m records logged to \u001b]8;id=283361;https://michaelai23-argillatest.hf.space/datasets/admin/llm_textmarker_with_preds\u001b\\\u001b[4;94mhttps://michaelai23-argillatest.hf.space/datasets/admin/llm_textmarker_with_preds\u001b[0m\u001b]8;;\u001b\\\n"
      ]
     },
     "metadata": {},
     "output_type": "display_data"
    },
    {
     "data": {
      "application/vnd.jupyter.widget-view+json": {
       "model_id": "120f04099a5642709536d3f3bd5e959e",
       "version_major": 2,
       "version_minor": 0
      },
      "text/plain": [
       "Output()"
      ]
     },
     "metadata": {},
     "output_type": "display_data"
    },
    {
     "data": {
      "text/html": [
       "<pre style=\"white-space:pre;overflow-x:auto;line-height:normal;font-family:Menlo,'DejaVu Sans Mono',consolas,'Courier New',monospace\"></pre>\n"
      ],
      "text/plain": []
     },
     "metadata": {},
     "output_type": "display_data"
    },
    {
     "data": {
      "text/html": [
       "<pre style=\"white-space:pre;overflow-x:auto;line-height:normal;font-family:Menlo,'DejaVu Sans Mono',consolas,'Courier New',monospace\">\n",
       "</pre>\n"
      ],
      "text/plain": [
       "\n"
      ]
     },
     "metadata": {},
     "output_type": "display_data"
    },
    {
     "data": {
      "text/html": [
       "<pre style=\"white-space:pre;overflow-x:auto;line-height:normal;font-family:Menlo,'DejaVu Sans Mono',consolas,'Courier New',monospace\"><span style=\"color: #008080; text-decoration-color: #008080; font-weight: bold\">1</span> records logged to <a href=\"https://michaelai23-argillatest.hf.space/datasets/admin/llm_textmarker_with_preds\" target=\"_blank\"><span style=\"color: #0000ff; text-decoration-color: #0000ff; text-decoration: underline\">https://michaelai23-argillatest.hf.space/datasets/admin/llm_textmarker_with_preds</span></a>\n",
       "</pre>\n"
      ],
      "text/plain": [
       "\u001b[1;36m1\u001b[0m records logged to \u001b]8;id=625812;https://michaelai23-argillatest.hf.space/datasets/admin/llm_textmarker_with_preds\u001b\\\u001b[4;94mhttps://michaelai23-argillatest.hf.space/datasets/admin/llm_textmarker_with_preds\u001b[0m\u001b]8;;\u001b\\\n"
      ]
     },
     "metadata": {},
     "output_type": "display_data"
    },
    {
     "data": {
      "application/vnd.jupyter.widget-view+json": {
       "model_id": "dec9934d95d1406a94434749d49518cb",
       "version_major": 2,
       "version_minor": 0
      },
      "text/plain": [
       "Output()"
      ]
     },
     "metadata": {},
     "output_type": "display_data"
    },
    {
     "data": {
      "text/html": [
       "<pre style=\"white-space:pre;overflow-x:auto;line-height:normal;font-family:Menlo,'DejaVu Sans Mono',consolas,'Courier New',monospace\"></pre>\n"
      ],
      "text/plain": []
     },
     "metadata": {},
     "output_type": "display_data"
    },
    {
     "data": {
      "text/html": [
       "<pre style=\"white-space:pre;overflow-x:auto;line-height:normal;font-family:Menlo,'DejaVu Sans Mono',consolas,'Courier New',monospace\">\n",
       "</pre>\n"
      ],
      "text/plain": [
       "\n"
      ]
     },
     "metadata": {},
     "output_type": "display_data"
    },
    {
     "data": {
      "text/html": [
       "<pre style=\"white-space:pre;overflow-x:auto;line-height:normal;font-family:Menlo,'DejaVu Sans Mono',consolas,'Courier New',monospace\"><span style=\"color: #008080; text-decoration-color: #008080; font-weight: bold\">1</span> records logged to <a href=\"https://michaelai23-argillatest.hf.space/datasets/admin/llm_textmarker_with_preds\" target=\"_blank\"><span style=\"color: #0000ff; text-decoration-color: #0000ff; text-decoration: underline\">https://michaelai23-argillatest.hf.space/datasets/admin/llm_textmarker_with_preds</span></a>\n",
       "</pre>\n"
      ],
      "text/plain": [
       "\u001b[1;36m1\u001b[0m records logged to \u001b]8;id=101982;https://michaelai23-argillatest.hf.space/datasets/admin/llm_textmarker_with_preds\u001b\\\u001b[4;94mhttps://michaelai23-argillatest.hf.space/datasets/admin/llm_textmarker_with_preds\u001b[0m\u001b]8;;\u001b\\\n"
      ]
     },
     "metadata": {},
     "output_type": "display_data"
    },
    {
     "data": {
      "application/vnd.jupyter.widget-view+json": {
       "model_id": "796289a93f2c42439959d49a39136464",
       "version_major": 2,
       "version_minor": 0
      },
      "text/plain": [
       "Output()"
      ]
     },
     "metadata": {},
     "output_type": "display_data"
    },
    {
     "data": {
      "text/html": [
       "<pre style=\"white-space:pre;overflow-x:auto;line-height:normal;font-family:Menlo,'DejaVu Sans Mono',consolas,'Courier New',monospace\"></pre>\n"
      ],
      "text/plain": []
     },
     "metadata": {},
     "output_type": "display_data"
    },
    {
     "data": {
      "text/html": [
       "<pre style=\"white-space:pre;overflow-x:auto;line-height:normal;font-family:Menlo,'DejaVu Sans Mono',consolas,'Courier New',monospace\">\n",
       "</pre>\n"
      ],
      "text/plain": [
       "\n"
      ]
     },
     "metadata": {},
     "output_type": "display_data"
    },
    {
     "data": {
      "text/html": [
       "<pre style=\"white-space:pre;overflow-x:auto;line-height:normal;font-family:Menlo,'DejaVu Sans Mono',consolas,'Courier New',monospace\"><span style=\"color: #008080; text-decoration-color: #008080; font-weight: bold\">1</span> records logged to <a href=\"https://michaelai23-argillatest.hf.space/datasets/admin/llm_textmarker_with_preds\" target=\"_blank\"><span style=\"color: #0000ff; text-decoration-color: #0000ff; text-decoration: underline\">https://michaelai23-argillatest.hf.space/datasets/admin/llm_textmarker_with_preds</span></a>\n",
       "</pre>\n"
      ],
      "text/plain": [
       "\u001b[1;36m1\u001b[0m records logged to \u001b]8;id=107658;https://michaelai23-argillatest.hf.space/datasets/admin/llm_textmarker_with_preds\u001b\\\u001b[4;94mhttps://michaelai23-argillatest.hf.space/datasets/admin/llm_textmarker_with_preds\u001b[0m\u001b]8;;\u001b\\\n"
      ]
     },
     "metadata": {},
     "output_type": "display_data"
    },
    {
     "data": {
      "application/vnd.jupyter.widget-view+json": {
       "model_id": "975261066ca041c4beaafe17395135d3",
       "version_major": 2,
       "version_minor": 0
      },
      "text/plain": [
       "Output()"
      ]
     },
     "metadata": {},
     "output_type": "display_data"
    },
    {
     "data": {
      "text/html": [
       "<pre style=\"white-space:pre;overflow-x:auto;line-height:normal;font-family:Menlo,'DejaVu Sans Mono',consolas,'Courier New',monospace\"></pre>\n"
      ],
      "text/plain": []
     },
     "metadata": {},
     "output_type": "display_data"
    },
    {
     "data": {
      "text/html": [
       "<pre style=\"white-space:pre;overflow-x:auto;line-height:normal;font-family:Menlo,'DejaVu Sans Mono',consolas,'Courier New',monospace\">\n",
       "</pre>\n"
      ],
      "text/plain": [
       "\n"
      ]
     },
     "metadata": {},
     "output_type": "display_data"
    },
    {
     "data": {
      "text/html": [
       "<pre style=\"white-space:pre;overflow-x:auto;line-height:normal;font-family:Menlo,'DejaVu Sans Mono',consolas,'Courier New',monospace\"><span style=\"color: #008080; text-decoration-color: #008080; font-weight: bold\">1</span> records logged to <a href=\"https://michaelai23-argillatest.hf.space/datasets/admin/llm_textmarker_with_preds\" target=\"_blank\"><span style=\"color: #0000ff; text-decoration-color: #0000ff; text-decoration: underline\">https://michaelai23-argillatest.hf.space/datasets/admin/llm_textmarker_with_preds</span></a>\n",
       "</pre>\n"
      ],
      "text/plain": [
       "\u001b[1;36m1\u001b[0m records logged to \u001b]8;id=30719;https://michaelai23-argillatest.hf.space/datasets/admin/llm_textmarker_with_preds\u001b\\\u001b[4;94mhttps://michaelai23-argillatest.hf.space/datasets/admin/llm_textmarker_with_preds\u001b[0m\u001b]8;;\u001b\\\n"
      ]
     },
     "metadata": {},
     "output_type": "display_data"
    },
    {
     "data": {
      "application/vnd.jupyter.widget-view+json": {
       "model_id": "d08bb04475ac4e1987e995da44449f91",
       "version_major": 2,
       "version_minor": 0
      },
      "text/plain": [
       "Output()"
      ]
     },
     "metadata": {},
     "output_type": "display_data"
    },
    {
     "data": {
      "text/html": [
       "<pre style=\"white-space:pre;overflow-x:auto;line-height:normal;font-family:Menlo,'DejaVu Sans Mono',consolas,'Courier New',monospace\"></pre>\n"
      ],
      "text/plain": []
     },
     "metadata": {},
     "output_type": "display_data"
    },
    {
     "data": {
      "text/html": [
       "<pre style=\"white-space:pre;overflow-x:auto;line-height:normal;font-family:Menlo,'DejaVu Sans Mono',consolas,'Courier New',monospace\">\n",
       "</pre>\n"
      ],
      "text/plain": [
       "\n"
      ]
     },
     "metadata": {},
     "output_type": "display_data"
    },
    {
     "data": {
      "text/html": [
       "<pre style=\"white-space:pre;overflow-x:auto;line-height:normal;font-family:Menlo,'DejaVu Sans Mono',consolas,'Courier New',monospace\"><span style=\"color: #008080; text-decoration-color: #008080; font-weight: bold\">1</span> records logged to <a href=\"https://michaelai23-argillatest.hf.space/datasets/admin/llm_textmarker_with_preds\" target=\"_blank\"><span style=\"color: #0000ff; text-decoration-color: #0000ff; text-decoration: underline\">https://michaelai23-argillatest.hf.space/datasets/admin/llm_textmarker_with_preds</span></a>\n",
       "</pre>\n"
      ],
      "text/plain": [
       "\u001b[1;36m1\u001b[0m records logged to \u001b]8;id=665899;https://michaelai23-argillatest.hf.space/datasets/admin/llm_textmarker_with_preds\u001b\\\u001b[4;94mhttps://michaelai23-argillatest.hf.space/datasets/admin/llm_textmarker_with_preds\u001b[0m\u001b]8;;\u001b\\\n"
      ]
     },
     "metadata": {},
     "output_type": "display_data"
    },
    {
     "data": {
      "application/vnd.jupyter.widget-view+json": {
       "model_id": "7a6a32e1ae914fbaab53ac03e570944a",
       "version_major": 2,
       "version_minor": 0
      },
      "text/plain": [
       "Output()"
      ]
     },
     "metadata": {},
     "output_type": "display_data"
    },
    {
     "data": {
      "text/html": [
       "<pre style=\"white-space:pre;overflow-x:auto;line-height:normal;font-family:Menlo,'DejaVu Sans Mono',consolas,'Courier New',monospace\"></pre>\n"
      ],
      "text/plain": []
     },
     "metadata": {},
     "output_type": "display_data"
    },
    {
     "data": {
      "text/html": [
       "<pre style=\"white-space:pre;overflow-x:auto;line-height:normal;font-family:Menlo,'DejaVu Sans Mono',consolas,'Courier New',monospace\">\n",
       "</pre>\n"
      ],
      "text/plain": [
       "\n"
      ]
     },
     "metadata": {},
     "output_type": "display_data"
    },
    {
     "data": {
      "text/html": [
       "<pre style=\"white-space:pre;overflow-x:auto;line-height:normal;font-family:Menlo,'DejaVu Sans Mono',consolas,'Courier New',monospace\"><span style=\"color: #008080; text-decoration-color: #008080; font-weight: bold\">1</span> records logged to <a href=\"https://michaelai23-argillatest.hf.space/datasets/admin/llm_textmarker_with_preds\" target=\"_blank\"><span style=\"color: #0000ff; text-decoration-color: #0000ff; text-decoration: underline\">https://michaelai23-argillatest.hf.space/datasets/admin/llm_textmarker_with_preds</span></a>\n",
       "</pre>\n"
      ],
      "text/plain": [
       "\u001b[1;36m1\u001b[0m records logged to \u001b]8;id=807229;https://michaelai23-argillatest.hf.space/datasets/admin/llm_textmarker_with_preds\u001b\\\u001b[4;94mhttps://michaelai23-argillatest.hf.space/datasets/admin/llm_textmarker_with_preds\u001b[0m\u001b]8;;\u001b\\\n"
      ]
     },
     "metadata": {},
     "output_type": "display_data"
    },
    {
     "data": {
      "application/vnd.jupyter.widget-view+json": {
       "model_id": "d31e5e57189c4dd893648ac5e8acf94c",
       "version_major": 2,
       "version_minor": 0
      },
      "text/plain": [
       "Output()"
      ]
     },
     "metadata": {},
     "output_type": "display_data"
    },
    {
     "data": {
      "text/html": [
       "<pre style=\"white-space:pre;overflow-x:auto;line-height:normal;font-family:Menlo,'DejaVu Sans Mono',consolas,'Courier New',monospace\"></pre>\n"
      ],
      "text/plain": []
     },
     "metadata": {},
     "output_type": "display_data"
    },
    {
     "data": {
      "text/html": [
       "<pre style=\"white-space:pre;overflow-x:auto;line-height:normal;font-family:Menlo,'DejaVu Sans Mono',consolas,'Courier New',monospace\">\n",
       "</pre>\n"
      ],
      "text/plain": [
       "\n"
      ]
     },
     "metadata": {},
     "output_type": "display_data"
    },
    {
     "data": {
      "text/html": [
       "<pre style=\"white-space:pre;overflow-x:auto;line-height:normal;font-family:Menlo,'DejaVu Sans Mono',consolas,'Courier New',monospace\"><span style=\"color: #008080; text-decoration-color: #008080; font-weight: bold\">1</span> records logged to <a href=\"https://michaelai23-argillatest.hf.space/datasets/admin/llm_textmarker_with_preds\" target=\"_blank\"><span style=\"color: #0000ff; text-decoration-color: #0000ff; text-decoration: underline\">https://michaelai23-argillatest.hf.space/datasets/admin/llm_textmarker_with_preds</span></a>\n",
       "</pre>\n"
      ],
      "text/plain": [
       "\u001b[1;36m1\u001b[0m records logged to \u001b]8;id=294823;https://michaelai23-argillatest.hf.space/datasets/admin/llm_textmarker_with_preds\u001b\\\u001b[4;94mhttps://michaelai23-argillatest.hf.space/datasets/admin/llm_textmarker_with_preds\u001b[0m\u001b]8;;\u001b\\\n"
      ]
     },
     "metadata": {},
     "output_type": "display_data"
    },
    {
     "data": {
      "application/vnd.jupyter.widget-view+json": {
       "model_id": "61a8f58a26484e4caaf54b3674cbec08",
       "version_major": 2,
       "version_minor": 0
      },
      "text/plain": [
       "Output()"
      ]
     },
     "metadata": {},
     "output_type": "display_data"
    },
    {
     "data": {
      "text/html": [
       "<pre style=\"white-space:pre;overflow-x:auto;line-height:normal;font-family:Menlo,'DejaVu Sans Mono',consolas,'Courier New',monospace\"></pre>\n"
      ],
      "text/plain": []
     },
     "metadata": {},
     "output_type": "display_data"
    },
    {
     "data": {
      "text/html": [
       "<pre style=\"white-space:pre;overflow-x:auto;line-height:normal;font-family:Menlo,'DejaVu Sans Mono',consolas,'Courier New',monospace\">\n",
       "</pre>\n"
      ],
      "text/plain": [
       "\n"
      ]
     },
     "metadata": {},
     "output_type": "display_data"
    },
    {
     "data": {
      "text/html": [
       "<pre style=\"white-space:pre;overflow-x:auto;line-height:normal;font-family:Menlo,'DejaVu Sans Mono',consolas,'Courier New',monospace\"><span style=\"color: #008080; text-decoration-color: #008080; font-weight: bold\">1</span> records logged to <a href=\"https://michaelai23-argillatest.hf.space/datasets/admin/llm_textmarker_with_preds\" target=\"_blank\"><span style=\"color: #0000ff; text-decoration-color: #0000ff; text-decoration: underline\">https://michaelai23-argillatest.hf.space/datasets/admin/llm_textmarker_with_preds</span></a>\n",
       "</pre>\n"
      ],
      "text/plain": [
       "\u001b[1;36m1\u001b[0m records logged to \u001b]8;id=499;https://michaelai23-argillatest.hf.space/datasets/admin/llm_textmarker_with_preds\u001b\\\u001b[4;94mhttps://michaelai23-argillatest.hf.space/datasets/admin/llm_textmarker_with_preds\u001b[0m\u001b]8;;\u001b\\\n"
      ]
     },
     "metadata": {},
     "output_type": "display_data"
    },
    {
     "data": {
      "application/vnd.jupyter.widget-view+json": {
       "model_id": "f9348a1b3ffe449890615bcc6b5c55c6",
       "version_major": 2,
       "version_minor": 0
      },
      "text/plain": [
       "Output()"
      ]
     },
     "metadata": {},
     "output_type": "display_data"
    },
    {
     "data": {
      "text/html": [
       "<pre style=\"white-space:pre;overflow-x:auto;line-height:normal;font-family:Menlo,'DejaVu Sans Mono',consolas,'Courier New',monospace\"></pre>\n"
      ],
      "text/plain": []
     },
     "metadata": {},
     "output_type": "display_data"
    },
    {
     "data": {
      "text/html": [
       "<pre style=\"white-space:pre;overflow-x:auto;line-height:normal;font-family:Menlo,'DejaVu Sans Mono',consolas,'Courier New',monospace\">\n",
       "</pre>\n"
      ],
      "text/plain": [
       "\n"
      ]
     },
     "metadata": {},
     "output_type": "display_data"
    },
    {
     "data": {
      "text/html": [
       "<pre style=\"white-space:pre;overflow-x:auto;line-height:normal;font-family:Menlo,'DejaVu Sans Mono',consolas,'Courier New',monospace\"><span style=\"color: #008080; text-decoration-color: #008080; font-weight: bold\">1</span> records logged to <a href=\"https://michaelai23-argillatest.hf.space/datasets/admin/llm_textmarker_with_preds\" target=\"_blank\"><span style=\"color: #0000ff; text-decoration-color: #0000ff; text-decoration: underline\">https://michaelai23-argillatest.hf.space/datasets/admin/llm_textmarker_with_preds</span></a>\n",
       "</pre>\n"
      ],
      "text/plain": [
       "\u001b[1;36m1\u001b[0m records logged to \u001b]8;id=359678;https://michaelai23-argillatest.hf.space/datasets/admin/llm_textmarker_with_preds\u001b\\\u001b[4;94mhttps://michaelai23-argillatest.hf.space/datasets/admin/llm_textmarker_with_preds\u001b[0m\u001b]8;;\u001b\\\n"
      ]
     },
     "metadata": {},
     "output_type": "display_data"
    },
    {
     "data": {
      "application/vnd.jupyter.widget-view+json": {
       "model_id": "0117d39f8f5847e8a5374b5934cad570",
       "version_major": 2,
       "version_minor": 0
      },
      "text/plain": [
       "Output()"
      ]
     },
     "metadata": {},
     "output_type": "display_data"
    },
    {
     "data": {
      "text/html": [
       "<pre style=\"white-space:pre;overflow-x:auto;line-height:normal;font-family:Menlo,'DejaVu Sans Mono',consolas,'Courier New',monospace\"></pre>\n"
      ],
      "text/plain": []
     },
     "metadata": {},
     "output_type": "display_data"
    },
    {
     "data": {
      "text/html": [
       "<pre style=\"white-space:pre;overflow-x:auto;line-height:normal;font-family:Menlo,'DejaVu Sans Mono',consolas,'Courier New',monospace\">\n",
       "</pre>\n"
      ],
      "text/plain": [
       "\n"
      ]
     },
     "metadata": {},
     "output_type": "display_data"
    },
    {
     "data": {
      "text/html": [
       "<pre style=\"white-space:pre;overflow-x:auto;line-height:normal;font-family:Menlo,'DejaVu Sans Mono',consolas,'Courier New',monospace\"><span style=\"color: #008080; text-decoration-color: #008080; font-weight: bold\">1</span> records logged to <a href=\"https://michaelai23-argillatest.hf.space/datasets/admin/llm_textmarker_with_preds\" target=\"_blank\"><span style=\"color: #0000ff; text-decoration-color: #0000ff; text-decoration: underline\">https://michaelai23-argillatest.hf.space/datasets/admin/llm_textmarker_with_preds</span></a>\n",
       "</pre>\n"
      ],
      "text/plain": [
       "\u001b[1;36m1\u001b[0m records logged to \u001b]8;id=797173;https://michaelai23-argillatest.hf.space/datasets/admin/llm_textmarker_with_preds\u001b\\\u001b[4;94mhttps://michaelai23-argillatest.hf.space/datasets/admin/llm_textmarker_with_preds\u001b[0m\u001b]8;;\u001b\\\n"
      ]
     },
     "metadata": {},
     "output_type": "display_data"
    },
    {
     "data": {
      "application/vnd.jupyter.widget-view+json": {
       "model_id": "690c33b068494cce9fe231caea45d7f8",
       "version_major": 2,
       "version_minor": 0
      },
      "text/plain": [
       "Output()"
      ]
     },
     "metadata": {},
     "output_type": "display_data"
    },
    {
     "data": {
      "text/html": [
       "<pre style=\"white-space:pre;overflow-x:auto;line-height:normal;font-family:Menlo,'DejaVu Sans Mono',consolas,'Courier New',monospace\"></pre>\n"
      ],
      "text/plain": []
     },
     "metadata": {},
     "output_type": "display_data"
    },
    {
     "data": {
      "text/html": [
       "<pre style=\"white-space:pre;overflow-x:auto;line-height:normal;font-family:Menlo,'DejaVu Sans Mono',consolas,'Courier New',monospace\">\n",
       "</pre>\n"
      ],
      "text/plain": [
       "\n"
      ]
     },
     "metadata": {},
     "output_type": "display_data"
    },
    {
     "data": {
      "text/html": [
       "<pre style=\"white-space:pre;overflow-x:auto;line-height:normal;font-family:Menlo,'DejaVu Sans Mono',consolas,'Courier New',monospace\"><span style=\"color: #008080; text-decoration-color: #008080; font-weight: bold\">1</span> records logged to <a href=\"https://michaelai23-argillatest.hf.space/datasets/admin/llm_textmarker_with_preds\" target=\"_blank\"><span style=\"color: #0000ff; text-decoration-color: #0000ff; text-decoration: underline\">https://michaelai23-argillatest.hf.space/datasets/admin/llm_textmarker_with_preds</span></a>\n",
       "</pre>\n"
      ],
      "text/plain": [
       "\u001b[1;36m1\u001b[0m records logged to \u001b]8;id=797351;https://michaelai23-argillatest.hf.space/datasets/admin/llm_textmarker_with_preds\u001b\\\u001b[4;94mhttps://michaelai23-argillatest.hf.space/datasets/admin/llm_textmarker_with_preds\u001b[0m\u001b]8;;\u001b\\\n"
      ]
     },
     "metadata": {},
     "output_type": "display_data"
    },
    {
     "data": {
      "application/vnd.jupyter.widget-view+json": {
       "model_id": "af83e048e7cd43c58278090d5db6c6d4",
       "version_major": 2,
       "version_minor": 0
      },
      "text/plain": [
       "Output()"
      ]
     },
     "metadata": {},
     "output_type": "display_data"
    },
    {
     "data": {
      "text/html": [
       "<pre style=\"white-space:pre;overflow-x:auto;line-height:normal;font-family:Menlo,'DejaVu Sans Mono',consolas,'Courier New',monospace\"></pre>\n"
      ],
      "text/plain": []
     },
     "metadata": {},
     "output_type": "display_data"
    },
    {
     "data": {
      "text/html": [
       "<pre style=\"white-space:pre;overflow-x:auto;line-height:normal;font-family:Menlo,'DejaVu Sans Mono',consolas,'Courier New',monospace\">\n",
       "</pre>\n"
      ],
      "text/plain": [
       "\n"
      ]
     },
     "metadata": {},
     "output_type": "display_data"
    },
    {
     "data": {
      "text/html": [
       "<pre style=\"white-space:pre;overflow-x:auto;line-height:normal;font-family:Menlo,'DejaVu Sans Mono',consolas,'Courier New',monospace\"><span style=\"color: #008080; text-decoration-color: #008080; font-weight: bold\">1</span> records logged to <a href=\"https://michaelai23-argillatest.hf.space/datasets/admin/llm_textmarker_with_preds\" target=\"_blank\"><span style=\"color: #0000ff; text-decoration-color: #0000ff; text-decoration: underline\">https://michaelai23-argillatest.hf.space/datasets/admin/llm_textmarker_with_preds</span></a>\n",
       "</pre>\n"
      ],
      "text/plain": [
       "\u001b[1;36m1\u001b[0m records logged to \u001b]8;id=890572;https://michaelai23-argillatest.hf.space/datasets/admin/llm_textmarker_with_preds\u001b\\\u001b[4;94mhttps://michaelai23-argillatest.hf.space/datasets/admin/llm_textmarker_with_preds\u001b[0m\u001b]8;;\u001b\\\n"
      ]
     },
     "metadata": {},
     "output_type": "display_data"
    },
    {
     "data": {
      "application/vnd.jupyter.widget-view+json": {
       "model_id": "4d92186245ec41de9156c6bd9d5397e3",
       "version_major": 2,
       "version_minor": 0
      },
      "text/plain": [
       "Output()"
      ]
     },
     "metadata": {},
     "output_type": "display_data"
    },
    {
     "data": {
      "text/html": [
       "<pre style=\"white-space:pre;overflow-x:auto;line-height:normal;font-family:Menlo,'DejaVu Sans Mono',consolas,'Courier New',monospace\"></pre>\n"
      ],
      "text/plain": []
     },
     "metadata": {},
     "output_type": "display_data"
    },
    {
     "data": {
      "text/html": [
       "<pre style=\"white-space:pre;overflow-x:auto;line-height:normal;font-family:Menlo,'DejaVu Sans Mono',consolas,'Courier New',monospace\">\n",
       "</pre>\n"
      ],
      "text/plain": [
       "\n"
      ]
     },
     "metadata": {},
     "output_type": "display_data"
    },
    {
     "data": {
      "text/html": [
       "<pre style=\"white-space:pre;overflow-x:auto;line-height:normal;font-family:Menlo,'DejaVu Sans Mono',consolas,'Courier New',monospace\"><span style=\"color: #008080; text-decoration-color: #008080; font-weight: bold\">1</span> records logged to <a href=\"https://michaelai23-argillatest.hf.space/datasets/admin/llm_textmarker_with_preds\" target=\"_blank\"><span style=\"color: #0000ff; text-decoration-color: #0000ff; text-decoration: underline\">https://michaelai23-argillatest.hf.space/datasets/admin/llm_textmarker_with_preds</span></a>\n",
       "</pre>\n"
      ],
      "text/plain": [
       "\u001b[1;36m1\u001b[0m records logged to \u001b]8;id=305867;https://michaelai23-argillatest.hf.space/datasets/admin/llm_textmarker_with_preds\u001b\\\u001b[4;94mhttps://michaelai23-argillatest.hf.space/datasets/admin/llm_textmarker_with_preds\u001b[0m\u001b]8;;\u001b\\\n"
      ]
     },
     "metadata": {},
     "output_type": "display_data"
    },
    {
     "data": {
      "application/vnd.jupyter.widget-view+json": {
       "model_id": "d77bda1f1a164f7da2a4be7f286c79c5",
       "version_major": 2,
       "version_minor": 0
      },
      "text/plain": [
       "Output()"
      ]
     },
     "metadata": {},
     "output_type": "display_data"
    },
    {
     "data": {
      "text/html": [
       "<pre style=\"white-space:pre;overflow-x:auto;line-height:normal;font-family:Menlo,'DejaVu Sans Mono',consolas,'Courier New',monospace\"></pre>\n"
      ],
      "text/plain": []
     },
     "metadata": {},
     "output_type": "display_data"
    },
    {
     "data": {
      "text/html": [
       "<pre style=\"white-space:pre;overflow-x:auto;line-height:normal;font-family:Menlo,'DejaVu Sans Mono',consolas,'Courier New',monospace\">\n",
       "</pre>\n"
      ],
      "text/plain": [
       "\n"
      ]
     },
     "metadata": {},
     "output_type": "display_data"
    },
    {
     "data": {
      "text/html": [
       "<pre style=\"white-space:pre;overflow-x:auto;line-height:normal;font-family:Menlo,'DejaVu Sans Mono',consolas,'Courier New',monospace\"><span style=\"color: #008080; text-decoration-color: #008080; font-weight: bold\">1</span> records logged to <a href=\"https://michaelai23-argillatest.hf.space/datasets/admin/llm_textmarker_with_preds\" target=\"_blank\"><span style=\"color: #0000ff; text-decoration-color: #0000ff; text-decoration: underline\">https://michaelai23-argillatest.hf.space/datasets/admin/llm_textmarker_with_preds</span></a>\n",
       "</pre>\n"
      ],
      "text/plain": [
       "\u001b[1;36m1\u001b[0m records logged to \u001b]8;id=474490;https://michaelai23-argillatest.hf.space/datasets/admin/llm_textmarker_with_preds\u001b\\\u001b[4;94mhttps://michaelai23-argillatest.hf.space/datasets/admin/llm_textmarker_with_preds\u001b[0m\u001b]8;;\u001b\\\n"
      ]
     },
     "metadata": {},
     "output_type": "display_data"
    },
    {
     "data": {
      "application/vnd.jupyter.widget-view+json": {
       "model_id": "195ce187305b4a189621e38ac2553d5c",
       "version_major": 2,
       "version_minor": 0
      },
      "text/plain": [
       "Output()"
      ]
     },
     "metadata": {},
     "output_type": "display_data"
    },
    {
     "data": {
      "text/html": [
       "<pre style=\"white-space:pre;overflow-x:auto;line-height:normal;font-family:Menlo,'DejaVu Sans Mono',consolas,'Courier New',monospace\"></pre>\n"
      ],
      "text/plain": []
     },
     "metadata": {},
     "output_type": "display_data"
    },
    {
     "data": {
      "text/html": [
       "<pre style=\"white-space:pre;overflow-x:auto;line-height:normal;font-family:Menlo,'DejaVu Sans Mono',consolas,'Courier New',monospace\">\n",
       "</pre>\n"
      ],
      "text/plain": [
       "\n"
      ]
     },
     "metadata": {},
     "output_type": "display_data"
    },
    {
     "data": {
      "text/html": [
       "<pre style=\"white-space:pre;overflow-x:auto;line-height:normal;font-family:Menlo,'DejaVu Sans Mono',consolas,'Courier New',monospace\"><span style=\"color: #008080; text-decoration-color: #008080; font-weight: bold\">1</span> records logged to <a href=\"https://michaelai23-argillatest.hf.space/datasets/admin/llm_textmarker_with_preds\" target=\"_blank\"><span style=\"color: #0000ff; text-decoration-color: #0000ff; text-decoration: underline\">https://michaelai23-argillatest.hf.space/datasets/admin/llm_textmarker_with_preds</span></a>\n",
       "</pre>\n"
      ],
      "text/plain": [
       "\u001b[1;36m1\u001b[0m records logged to \u001b]8;id=94059;https://michaelai23-argillatest.hf.space/datasets/admin/llm_textmarker_with_preds\u001b\\\u001b[4;94mhttps://michaelai23-argillatest.hf.space/datasets/admin/llm_textmarker_with_preds\u001b[0m\u001b]8;;\u001b\\\n"
      ]
     },
     "metadata": {},
     "output_type": "display_data"
    },
    {
     "data": {
      "application/vnd.jupyter.widget-view+json": {
       "model_id": "8f410fde78834d239a12b77fec42028b",
       "version_major": 2,
       "version_minor": 0
      },
      "text/plain": [
       "Output()"
      ]
     },
     "metadata": {},
     "output_type": "display_data"
    },
    {
     "data": {
      "text/html": [
       "<pre style=\"white-space:pre;overflow-x:auto;line-height:normal;font-family:Menlo,'DejaVu Sans Mono',consolas,'Courier New',monospace\"></pre>\n"
      ],
      "text/plain": []
     },
     "metadata": {},
     "output_type": "display_data"
    },
    {
     "data": {
      "text/html": [
       "<pre style=\"white-space:pre;overflow-x:auto;line-height:normal;font-family:Menlo,'DejaVu Sans Mono',consolas,'Courier New',monospace\">\n",
       "</pre>\n"
      ],
      "text/plain": [
       "\n"
      ]
     },
     "metadata": {},
     "output_type": "display_data"
    },
    {
     "data": {
      "text/html": [
       "<pre style=\"white-space:pre;overflow-x:auto;line-height:normal;font-family:Menlo,'DejaVu Sans Mono',consolas,'Courier New',monospace\"><span style=\"color: #008080; text-decoration-color: #008080; font-weight: bold\">1</span> records logged to <a href=\"https://michaelai23-argillatest.hf.space/datasets/admin/llm_textmarker_with_preds\" target=\"_blank\"><span style=\"color: #0000ff; text-decoration-color: #0000ff; text-decoration: underline\">https://michaelai23-argillatest.hf.space/datasets/admin/llm_textmarker_with_preds</span></a>\n",
       "</pre>\n"
      ],
      "text/plain": [
       "\u001b[1;36m1\u001b[0m records logged to \u001b]8;id=757036;https://michaelai23-argillatest.hf.space/datasets/admin/llm_textmarker_with_preds\u001b\\\u001b[4;94mhttps://michaelai23-argillatest.hf.space/datasets/admin/llm_textmarker_with_preds\u001b[0m\u001b]8;;\u001b\\\n"
      ]
     },
     "metadata": {},
     "output_type": "display_data"
    },
    {
     "data": {
      "application/vnd.jupyter.widget-view+json": {
       "model_id": "70abf9b944a9472e9bf7d1a1649d9393",
       "version_major": 2,
       "version_minor": 0
      },
      "text/plain": [
       "Output()"
      ]
     },
     "metadata": {},
     "output_type": "display_data"
    },
    {
     "data": {
      "text/html": [
       "<pre style=\"white-space:pre;overflow-x:auto;line-height:normal;font-family:Menlo,'DejaVu Sans Mono',consolas,'Courier New',monospace\"></pre>\n"
      ],
      "text/plain": []
     },
     "metadata": {},
     "output_type": "display_data"
    },
    {
     "data": {
      "text/html": [
       "<pre style=\"white-space:pre;overflow-x:auto;line-height:normal;font-family:Menlo,'DejaVu Sans Mono',consolas,'Courier New',monospace\">\n",
       "</pre>\n"
      ],
      "text/plain": [
       "\n"
      ]
     },
     "metadata": {},
     "output_type": "display_data"
    },
    {
     "data": {
      "text/html": [
       "<pre style=\"white-space:pre;overflow-x:auto;line-height:normal;font-family:Menlo,'DejaVu Sans Mono',consolas,'Courier New',monospace\"><span style=\"color: #008080; text-decoration-color: #008080; font-weight: bold\">1</span> records logged to <a href=\"https://michaelai23-argillatest.hf.space/datasets/admin/llm_textmarker_with_preds\" target=\"_blank\"><span style=\"color: #0000ff; text-decoration-color: #0000ff; text-decoration: underline\">https://michaelai23-argillatest.hf.space/datasets/admin/llm_textmarker_with_preds</span></a>\n",
       "</pre>\n"
      ],
      "text/plain": [
       "\u001b[1;36m1\u001b[0m records logged to \u001b]8;id=310918;https://michaelai23-argillatest.hf.space/datasets/admin/llm_textmarker_with_preds\u001b\\\u001b[4;94mhttps://michaelai23-argillatest.hf.space/datasets/admin/llm_textmarker_with_preds\u001b[0m\u001b]8;;\u001b\\\n"
      ]
     },
     "metadata": {},
     "output_type": "display_data"
    },
    {
     "data": {
      "application/vnd.jupyter.widget-view+json": {
       "model_id": "01094c775637489699680a1ff1d9c792",
       "version_major": 2,
       "version_minor": 0
      },
      "text/plain": [
       "Output()"
      ]
     },
     "metadata": {},
     "output_type": "display_data"
    },
    {
     "data": {
      "text/html": [
       "<pre style=\"white-space:pre;overflow-x:auto;line-height:normal;font-family:Menlo,'DejaVu Sans Mono',consolas,'Courier New',monospace\"></pre>\n"
      ],
      "text/plain": []
     },
     "metadata": {},
     "output_type": "display_data"
    },
    {
     "data": {
      "text/html": [
       "<pre style=\"white-space:pre;overflow-x:auto;line-height:normal;font-family:Menlo,'DejaVu Sans Mono',consolas,'Courier New',monospace\">\n",
       "</pre>\n"
      ],
      "text/plain": [
       "\n"
      ]
     },
     "metadata": {},
     "output_type": "display_data"
    },
    {
     "data": {
      "text/html": [
       "<pre style=\"white-space:pre;overflow-x:auto;line-height:normal;font-family:Menlo,'DejaVu Sans Mono',consolas,'Courier New',monospace\"><span style=\"color: #008080; text-decoration-color: #008080; font-weight: bold\">1</span> records logged to <a href=\"https://michaelai23-argillatest.hf.space/datasets/admin/llm_textmarker_with_preds\" target=\"_blank\"><span style=\"color: #0000ff; text-decoration-color: #0000ff; text-decoration: underline\">https://michaelai23-argillatest.hf.space/datasets/admin/llm_textmarker_with_preds</span></a>\n",
       "</pre>\n"
      ],
      "text/plain": [
       "\u001b[1;36m1\u001b[0m records logged to \u001b]8;id=628877;https://michaelai23-argillatest.hf.space/datasets/admin/llm_textmarker_with_preds\u001b\\\u001b[4;94mhttps://michaelai23-argillatest.hf.space/datasets/admin/llm_textmarker_with_preds\u001b[0m\u001b]8;;\u001b\\\n"
      ]
     },
     "metadata": {},
     "output_type": "display_data"
    },
    {
     "data": {
      "application/vnd.jupyter.widget-view+json": {
       "model_id": "cd81a148818a47449901f3c318057279",
       "version_major": 2,
       "version_minor": 0
      },
      "text/plain": [
       "Output()"
      ]
     },
     "metadata": {},
     "output_type": "display_data"
    },
    {
     "data": {
      "text/html": [
       "<pre style=\"white-space:pre;overflow-x:auto;line-height:normal;font-family:Menlo,'DejaVu Sans Mono',consolas,'Courier New',monospace\"></pre>\n"
      ],
      "text/plain": []
     },
     "metadata": {},
     "output_type": "display_data"
    },
    {
     "data": {
      "text/html": [
       "<pre style=\"white-space:pre;overflow-x:auto;line-height:normal;font-family:Menlo,'DejaVu Sans Mono',consolas,'Courier New',monospace\">\n",
       "</pre>\n"
      ],
      "text/plain": [
       "\n"
      ]
     },
     "metadata": {},
     "output_type": "display_data"
    },
    {
     "data": {
      "text/html": [
       "<pre style=\"white-space:pre;overflow-x:auto;line-height:normal;font-family:Menlo,'DejaVu Sans Mono',consolas,'Courier New',monospace\"><span style=\"color: #008080; text-decoration-color: #008080; font-weight: bold\">1</span> records logged to <a href=\"https://michaelai23-argillatest.hf.space/datasets/admin/llm_textmarker_with_preds\" target=\"_blank\"><span style=\"color: #0000ff; text-decoration-color: #0000ff; text-decoration: underline\">https://michaelai23-argillatest.hf.space/datasets/admin/llm_textmarker_with_preds</span></a>\n",
       "</pre>\n"
      ],
      "text/plain": [
       "\u001b[1;36m1\u001b[0m records logged to \u001b]8;id=28265;https://michaelai23-argillatest.hf.space/datasets/admin/llm_textmarker_with_preds\u001b\\\u001b[4;94mhttps://michaelai23-argillatest.hf.space/datasets/admin/llm_textmarker_with_preds\u001b[0m\u001b]8;;\u001b\\\n"
      ]
     },
     "metadata": {},
     "output_type": "display_data"
    },
    {
     "data": {
      "application/vnd.jupyter.widget-view+json": {
       "model_id": "ace48d29e6e545128b2f64ec9da32555",
       "version_major": 2,
       "version_minor": 0
      },
      "text/plain": [
       "Output()"
      ]
     },
     "metadata": {},
     "output_type": "display_data"
    },
    {
     "data": {
      "text/html": [
       "<pre style=\"white-space:pre;overflow-x:auto;line-height:normal;font-family:Menlo,'DejaVu Sans Mono',consolas,'Courier New',monospace\"></pre>\n"
      ],
      "text/plain": []
     },
     "metadata": {},
     "output_type": "display_data"
    },
    {
     "data": {
      "text/html": [
       "<pre style=\"white-space:pre;overflow-x:auto;line-height:normal;font-family:Menlo,'DejaVu Sans Mono',consolas,'Courier New',monospace\">\n",
       "</pre>\n"
      ],
      "text/plain": [
       "\n"
      ]
     },
     "metadata": {},
     "output_type": "display_data"
    },
    {
     "data": {
      "text/html": [
       "<pre style=\"white-space:pre;overflow-x:auto;line-height:normal;font-family:Menlo,'DejaVu Sans Mono',consolas,'Courier New',monospace\"><span style=\"color: #008080; text-decoration-color: #008080; font-weight: bold\">1</span> records logged to <a href=\"https://michaelai23-argillatest.hf.space/datasets/admin/llm_textmarker_with_preds\" target=\"_blank\"><span style=\"color: #0000ff; text-decoration-color: #0000ff; text-decoration: underline\">https://michaelai23-argillatest.hf.space/datasets/admin/llm_textmarker_with_preds</span></a>\n",
       "</pre>\n"
      ],
      "text/plain": [
       "\u001b[1;36m1\u001b[0m records logged to \u001b]8;id=989515;https://michaelai23-argillatest.hf.space/datasets/admin/llm_textmarker_with_preds\u001b\\\u001b[4;94mhttps://michaelai23-argillatest.hf.space/datasets/admin/llm_textmarker_with_preds\u001b[0m\u001b]8;;\u001b\\\n"
      ]
     },
     "metadata": {},
     "output_type": "display_data"
    },
    {
     "data": {
      "application/vnd.jupyter.widget-view+json": {
       "model_id": "a9f72eb1946a4534bb50fd6a0f1d5e84",
       "version_major": 2,
       "version_minor": 0
      },
      "text/plain": [
       "Output()"
      ]
     },
     "metadata": {},
     "output_type": "display_data"
    },
    {
     "data": {
      "text/html": [
       "<pre style=\"white-space:pre;overflow-x:auto;line-height:normal;font-family:Menlo,'DejaVu Sans Mono',consolas,'Courier New',monospace\"></pre>\n"
      ],
      "text/plain": []
     },
     "metadata": {},
     "output_type": "display_data"
    },
    {
     "data": {
      "text/html": [
       "<pre style=\"white-space:pre;overflow-x:auto;line-height:normal;font-family:Menlo,'DejaVu Sans Mono',consolas,'Courier New',monospace\">\n",
       "</pre>\n"
      ],
      "text/plain": [
       "\n"
      ]
     },
     "metadata": {},
     "output_type": "display_data"
    },
    {
     "data": {
      "text/html": [
       "<pre style=\"white-space:pre;overflow-x:auto;line-height:normal;font-family:Menlo,'DejaVu Sans Mono',consolas,'Courier New',monospace\"><span style=\"color: #008080; text-decoration-color: #008080; font-weight: bold\">1</span> records logged to <a href=\"https://michaelai23-argillatest.hf.space/datasets/admin/llm_textmarker_with_preds\" target=\"_blank\"><span style=\"color: #0000ff; text-decoration-color: #0000ff; text-decoration: underline\">https://michaelai23-argillatest.hf.space/datasets/admin/llm_textmarker_with_preds</span></a>\n",
       "</pre>\n"
      ],
      "text/plain": [
       "\u001b[1;36m1\u001b[0m records logged to \u001b]8;id=165492;https://michaelai23-argillatest.hf.space/datasets/admin/llm_textmarker_with_preds\u001b\\\u001b[4;94mhttps://michaelai23-argillatest.hf.space/datasets/admin/llm_textmarker_with_preds\u001b[0m\u001b]8;;\u001b\\\n"
      ]
     },
     "metadata": {},
     "output_type": "display_data"
    },
    {
     "data": {
      "application/vnd.jupyter.widget-view+json": {
       "model_id": "3f6dff6e781948cd8310728745828eed",
       "version_major": 2,
       "version_minor": 0
      },
      "text/plain": [
       "Output()"
      ]
     },
     "metadata": {},
     "output_type": "display_data"
    },
    {
     "data": {
      "text/html": [
       "<pre style=\"white-space:pre;overflow-x:auto;line-height:normal;font-family:Menlo,'DejaVu Sans Mono',consolas,'Courier New',monospace\"></pre>\n"
      ],
      "text/plain": []
     },
     "metadata": {},
     "output_type": "display_data"
    },
    {
     "data": {
      "text/html": [
       "<pre style=\"white-space:pre;overflow-x:auto;line-height:normal;font-family:Menlo,'DejaVu Sans Mono',consolas,'Courier New',monospace\">\n",
       "</pre>\n"
      ],
      "text/plain": [
       "\n"
      ]
     },
     "metadata": {},
     "output_type": "display_data"
    },
    {
     "data": {
      "text/html": [
       "<pre style=\"white-space:pre;overflow-x:auto;line-height:normal;font-family:Menlo,'DejaVu Sans Mono',consolas,'Courier New',monospace\"><span style=\"color: #008080; text-decoration-color: #008080; font-weight: bold\">1</span> records logged to <a href=\"https://michaelai23-argillatest.hf.space/datasets/admin/llm_textmarker_with_preds\" target=\"_blank\"><span style=\"color: #0000ff; text-decoration-color: #0000ff; text-decoration: underline\">https://michaelai23-argillatest.hf.space/datasets/admin/llm_textmarker_with_preds</span></a>\n",
       "</pre>\n"
      ],
      "text/plain": [
       "\u001b[1;36m1\u001b[0m records logged to \u001b]8;id=182759;https://michaelai23-argillatest.hf.space/datasets/admin/llm_textmarker_with_preds\u001b\\\u001b[4;94mhttps://michaelai23-argillatest.hf.space/datasets/admin/llm_textmarker_with_preds\u001b[0m\u001b]8;;\u001b\\\n"
      ]
     },
     "metadata": {},
     "output_type": "display_data"
    },
    {
     "data": {
      "application/vnd.jupyter.widget-view+json": {
       "model_id": "935f0101ef5648f5a9134e1fe3568da9",
       "version_major": 2,
       "version_minor": 0
      },
      "text/plain": [
       "Output()"
      ]
     },
     "metadata": {},
     "output_type": "display_data"
    },
    {
     "data": {
      "text/html": [
       "<pre style=\"white-space:pre;overflow-x:auto;line-height:normal;font-family:Menlo,'DejaVu Sans Mono',consolas,'Courier New',monospace\"></pre>\n"
      ],
      "text/plain": []
     },
     "metadata": {},
     "output_type": "display_data"
    },
    {
     "data": {
      "text/html": [
       "<pre style=\"white-space:pre;overflow-x:auto;line-height:normal;font-family:Menlo,'DejaVu Sans Mono',consolas,'Courier New',monospace\">\n",
       "</pre>\n"
      ],
      "text/plain": [
       "\n"
      ]
     },
     "metadata": {},
     "output_type": "display_data"
    },
    {
     "data": {
      "text/html": [
       "<pre style=\"white-space:pre;overflow-x:auto;line-height:normal;font-family:Menlo,'DejaVu Sans Mono',consolas,'Courier New',monospace\"><span style=\"color: #008080; text-decoration-color: #008080; font-weight: bold\">1</span> records logged to <a href=\"https://michaelai23-argillatest.hf.space/datasets/admin/llm_textmarker_with_preds\" target=\"_blank\"><span style=\"color: #0000ff; text-decoration-color: #0000ff; text-decoration: underline\">https://michaelai23-argillatest.hf.space/datasets/admin/llm_textmarker_with_preds</span></a>\n",
       "</pre>\n"
      ],
      "text/plain": [
       "\u001b[1;36m1\u001b[0m records logged to \u001b]8;id=406842;https://michaelai23-argillatest.hf.space/datasets/admin/llm_textmarker_with_preds\u001b\\\u001b[4;94mhttps://michaelai23-argillatest.hf.space/datasets/admin/llm_textmarker_with_preds\u001b[0m\u001b]8;;\u001b\\\n"
      ]
     },
     "metadata": {},
     "output_type": "display_data"
    },
    {
     "data": {
      "application/vnd.jupyter.widget-view+json": {
       "model_id": "fa397f1a968f42a78436f3fcb0ee4284",
       "version_major": 2,
       "version_minor": 0
      },
      "text/plain": [
       "Output()"
      ]
     },
     "metadata": {},
     "output_type": "display_data"
    },
    {
     "data": {
      "text/html": [
       "<pre style=\"white-space:pre;overflow-x:auto;line-height:normal;font-family:Menlo,'DejaVu Sans Mono',consolas,'Courier New',monospace\"></pre>\n"
      ],
      "text/plain": []
     },
     "metadata": {},
     "output_type": "display_data"
    },
    {
     "data": {
      "text/html": [
       "<pre style=\"white-space:pre;overflow-x:auto;line-height:normal;font-family:Menlo,'DejaVu Sans Mono',consolas,'Courier New',monospace\">\n",
       "</pre>\n"
      ],
      "text/plain": [
       "\n"
      ]
     },
     "metadata": {},
     "output_type": "display_data"
    },
    {
     "data": {
      "text/html": [
       "<pre style=\"white-space:pre;overflow-x:auto;line-height:normal;font-family:Menlo,'DejaVu Sans Mono',consolas,'Courier New',monospace\"><span style=\"color: #008080; text-decoration-color: #008080; font-weight: bold\">1</span> records logged to <a href=\"https://michaelai23-argillatest.hf.space/datasets/admin/llm_textmarker_with_preds\" target=\"_blank\"><span style=\"color: #0000ff; text-decoration-color: #0000ff; text-decoration: underline\">https://michaelai23-argillatest.hf.space/datasets/admin/llm_textmarker_with_preds</span></a>\n",
       "</pre>\n"
      ],
      "text/plain": [
       "\u001b[1;36m1\u001b[0m records logged to \u001b]8;id=817002;https://michaelai23-argillatest.hf.space/datasets/admin/llm_textmarker_with_preds\u001b\\\u001b[4;94mhttps://michaelai23-argillatest.hf.space/datasets/admin/llm_textmarker_with_preds\u001b[0m\u001b]8;;\u001b\\\n"
      ]
     },
     "metadata": {},
     "output_type": "display_data"
    },
    {
     "data": {
      "application/vnd.jupyter.widget-view+json": {
       "model_id": "ce2e812fe0fa417ea673947b0414e96b",
       "version_major": 2,
       "version_minor": 0
      },
      "text/plain": [
       "Output()"
      ]
     },
     "metadata": {},
     "output_type": "display_data"
    },
    {
     "data": {
      "text/html": [
       "<pre style=\"white-space:pre;overflow-x:auto;line-height:normal;font-family:Menlo,'DejaVu Sans Mono',consolas,'Courier New',monospace\"></pre>\n"
      ],
      "text/plain": []
     },
     "metadata": {},
     "output_type": "display_data"
    },
    {
     "data": {
      "text/html": [
       "<pre style=\"white-space:pre;overflow-x:auto;line-height:normal;font-family:Menlo,'DejaVu Sans Mono',consolas,'Courier New',monospace\">\n",
       "</pre>\n"
      ],
      "text/plain": [
       "\n"
      ]
     },
     "metadata": {},
     "output_type": "display_data"
    },
    {
     "data": {
      "text/html": [
       "<pre style=\"white-space:pre;overflow-x:auto;line-height:normal;font-family:Menlo,'DejaVu Sans Mono',consolas,'Courier New',monospace\"><span style=\"color: #008080; text-decoration-color: #008080; font-weight: bold\">1</span> records logged to <a href=\"https://michaelai23-argillatest.hf.space/datasets/admin/llm_textmarker_with_preds\" target=\"_blank\"><span style=\"color: #0000ff; text-decoration-color: #0000ff; text-decoration: underline\">https://michaelai23-argillatest.hf.space/datasets/admin/llm_textmarker_with_preds</span></a>\n",
       "</pre>\n"
      ],
      "text/plain": [
       "\u001b[1;36m1\u001b[0m records logged to \u001b]8;id=948490;https://michaelai23-argillatest.hf.space/datasets/admin/llm_textmarker_with_preds\u001b\\\u001b[4;94mhttps://michaelai23-argillatest.hf.space/datasets/admin/llm_textmarker_with_preds\u001b[0m\u001b]8;;\u001b\\\n"
      ]
     },
     "metadata": {},
     "output_type": "display_data"
    },
    {
     "data": {
      "application/vnd.jupyter.widget-view+json": {
       "model_id": "5acfe0c1bee9413898f67694766d1e04",
       "version_major": 2,
       "version_minor": 0
      },
      "text/plain": [
       "Output()"
      ]
     },
     "metadata": {},
     "output_type": "display_data"
    },
    {
     "data": {
      "text/html": [
       "<pre style=\"white-space:pre;overflow-x:auto;line-height:normal;font-family:Menlo,'DejaVu Sans Mono',consolas,'Courier New',monospace\"></pre>\n"
      ],
      "text/plain": []
     },
     "metadata": {},
     "output_type": "display_data"
    },
    {
     "data": {
      "text/html": [
       "<pre style=\"white-space:pre;overflow-x:auto;line-height:normal;font-family:Menlo,'DejaVu Sans Mono',consolas,'Courier New',monospace\">\n",
       "</pre>\n"
      ],
      "text/plain": [
       "\n"
      ]
     },
     "metadata": {},
     "output_type": "display_data"
    },
    {
     "data": {
      "text/html": [
       "<pre style=\"white-space:pre;overflow-x:auto;line-height:normal;font-family:Menlo,'DejaVu Sans Mono',consolas,'Courier New',monospace\"><span style=\"color: #008080; text-decoration-color: #008080; font-weight: bold\">1</span> records logged to <a href=\"https://michaelai23-argillatest.hf.space/datasets/admin/llm_textmarker_with_preds\" target=\"_blank\"><span style=\"color: #0000ff; text-decoration-color: #0000ff; text-decoration: underline\">https://michaelai23-argillatest.hf.space/datasets/admin/llm_textmarker_with_preds</span></a>\n",
       "</pre>\n"
      ],
      "text/plain": [
       "\u001b[1;36m1\u001b[0m records logged to \u001b]8;id=709570;https://michaelai23-argillatest.hf.space/datasets/admin/llm_textmarker_with_preds\u001b\\\u001b[4;94mhttps://michaelai23-argillatest.hf.space/datasets/admin/llm_textmarker_with_preds\u001b[0m\u001b]8;;\u001b\\\n"
      ]
     },
     "metadata": {},
     "output_type": "display_data"
    },
    {
     "data": {
      "application/vnd.jupyter.widget-view+json": {
       "model_id": "ece3298394b245c69bdb50d9ab314c69",
       "version_major": 2,
       "version_minor": 0
      },
      "text/plain": [
       "Output()"
      ]
     },
     "metadata": {},
     "output_type": "display_data"
    },
    {
     "data": {
      "text/html": [
       "<pre style=\"white-space:pre;overflow-x:auto;line-height:normal;font-family:Menlo,'DejaVu Sans Mono',consolas,'Courier New',monospace\"></pre>\n"
      ],
      "text/plain": []
     },
     "metadata": {},
     "output_type": "display_data"
    },
    {
     "data": {
      "text/html": [
       "<pre style=\"white-space:pre;overflow-x:auto;line-height:normal;font-family:Menlo,'DejaVu Sans Mono',consolas,'Courier New',monospace\">\n",
       "</pre>\n"
      ],
      "text/plain": [
       "\n"
      ]
     },
     "metadata": {},
     "output_type": "display_data"
    },
    {
     "data": {
      "text/html": [
       "<pre style=\"white-space:pre;overflow-x:auto;line-height:normal;font-family:Menlo,'DejaVu Sans Mono',consolas,'Courier New',monospace\"><span style=\"color: #008080; text-decoration-color: #008080; font-weight: bold\">1</span> records logged to <a href=\"https://michaelai23-argillatest.hf.space/datasets/admin/llm_textmarker_with_preds\" target=\"_blank\"><span style=\"color: #0000ff; text-decoration-color: #0000ff; text-decoration: underline\">https://michaelai23-argillatest.hf.space/datasets/admin/llm_textmarker_with_preds</span></a>\n",
       "</pre>\n"
      ],
      "text/plain": [
       "\u001b[1;36m1\u001b[0m records logged to \u001b]8;id=679859;https://michaelai23-argillatest.hf.space/datasets/admin/llm_textmarker_with_preds\u001b\\\u001b[4;94mhttps://michaelai23-argillatest.hf.space/datasets/admin/llm_textmarker_with_preds\u001b[0m\u001b]8;;\u001b\\\n"
      ]
     },
     "metadata": {},
     "output_type": "display_data"
    },
    {
     "data": {
      "application/vnd.jupyter.widget-view+json": {
       "model_id": "6a4723e5d437453087562f6248dc8a7c",
       "version_major": 2,
       "version_minor": 0
      },
      "text/plain": [
       "Output()"
      ]
     },
     "metadata": {},
     "output_type": "display_data"
    },
    {
     "data": {
      "text/html": [
       "<pre style=\"white-space:pre;overflow-x:auto;line-height:normal;font-family:Menlo,'DejaVu Sans Mono',consolas,'Courier New',monospace\"></pre>\n"
      ],
      "text/plain": []
     },
     "metadata": {},
     "output_type": "display_data"
    },
    {
     "data": {
      "text/html": [
       "<pre style=\"white-space:pre;overflow-x:auto;line-height:normal;font-family:Menlo,'DejaVu Sans Mono',consolas,'Courier New',monospace\">\n",
       "</pre>\n"
      ],
      "text/plain": [
       "\n"
      ]
     },
     "metadata": {},
     "output_type": "display_data"
    },
    {
     "data": {
      "text/html": [
       "<pre style=\"white-space:pre;overflow-x:auto;line-height:normal;font-family:Menlo,'DejaVu Sans Mono',consolas,'Courier New',monospace\"><span style=\"color: #008080; text-decoration-color: #008080; font-weight: bold\">1</span> records logged to <a href=\"https://michaelai23-argillatest.hf.space/datasets/admin/llm_textmarker_with_preds\" target=\"_blank\"><span style=\"color: #0000ff; text-decoration-color: #0000ff; text-decoration: underline\">https://michaelai23-argillatest.hf.space/datasets/admin/llm_textmarker_with_preds</span></a>\n",
       "</pre>\n"
      ],
      "text/plain": [
       "\u001b[1;36m1\u001b[0m records logged to \u001b]8;id=860466;https://michaelai23-argillatest.hf.space/datasets/admin/llm_textmarker_with_preds\u001b\\\u001b[4;94mhttps://michaelai23-argillatest.hf.space/datasets/admin/llm_textmarker_with_preds\u001b[0m\u001b]8;;\u001b\\\n"
      ]
     },
     "metadata": {},
     "output_type": "display_data"
    },
    {
     "data": {
      "application/vnd.jupyter.widget-view+json": {
       "model_id": "520b1e8a7a624684bf8f2e6da046b5c9",
       "version_major": 2,
       "version_minor": 0
      },
      "text/plain": [
       "Output()"
      ]
     },
     "metadata": {},
     "output_type": "display_data"
    },
    {
     "data": {
      "text/html": [
       "<pre style=\"white-space:pre;overflow-x:auto;line-height:normal;font-family:Menlo,'DejaVu Sans Mono',consolas,'Courier New',monospace\"></pre>\n"
      ],
      "text/plain": []
     },
     "metadata": {},
     "output_type": "display_data"
    },
    {
     "data": {
      "text/html": [
       "<pre style=\"white-space:pre;overflow-x:auto;line-height:normal;font-family:Menlo,'DejaVu Sans Mono',consolas,'Courier New',monospace\">\n",
       "</pre>\n"
      ],
      "text/plain": [
       "\n"
      ]
     },
     "metadata": {},
     "output_type": "display_data"
    },
    {
     "data": {
      "text/html": [
       "<pre style=\"white-space:pre;overflow-x:auto;line-height:normal;font-family:Menlo,'DejaVu Sans Mono',consolas,'Courier New',monospace\"><span style=\"color: #008080; text-decoration-color: #008080; font-weight: bold\">1</span> records logged to <a href=\"https://michaelai23-argillatest.hf.space/datasets/admin/llm_textmarker_with_preds\" target=\"_blank\"><span style=\"color: #0000ff; text-decoration-color: #0000ff; text-decoration: underline\">https://michaelai23-argillatest.hf.space/datasets/admin/llm_textmarker_with_preds</span></a>\n",
       "</pre>\n"
      ],
      "text/plain": [
       "\u001b[1;36m1\u001b[0m records logged to \u001b]8;id=329785;https://michaelai23-argillatest.hf.space/datasets/admin/llm_textmarker_with_preds\u001b\\\u001b[4;94mhttps://michaelai23-argillatest.hf.space/datasets/admin/llm_textmarker_with_preds\u001b[0m\u001b]8;;\u001b\\\n"
      ]
     },
     "metadata": {},
     "output_type": "display_data"
    },
    {
     "data": {
      "application/vnd.jupyter.widget-view+json": {
       "model_id": "a9e05f0305504546a1fea5bf913df6a3",
       "version_major": 2,
       "version_minor": 0
      },
      "text/plain": [
       "Output()"
      ]
     },
     "metadata": {},
     "output_type": "display_data"
    },
    {
     "data": {
      "text/html": [
       "<pre style=\"white-space:pre;overflow-x:auto;line-height:normal;font-family:Menlo,'DejaVu Sans Mono',consolas,'Courier New',monospace\"></pre>\n"
      ],
      "text/plain": []
     },
     "metadata": {},
     "output_type": "display_data"
    },
    {
     "data": {
      "text/html": [
       "<pre style=\"white-space:pre;overflow-x:auto;line-height:normal;font-family:Menlo,'DejaVu Sans Mono',consolas,'Courier New',monospace\">\n",
       "</pre>\n"
      ],
      "text/plain": [
       "\n"
      ]
     },
     "metadata": {},
     "output_type": "display_data"
    },
    {
     "data": {
      "text/html": [
       "<pre style=\"white-space:pre;overflow-x:auto;line-height:normal;font-family:Menlo,'DejaVu Sans Mono',consolas,'Courier New',monospace\"><span style=\"color: #008080; text-decoration-color: #008080; font-weight: bold\">1</span> records logged to <a href=\"https://michaelai23-argillatest.hf.space/datasets/admin/llm_textmarker_with_preds\" target=\"_blank\"><span style=\"color: #0000ff; text-decoration-color: #0000ff; text-decoration: underline\">https://michaelai23-argillatest.hf.space/datasets/admin/llm_textmarker_with_preds</span></a>\n",
       "</pre>\n"
      ],
      "text/plain": [
       "\u001b[1;36m1\u001b[0m records logged to \u001b]8;id=822;https://michaelai23-argillatest.hf.space/datasets/admin/llm_textmarker_with_preds\u001b\\\u001b[4;94mhttps://michaelai23-argillatest.hf.space/datasets/admin/llm_textmarker_with_preds\u001b[0m\u001b]8;;\u001b\\\n"
      ]
     },
     "metadata": {},
     "output_type": "display_data"
    },
    {
     "data": {
      "application/vnd.jupyter.widget-view+json": {
       "model_id": "8a02269864934fbebdd2839415dc2f8d",
       "version_major": 2,
       "version_minor": 0
      },
      "text/plain": [
       "Output()"
      ]
     },
     "metadata": {},
     "output_type": "display_data"
    },
    {
     "data": {
      "text/html": [
       "<pre style=\"white-space:pre;overflow-x:auto;line-height:normal;font-family:Menlo,'DejaVu Sans Mono',consolas,'Courier New',monospace\"></pre>\n"
      ],
      "text/plain": []
     },
     "metadata": {},
     "output_type": "display_data"
    },
    {
     "data": {
      "text/html": [
       "<pre style=\"white-space:pre;overflow-x:auto;line-height:normal;font-family:Menlo,'DejaVu Sans Mono',consolas,'Courier New',monospace\">\n",
       "</pre>\n"
      ],
      "text/plain": [
       "\n"
      ]
     },
     "metadata": {},
     "output_type": "display_data"
    },
    {
     "data": {
      "text/html": [
       "<pre style=\"white-space:pre;overflow-x:auto;line-height:normal;font-family:Menlo,'DejaVu Sans Mono',consolas,'Courier New',monospace\"><span style=\"color: #008080; text-decoration-color: #008080; font-weight: bold\">1</span> records logged to <a href=\"https://michaelai23-argillatest.hf.space/datasets/admin/llm_textmarker_with_preds\" target=\"_blank\"><span style=\"color: #0000ff; text-decoration-color: #0000ff; text-decoration: underline\">https://michaelai23-argillatest.hf.space/datasets/admin/llm_textmarker_with_preds</span></a>\n",
       "</pre>\n"
      ],
      "text/plain": [
       "\u001b[1;36m1\u001b[0m records logged to \u001b]8;id=740087;https://michaelai23-argillatest.hf.space/datasets/admin/llm_textmarker_with_preds\u001b\\\u001b[4;94mhttps://michaelai23-argillatest.hf.space/datasets/admin/llm_textmarker_with_preds\u001b[0m\u001b]8;;\u001b\\\n"
      ]
     },
     "metadata": {},
     "output_type": "display_data"
    },
    {
     "data": {
      "application/vnd.jupyter.widget-view+json": {
       "model_id": "b912e67453e745c2b2e9dbceee9170ed",
       "version_major": 2,
       "version_minor": 0
      },
      "text/plain": [
       "Output()"
      ]
     },
     "metadata": {},
     "output_type": "display_data"
    },
    {
     "data": {
      "text/html": [
       "<pre style=\"white-space:pre;overflow-x:auto;line-height:normal;font-family:Menlo,'DejaVu Sans Mono',consolas,'Courier New',monospace\"></pre>\n"
      ],
      "text/plain": []
     },
     "metadata": {},
     "output_type": "display_data"
    },
    {
     "data": {
      "text/html": [
       "<pre style=\"white-space:pre;overflow-x:auto;line-height:normal;font-family:Menlo,'DejaVu Sans Mono',consolas,'Courier New',monospace\">\n",
       "</pre>\n"
      ],
      "text/plain": [
       "\n"
      ]
     },
     "metadata": {},
     "output_type": "display_data"
    },
    {
     "data": {
      "text/html": [
       "<pre style=\"white-space:pre;overflow-x:auto;line-height:normal;font-family:Menlo,'DejaVu Sans Mono',consolas,'Courier New',monospace\"><span style=\"color: #008080; text-decoration-color: #008080; font-weight: bold\">1</span> records logged to <a href=\"https://michaelai23-argillatest.hf.space/datasets/admin/llm_textmarker_with_preds\" target=\"_blank\"><span style=\"color: #0000ff; text-decoration-color: #0000ff; text-decoration: underline\">https://michaelai23-argillatest.hf.space/datasets/admin/llm_textmarker_with_preds</span></a>\n",
       "</pre>\n"
      ],
      "text/plain": [
       "\u001b[1;36m1\u001b[0m records logged to \u001b]8;id=308086;https://michaelai23-argillatest.hf.space/datasets/admin/llm_textmarker_with_preds\u001b\\\u001b[4;94mhttps://michaelai23-argillatest.hf.space/datasets/admin/llm_textmarker_with_preds\u001b[0m\u001b]8;;\u001b\\\n"
      ]
     },
     "metadata": {},
     "output_type": "display_data"
    },
    {
     "data": {
      "application/vnd.jupyter.widget-view+json": {
       "model_id": "dfd02a4e07ea4ff39cbeb0ccec893f6a",
       "version_major": 2,
       "version_minor": 0
      },
      "text/plain": [
       "Output()"
      ]
     },
     "metadata": {},
     "output_type": "display_data"
    },
    {
     "data": {
      "text/html": [
       "<pre style=\"white-space:pre;overflow-x:auto;line-height:normal;font-family:Menlo,'DejaVu Sans Mono',consolas,'Courier New',monospace\"></pre>\n"
      ],
      "text/plain": []
     },
     "metadata": {},
     "output_type": "display_data"
    },
    {
     "data": {
      "text/html": [
       "<pre style=\"white-space:pre;overflow-x:auto;line-height:normal;font-family:Menlo,'DejaVu Sans Mono',consolas,'Courier New',monospace\">\n",
       "</pre>\n"
      ],
      "text/plain": [
       "\n"
      ]
     },
     "metadata": {},
     "output_type": "display_data"
    },
    {
     "data": {
      "text/html": [
       "<pre style=\"white-space:pre;overflow-x:auto;line-height:normal;font-family:Menlo,'DejaVu Sans Mono',consolas,'Courier New',monospace\"><span style=\"color: #008080; text-decoration-color: #008080; font-weight: bold\">1</span> records logged to <a href=\"https://michaelai23-argillatest.hf.space/datasets/admin/llm_textmarker_with_preds\" target=\"_blank\"><span style=\"color: #0000ff; text-decoration-color: #0000ff; text-decoration: underline\">https://michaelai23-argillatest.hf.space/datasets/admin/llm_textmarker_with_preds</span></a>\n",
       "</pre>\n"
      ],
      "text/plain": [
       "\u001b[1;36m1\u001b[0m records logged to \u001b]8;id=382807;https://michaelai23-argillatest.hf.space/datasets/admin/llm_textmarker_with_preds\u001b\\\u001b[4;94mhttps://michaelai23-argillatest.hf.space/datasets/admin/llm_textmarker_with_preds\u001b[0m\u001b]8;;\u001b\\\n"
      ]
     },
     "metadata": {},
     "output_type": "display_data"
    },
    {
     "data": {
      "application/vnd.jupyter.widget-view+json": {
       "model_id": "7cdf00d235474629b0ac5a5dab98e3b6",
       "version_major": 2,
       "version_minor": 0
      },
      "text/plain": [
       "Output()"
      ]
     },
     "metadata": {},
     "output_type": "display_data"
    },
    {
     "data": {
      "text/html": [
       "<pre style=\"white-space:pre;overflow-x:auto;line-height:normal;font-family:Menlo,'DejaVu Sans Mono',consolas,'Courier New',monospace\"></pre>\n"
      ],
      "text/plain": []
     },
     "metadata": {},
     "output_type": "display_data"
    },
    {
     "data": {
      "text/html": [
       "<pre style=\"white-space:pre;overflow-x:auto;line-height:normal;font-family:Menlo,'DejaVu Sans Mono',consolas,'Courier New',monospace\">\n",
       "</pre>\n"
      ],
      "text/plain": [
       "\n"
      ]
     },
     "metadata": {},
     "output_type": "display_data"
    },
    {
     "data": {
      "text/html": [
       "<pre style=\"white-space:pre;overflow-x:auto;line-height:normal;font-family:Menlo,'DejaVu Sans Mono',consolas,'Courier New',monospace\"><span style=\"color: #008080; text-decoration-color: #008080; font-weight: bold\">1</span> records logged to <a href=\"https://michaelai23-argillatest.hf.space/datasets/admin/llm_textmarker_with_preds\" target=\"_blank\"><span style=\"color: #0000ff; text-decoration-color: #0000ff; text-decoration: underline\">https://michaelai23-argillatest.hf.space/datasets/admin/llm_textmarker_with_preds</span></a>\n",
       "</pre>\n"
      ],
      "text/plain": [
       "\u001b[1;36m1\u001b[0m records logged to \u001b]8;id=569785;https://michaelai23-argillatest.hf.space/datasets/admin/llm_textmarker_with_preds\u001b\\\u001b[4;94mhttps://michaelai23-argillatest.hf.space/datasets/admin/llm_textmarker_with_preds\u001b[0m\u001b]8;;\u001b\\\n"
      ]
     },
     "metadata": {},
     "output_type": "display_data"
    },
    {
     "data": {
      "application/vnd.jupyter.widget-view+json": {
       "model_id": "0c33680bb097477b85701b8282944efc",
       "version_major": 2,
       "version_minor": 0
      },
      "text/plain": [
       "Output()"
      ]
     },
     "metadata": {},
     "output_type": "display_data"
    },
    {
     "data": {
      "text/html": [
       "<pre style=\"white-space:pre;overflow-x:auto;line-height:normal;font-family:Menlo,'DejaVu Sans Mono',consolas,'Courier New',monospace\"></pre>\n"
      ],
      "text/plain": []
     },
     "metadata": {},
     "output_type": "display_data"
    },
    {
     "data": {
      "text/html": [
       "<pre style=\"white-space:pre;overflow-x:auto;line-height:normal;font-family:Menlo,'DejaVu Sans Mono',consolas,'Courier New',monospace\">\n",
       "</pre>\n"
      ],
      "text/plain": [
       "\n"
      ]
     },
     "metadata": {},
     "output_type": "display_data"
    },
    {
     "data": {
      "text/html": [
       "<pre style=\"white-space:pre;overflow-x:auto;line-height:normal;font-family:Menlo,'DejaVu Sans Mono',consolas,'Courier New',monospace\"><span style=\"color: #008080; text-decoration-color: #008080; font-weight: bold\">1</span> records logged to <a href=\"https://michaelai23-argillatest.hf.space/datasets/admin/llm_textmarker_with_preds\" target=\"_blank\"><span style=\"color: #0000ff; text-decoration-color: #0000ff; text-decoration: underline\">https://michaelai23-argillatest.hf.space/datasets/admin/llm_textmarker_with_preds</span></a>\n",
       "</pre>\n"
      ],
      "text/plain": [
       "\u001b[1;36m1\u001b[0m records logged to \u001b]8;id=160796;https://michaelai23-argillatest.hf.space/datasets/admin/llm_textmarker_with_preds\u001b\\\u001b[4;94mhttps://michaelai23-argillatest.hf.space/datasets/admin/llm_textmarker_with_preds\u001b[0m\u001b]8;;\u001b\\\n"
      ]
     },
     "metadata": {},
     "output_type": "display_data"
    },
    {
     "data": {
      "application/vnd.jupyter.widget-view+json": {
       "model_id": "3c6e96d3225a46bca6d2337f938edb6b",
       "version_major": 2,
       "version_minor": 0
      },
      "text/plain": [
       "Output()"
      ]
     },
     "metadata": {},
     "output_type": "display_data"
    },
    {
     "data": {
      "text/html": [
       "<pre style=\"white-space:pre;overflow-x:auto;line-height:normal;font-family:Menlo,'DejaVu Sans Mono',consolas,'Courier New',monospace\"></pre>\n"
      ],
      "text/plain": []
     },
     "metadata": {},
     "output_type": "display_data"
    },
    {
     "data": {
      "text/html": [
       "<pre style=\"white-space:pre;overflow-x:auto;line-height:normal;font-family:Menlo,'DejaVu Sans Mono',consolas,'Courier New',monospace\">\n",
       "</pre>\n"
      ],
      "text/plain": [
       "\n"
      ]
     },
     "metadata": {},
     "output_type": "display_data"
    },
    {
     "data": {
      "text/html": [
       "<pre style=\"white-space:pre;overflow-x:auto;line-height:normal;font-family:Menlo,'DejaVu Sans Mono',consolas,'Courier New',monospace\"><span style=\"color: #008080; text-decoration-color: #008080; font-weight: bold\">1</span> records logged to <a href=\"https://michaelai23-argillatest.hf.space/datasets/admin/llm_textmarker_with_preds\" target=\"_blank\"><span style=\"color: #0000ff; text-decoration-color: #0000ff; text-decoration: underline\">https://michaelai23-argillatest.hf.space/datasets/admin/llm_textmarker_with_preds</span></a>\n",
       "</pre>\n"
      ],
      "text/plain": [
       "\u001b[1;36m1\u001b[0m records logged to \u001b]8;id=992731;https://michaelai23-argillatest.hf.space/datasets/admin/llm_textmarker_with_preds\u001b\\\u001b[4;94mhttps://michaelai23-argillatest.hf.space/datasets/admin/llm_textmarker_with_preds\u001b[0m\u001b]8;;\u001b\\\n"
      ]
     },
     "metadata": {},
     "output_type": "display_data"
    },
    {
     "data": {
      "application/vnd.jupyter.widget-view+json": {
       "model_id": "635b144cd4104e7cafae9b406f4d7b57",
       "version_major": 2,
       "version_minor": 0
      },
      "text/plain": [
       "Output()"
      ]
     },
     "metadata": {},
     "output_type": "display_data"
    },
    {
     "data": {
      "text/html": [
       "<pre style=\"white-space:pre;overflow-x:auto;line-height:normal;font-family:Menlo,'DejaVu Sans Mono',consolas,'Courier New',monospace\"></pre>\n"
      ],
      "text/plain": []
     },
     "metadata": {},
     "output_type": "display_data"
    },
    {
     "data": {
      "text/html": [
       "<pre style=\"white-space:pre;overflow-x:auto;line-height:normal;font-family:Menlo,'DejaVu Sans Mono',consolas,'Courier New',monospace\">\n",
       "</pre>\n"
      ],
      "text/plain": [
       "\n"
      ]
     },
     "metadata": {},
     "output_type": "display_data"
    },
    {
     "data": {
      "text/html": [
       "<pre style=\"white-space:pre;overflow-x:auto;line-height:normal;font-family:Menlo,'DejaVu Sans Mono',consolas,'Courier New',monospace\"><span style=\"color: #008080; text-decoration-color: #008080; font-weight: bold\">1</span> records logged to <a href=\"https://michaelai23-argillatest.hf.space/datasets/admin/llm_textmarker_with_preds\" target=\"_blank\"><span style=\"color: #0000ff; text-decoration-color: #0000ff; text-decoration: underline\">https://michaelai23-argillatest.hf.space/datasets/admin/llm_textmarker_with_preds</span></a>\n",
       "</pre>\n"
      ],
      "text/plain": [
       "\u001b[1;36m1\u001b[0m records logged to \u001b]8;id=273764;https://michaelai23-argillatest.hf.space/datasets/admin/llm_textmarker_with_preds\u001b\\\u001b[4;94mhttps://michaelai23-argillatest.hf.space/datasets/admin/llm_textmarker_with_preds\u001b[0m\u001b]8;;\u001b\\\n"
      ]
     },
     "metadata": {},
     "output_type": "display_data"
    },
    {
     "data": {
      "application/vnd.jupyter.widget-view+json": {
       "model_id": "d228d3091a8e49c2986ad6be210103dc",
       "version_major": 2,
       "version_minor": 0
      },
      "text/plain": [
       "Output()"
      ]
     },
     "metadata": {},
     "output_type": "display_data"
    },
    {
     "data": {
      "text/html": [
       "<pre style=\"white-space:pre;overflow-x:auto;line-height:normal;font-family:Menlo,'DejaVu Sans Mono',consolas,'Courier New',monospace\"></pre>\n"
      ],
      "text/plain": []
     },
     "metadata": {},
     "output_type": "display_data"
    },
    {
     "data": {
      "text/html": [
       "<pre style=\"white-space:pre;overflow-x:auto;line-height:normal;font-family:Menlo,'DejaVu Sans Mono',consolas,'Courier New',monospace\">\n",
       "</pre>\n"
      ],
      "text/plain": [
       "\n"
      ]
     },
     "metadata": {},
     "output_type": "display_data"
    },
    {
     "data": {
      "text/html": [
       "<pre style=\"white-space:pre;overflow-x:auto;line-height:normal;font-family:Menlo,'DejaVu Sans Mono',consolas,'Courier New',monospace\"><span style=\"color: #008080; text-decoration-color: #008080; font-weight: bold\">1</span> records logged to <a href=\"https://michaelai23-argillatest.hf.space/datasets/admin/llm_textmarker_with_preds\" target=\"_blank\"><span style=\"color: #0000ff; text-decoration-color: #0000ff; text-decoration: underline\">https://michaelai23-argillatest.hf.space/datasets/admin/llm_textmarker_with_preds</span></a>\n",
       "</pre>\n"
      ],
      "text/plain": [
       "\u001b[1;36m1\u001b[0m records logged to \u001b]8;id=745228;https://michaelai23-argillatest.hf.space/datasets/admin/llm_textmarker_with_preds\u001b\\\u001b[4;94mhttps://michaelai23-argillatest.hf.space/datasets/admin/llm_textmarker_with_preds\u001b[0m\u001b]8;;\u001b\\\n"
      ]
     },
     "metadata": {},
     "output_type": "display_data"
    },
    {
     "data": {
      "application/vnd.jupyter.widget-view+json": {
       "model_id": "a076199016fc49a2bb9866154a175404",
       "version_major": 2,
       "version_minor": 0
      },
      "text/plain": [
       "Output()"
      ]
     },
     "metadata": {},
     "output_type": "display_data"
    },
    {
     "data": {
      "text/html": [
       "<pre style=\"white-space:pre;overflow-x:auto;line-height:normal;font-family:Menlo,'DejaVu Sans Mono',consolas,'Courier New',monospace\"></pre>\n"
      ],
      "text/plain": []
     },
     "metadata": {},
     "output_type": "display_data"
    },
    {
     "data": {
      "text/html": [
       "<pre style=\"white-space:pre;overflow-x:auto;line-height:normal;font-family:Menlo,'DejaVu Sans Mono',consolas,'Courier New',monospace\">\n",
       "</pre>\n"
      ],
      "text/plain": [
       "\n"
      ]
     },
     "metadata": {},
     "output_type": "display_data"
    },
    {
     "data": {
      "text/html": [
       "<pre style=\"white-space:pre;overflow-x:auto;line-height:normal;font-family:Menlo,'DejaVu Sans Mono',consolas,'Courier New',monospace\"><span style=\"color: #008080; text-decoration-color: #008080; font-weight: bold\">1</span> records logged to <a href=\"https://michaelai23-argillatest.hf.space/datasets/admin/llm_textmarker_with_preds\" target=\"_blank\"><span style=\"color: #0000ff; text-decoration-color: #0000ff; text-decoration: underline\">https://michaelai23-argillatest.hf.space/datasets/admin/llm_textmarker_with_preds</span></a>\n",
       "</pre>\n"
      ],
      "text/plain": [
       "\u001b[1;36m1\u001b[0m records logged to \u001b]8;id=781184;https://michaelai23-argillatest.hf.space/datasets/admin/llm_textmarker_with_preds\u001b\\\u001b[4;94mhttps://michaelai23-argillatest.hf.space/datasets/admin/llm_textmarker_with_preds\u001b[0m\u001b]8;;\u001b\\\n"
      ]
     },
     "metadata": {},
     "output_type": "display_data"
    },
    {
     "data": {
      "application/vnd.jupyter.widget-view+json": {
       "model_id": "93b50005bc764f70ad20976d72318d91",
       "version_major": 2,
       "version_minor": 0
      },
      "text/plain": [
       "Output()"
      ]
     },
     "metadata": {},
     "output_type": "display_data"
    },
    {
     "data": {
      "text/html": [
       "<pre style=\"white-space:pre;overflow-x:auto;line-height:normal;font-family:Menlo,'DejaVu Sans Mono',consolas,'Courier New',monospace\"></pre>\n"
      ],
      "text/plain": []
     },
     "metadata": {},
     "output_type": "display_data"
    },
    {
     "data": {
      "text/html": [
       "<pre style=\"white-space:pre;overflow-x:auto;line-height:normal;font-family:Menlo,'DejaVu Sans Mono',consolas,'Courier New',monospace\">\n",
       "</pre>\n"
      ],
      "text/plain": [
       "\n"
      ]
     },
     "metadata": {},
     "output_type": "display_data"
    },
    {
     "data": {
      "text/html": [
       "<pre style=\"white-space:pre;overflow-x:auto;line-height:normal;font-family:Menlo,'DejaVu Sans Mono',consolas,'Courier New',monospace\"><span style=\"color: #008080; text-decoration-color: #008080; font-weight: bold\">1</span> records logged to <a href=\"https://michaelai23-argillatest.hf.space/datasets/admin/llm_textmarker_with_preds\" target=\"_blank\"><span style=\"color: #0000ff; text-decoration-color: #0000ff; text-decoration: underline\">https://michaelai23-argillatest.hf.space/datasets/admin/llm_textmarker_with_preds</span></a>\n",
       "</pre>\n"
      ],
      "text/plain": [
       "\u001b[1;36m1\u001b[0m records logged to \u001b]8;id=672375;https://michaelai23-argillatest.hf.space/datasets/admin/llm_textmarker_with_preds\u001b\\\u001b[4;94mhttps://michaelai23-argillatest.hf.space/datasets/admin/llm_textmarker_with_preds\u001b[0m\u001b]8;;\u001b\\\n"
      ]
     },
     "metadata": {},
     "output_type": "display_data"
    },
    {
     "data": {
      "application/vnd.jupyter.widget-view+json": {
       "model_id": "592275e1145f436bbaa571158857bd31",
       "version_major": 2,
       "version_minor": 0
      },
      "text/plain": [
       "Output()"
      ]
     },
     "metadata": {},
     "output_type": "display_data"
    },
    {
     "data": {
      "text/html": [
       "<pre style=\"white-space:pre;overflow-x:auto;line-height:normal;font-family:Menlo,'DejaVu Sans Mono',consolas,'Courier New',monospace\"></pre>\n"
      ],
      "text/plain": []
     },
     "metadata": {},
     "output_type": "display_data"
    },
    {
     "data": {
      "text/html": [
       "<pre style=\"white-space:pre;overflow-x:auto;line-height:normal;font-family:Menlo,'DejaVu Sans Mono',consolas,'Courier New',monospace\">\n",
       "</pre>\n"
      ],
      "text/plain": [
       "\n"
      ]
     },
     "metadata": {},
     "output_type": "display_data"
    },
    {
     "data": {
      "text/html": [
       "<pre style=\"white-space:pre;overflow-x:auto;line-height:normal;font-family:Menlo,'DejaVu Sans Mono',consolas,'Courier New',monospace\"><span style=\"color: #008080; text-decoration-color: #008080; font-weight: bold\">1</span> records logged to <a href=\"https://michaelai23-argillatest.hf.space/datasets/admin/llm_textmarker_with_preds\" target=\"_blank\"><span style=\"color: #0000ff; text-decoration-color: #0000ff; text-decoration: underline\">https://michaelai23-argillatest.hf.space/datasets/admin/llm_textmarker_with_preds</span></a>\n",
       "</pre>\n"
      ],
      "text/plain": [
       "\u001b[1;36m1\u001b[0m records logged to \u001b]8;id=486378;https://michaelai23-argillatest.hf.space/datasets/admin/llm_textmarker_with_preds\u001b\\\u001b[4;94mhttps://michaelai23-argillatest.hf.space/datasets/admin/llm_textmarker_with_preds\u001b[0m\u001b]8;;\u001b\\\n"
      ]
     },
     "metadata": {},
     "output_type": "display_data"
    },
    {
     "data": {
      "application/vnd.jupyter.widget-view+json": {
       "model_id": "baca00c164d2473682569d66de472041",
       "version_major": 2,
       "version_minor": 0
      },
      "text/plain": [
       "Output()"
      ]
     },
     "metadata": {},
     "output_type": "display_data"
    },
    {
     "data": {
      "text/html": [
       "<pre style=\"white-space:pre;overflow-x:auto;line-height:normal;font-family:Menlo,'DejaVu Sans Mono',consolas,'Courier New',monospace\"></pre>\n"
      ],
      "text/plain": []
     },
     "metadata": {},
     "output_type": "display_data"
    },
    {
     "data": {
      "text/html": [
       "<pre style=\"white-space:pre;overflow-x:auto;line-height:normal;font-family:Menlo,'DejaVu Sans Mono',consolas,'Courier New',monospace\">\n",
       "</pre>\n"
      ],
      "text/plain": [
       "\n"
      ]
     },
     "metadata": {},
     "output_type": "display_data"
    },
    {
     "data": {
      "text/html": [
       "<pre style=\"white-space:pre;overflow-x:auto;line-height:normal;font-family:Menlo,'DejaVu Sans Mono',consolas,'Courier New',monospace\"><span style=\"color: #008080; text-decoration-color: #008080; font-weight: bold\">1</span> records logged to <a href=\"https://michaelai23-argillatest.hf.space/datasets/admin/llm_textmarker_with_preds\" target=\"_blank\"><span style=\"color: #0000ff; text-decoration-color: #0000ff; text-decoration: underline\">https://michaelai23-argillatest.hf.space/datasets/admin/llm_textmarker_with_preds</span></a>\n",
       "</pre>\n"
      ],
      "text/plain": [
       "\u001b[1;36m1\u001b[0m records logged to \u001b]8;id=686530;https://michaelai23-argillatest.hf.space/datasets/admin/llm_textmarker_with_preds\u001b\\\u001b[4;94mhttps://michaelai23-argillatest.hf.space/datasets/admin/llm_textmarker_with_preds\u001b[0m\u001b]8;;\u001b\\\n"
      ]
     },
     "metadata": {},
     "output_type": "display_data"
    },
    {
     "data": {
      "application/vnd.jupyter.widget-view+json": {
       "model_id": "8d6c90558d3146a98ac8742130b61319",
       "version_major": 2,
       "version_minor": 0
      },
      "text/plain": [
       "Output()"
      ]
     },
     "metadata": {},
     "output_type": "display_data"
    },
    {
     "data": {
      "text/html": [
       "<pre style=\"white-space:pre;overflow-x:auto;line-height:normal;font-family:Menlo,'DejaVu Sans Mono',consolas,'Courier New',monospace\"></pre>\n"
      ],
      "text/plain": []
     },
     "metadata": {},
     "output_type": "display_data"
    },
    {
     "data": {
      "text/html": [
       "<pre style=\"white-space:pre;overflow-x:auto;line-height:normal;font-family:Menlo,'DejaVu Sans Mono',consolas,'Courier New',monospace\">\n",
       "</pre>\n"
      ],
      "text/plain": [
       "\n"
      ]
     },
     "metadata": {},
     "output_type": "display_data"
    },
    {
     "data": {
      "text/html": [
       "<pre style=\"white-space:pre;overflow-x:auto;line-height:normal;font-family:Menlo,'DejaVu Sans Mono',consolas,'Courier New',monospace\"><span style=\"color: #008080; text-decoration-color: #008080; font-weight: bold\">1</span> records logged to <a href=\"https://michaelai23-argillatest.hf.space/datasets/admin/llm_textmarker_with_preds\" target=\"_blank\"><span style=\"color: #0000ff; text-decoration-color: #0000ff; text-decoration: underline\">https://michaelai23-argillatest.hf.space/datasets/admin/llm_textmarker_with_preds</span></a>\n",
       "</pre>\n"
      ],
      "text/plain": [
       "\u001b[1;36m1\u001b[0m records logged to \u001b]8;id=269326;https://michaelai23-argillatest.hf.space/datasets/admin/llm_textmarker_with_preds\u001b\\\u001b[4;94mhttps://michaelai23-argillatest.hf.space/datasets/admin/llm_textmarker_with_preds\u001b[0m\u001b]8;;\u001b\\\n"
      ]
     },
     "metadata": {},
     "output_type": "display_data"
    },
    {
     "data": {
      "application/vnd.jupyter.widget-view+json": {
       "model_id": "59376f0c5ec040238f73dfffb33ac474",
       "version_major": 2,
       "version_minor": 0
      },
      "text/plain": [
       "Output()"
      ]
     },
     "metadata": {},
     "output_type": "display_data"
    },
    {
     "data": {
      "text/html": [
       "<pre style=\"white-space:pre;overflow-x:auto;line-height:normal;font-family:Menlo,'DejaVu Sans Mono',consolas,'Courier New',monospace\"></pre>\n"
      ],
      "text/plain": []
     },
     "metadata": {},
     "output_type": "display_data"
    },
    {
     "data": {
      "text/html": [
       "<pre style=\"white-space:pre;overflow-x:auto;line-height:normal;font-family:Menlo,'DejaVu Sans Mono',consolas,'Courier New',monospace\">\n",
       "</pre>\n"
      ],
      "text/plain": [
       "\n"
      ]
     },
     "metadata": {},
     "output_type": "display_data"
    },
    {
     "data": {
      "text/html": [
       "<pre style=\"white-space:pre;overflow-x:auto;line-height:normal;font-family:Menlo,'DejaVu Sans Mono',consolas,'Courier New',monospace\"><span style=\"color: #008080; text-decoration-color: #008080; font-weight: bold\">1</span> records logged to <a href=\"https://michaelai23-argillatest.hf.space/datasets/admin/llm_textmarker_with_preds\" target=\"_blank\"><span style=\"color: #0000ff; text-decoration-color: #0000ff; text-decoration: underline\">https://michaelai23-argillatest.hf.space/datasets/admin/llm_textmarker_with_preds</span></a>\n",
       "</pre>\n"
      ],
      "text/plain": [
       "\u001b[1;36m1\u001b[0m records logged to \u001b]8;id=469464;https://michaelai23-argillatest.hf.space/datasets/admin/llm_textmarker_with_preds\u001b\\\u001b[4;94mhttps://michaelai23-argillatest.hf.space/datasets/admin/llm_textmarker_with_preds\u001b[0m\u001b]8;;\u001b\\\n"
      ]
     },
     "metadata": {},
     "output_type": "display_data"
    },
    {
     "data": {
      "application/vnd.jupyter.widget-view+json": {
       "model_id": "9052ecaa716b4145af9085c47e77103a",
       "version_major": 2,
       "version_minor": 0
      },
      "text/plain": [
       "Output()"
      ]
     },
     "metadata": {},
     "output_type": "display_data"
    },
    {
     "data": {
      "text/html": [
       "<pre style=\"white-space:pre;overflow-x:auto;line-height:normal;font-family:Menlo,'DejaVu Sans Mono',consolas,'Courier New',monospace\"></pre>\n"
      ],
      "text/plain": []
     },
     "metadata": {},
     "output_type": "display_data"
    },
    {
     "data": {
      "text/html": [
       "<pre style=\"white-space:pre;overflow-x:auto;line-height:normal;font-family:Menlo,'DejaVu Sans Mono',consolas,'Courier New',monospace\">\n",
       "</pre>\n"
      ],
      "text/plain": [
       "\n"
      ]
     },
     "metadata": {},
     "output_type": "display_data"
    },
    {
     "data": {
      "text/html": [
       "<pre style=\"white-space:pre;overflow-x:auto;line-height:normal;font-family:Menlo,'DejaVu Sans Mono',consolas,'Courier New',monospace\"><span style=\"color: #008080; text-decoration-color: #008080; font-weight: bold\">1</span> records logged to <a href=\"https://michaelai23-argillatest.hf.space/datasets/admin/llm_textmarker_with_preds\" target=\"_blank\"><span style=\"color: #0000ff; text-decoration-color: #0000ff; text-decoration: underline\">https://michaelai23-argillatest.hf.space/datasets/admin/llm_textmarker_with_preds</span></a>\n",
       "</pre>\n"
      ],
      "text/plain": [
       "\u001b[1;36m1\u001b[0m records logged to \u001b]8;id=691033;https://michaelai23-argillatest.hf.space/datasets/admin/llm_textmarker_with_preds\u001b\\\u001b[4;94mhttps://michaelai23-argillatest.hf.space/datasets/admin/llm_textmarker_with_preds\u001b[0m\u001b]8;;\u001b\\\n"
      ]
     },
     "metadata": {},
     "output_type": "display_data"
    },
    {
     "data": {
      "application/vnd.jupyter.widget-view+json": {
       "model_id": "3357cf48bd134e5fa8a59b36e7c2b644",
       "version_major": 2,
       "version_minor": 0
      },
      "text/plain": [
       "Output()"
      ]
     },
     "metadata": {},
     "output_type": "display_data"
    },
    {
     "data": {
      "text/html": [
       "<pre style=\"white-space:pre;overflow-x:auto;line-height:normal;font-family:Menlo,'DejaVu Sans Mono',consolas,'Courier New',monospace\"></pre>\n"
      ],
      "text/plain": []
     },
     "metadata": {},
     "output_type": "display_data"
    },
    {
     "data": {
      "text/html": [
       "<pre style=\"white-space:pre;overflow-x:auto;line-height:normal;font-family:Menlo,'DejaVu Sans Mono',consolas,'Courier New',monospace\">\n",
       "</pre>\n"
      ],
      "text/plain": [
       "\n"
      ]
     },
     "metadata": {},
     "output_type": "display_data"
    },
    {
     "data": {
      "text/html": [
       "<pre style=\"white-space:pre;overflow-x:auto;line-height:normal;font-family:Menlo,'DejaVu Sans Mono',consolas,'Courier New',monospace\"><span style=\"color: #008080; text-decoration-color: #008080; font-weight: bold\">1</span> records logged to <a href=\"https://michaelai23-argillatest.hf.space/datasets/admin/llm_textmarker_with_preds\" target=\"_blank\"><span style=\"color: #0000ff; text-decoration-color: #0000ff; text-decoration: underline\">https://michaelai23-argillatest.hf.space/datasets/admin/llm_textmarker_with_preds</span></a>\n",
       "</pre>\n"
      ],
      "text/plain": [
       "\u001b[1;36m1\u001b[0m records logged to \u001b]8;id=47596;https://michaelai23-argillatest.hf.space/datasets/admin/llm_textmarker_with_preds\u001b\\\u001b[4;94mhttps://michaelai23-argillatest.hf.space/datasets/admin/llm_textmarker_with_preds\u001b[0m\u001b]8;;\u001b\\\n"
      ]
     },
     "metadata": {},
     "output_type": "display_data"
    },
    {
     "data": {
      "application/vnd.jupyter.widget-view+json": {
       "model_id": "97afdf87022a458cbb2526aa5ec5c5a4",
       "version_major": 2,
       "version_minor": 0
      },
      "text/plain": [
       "Output()"
      ]
     },
     "metadata": {},
     "output_type": "display_data"
    },
    {
     "data": {
      "text/html": [
       "<pre style=\"white-space:pre;overflow-x:auto;line-height:normal;font-family:Menlo,'DejaVu Sans Mono',consolas,'Courier New',monospace\"></pre>\n"
      ],
      "text/plain": []
     },
     "metadata": {},
     "output_type": "display_data"
    },
    {
     "data": {
      "text/html": [
       "<pre style=\"white-space:pre;overflow-x:auto;line-height:normal;font-family:Menlo,'DejaVu Sans Mono',consolas,'Courier New',monospace\">\n",
       "</pre>\n"
      ],
      "text/plain": [
       "\n"
      ]
     },
     "metadata": {},
     "output_type": "display_data"
    },
    {
     "data": {
      "text/html": [
       "<pre style=\"white-space:pre;overflow-x:auto;line-height:normal;font-family:Menlo,'DejaVu Sans Mono',consolas,'Courier New',monospace\"><span style=\"color: #008080; text-decoration-color: #008080; font-weight: bold\">1</span> records logged to <a href=\"https://michaelai23-argillatest.hf.space/datasets/admin/llm_textmarker_with_preds\" target=\"_blank\"><span style=\"color: #0000ff; text-decoration-color: #0000ff; text-decoration: underline\">https://michaelai23-argillatest.hf.space/datasets/admin/llm_textmarker_with_preds</span></a>\n",
       "</pre>\n"
      ],
      "text/plain": [
       "\u001b[1;36m1\u001b[0m records logged to \u001b]8;id=741679;https://michaelai23-argillatest.hf.space/datasets/admin/llm_textmarker_with_preds\u001b\\\u001b[4;94mhttps://michaelai23-argillatest.hf.space/datasets/admin/llm_textmarker_with_preds\u001b[0m\u001b]8;;\u001b\\\n"
      ]
     },
     "metadata": {},
     "output_type": "display_data"
    },
    {
     "data": {
      "application/vnd.jupyter.widget-view+json": {
       "model_id": "a20f2d1218e14f0b86247c7540301b26",
       "version_major": 2,
       "version_minor": 0
      },
      "text/plain": [
       "Output()"
      ]
     },
     "metadata": {},
     "output_type": "display_data"
    },
    {
     "data": {
      "text/html": [
       "<pre style=\"white-space:pre;overflow-x:auto;line-height:normal;font-family:Menlo,'DejaVu Sans Mono',consolas,'Courier New',monospace\"></pre>\n"
      ],
      "text/plain": []
     },
     "metadata": {},
     "output_type": "display_data"
    },
    {
     "data": {
      "text/html": [
       "<pre style=\"white-space:pre;overflow-x:auto;line-height:normal;font-family:Menlo,'DejaVu Sans Mono',consolas,'Courier New',monospace\">\n",
       "</pre>\n"
      ],
      "text/plain": [
       "\n"
      ]
     },
     "metadata": {},
     "output_type": "display_data"
    },
    {
     "data": {
      "text/html": [
       "<pre style=\"white-space:pre;overflow-x:auto;line-height:normal;font-family:Menlo,'DejaVu Sans Mono',consolas,'Courier New',monospace\"><span style=\"color: #008080; text-decoration-color: #008080; font-weight: bold\">1</span> records logged to <a href=\"https://michaelai23-argillatest.hf.space/datasets/admin/llm_textmarker_with_preds\" target=\"_blank\"><span style=\"color: #0000ff; text-decoration-color: #0000ff; text-decoration: underline\">https://michaelai23-argillatest.hf.space/datasets/admin/llm_textmarker_with_preds</span></a>\n",
       "</pre>\n"
      ],
      "text/plain": [
       "\u001b[1;36m1\u001b[0m records logged to \u001b]8;id=382953;https://michaelai23-argillatest.hf.space/datasets/admin/llm_textmarker_with_preds\u001b\\\u001b[4;94mhttps://michaelai23-argillatest.hf.space/datasets/admin/llm_textmarker_with_preds\u001b[0m\u001b]8;;\u001b\\\n"
      ]
     },
     "metadata": {},
     "output_type": "display_data"
    },
    {
     "data": {
      "application/vnd.jupyter.widget-view+json": {
       "model_id": "cc5fff976c964a86816e5a8c0469951e",
       "version_major": 2,
       "version_minor": 0
      },
      "text/plain": [
       "Output()"
      ]
     },
     "metadata": {},
     "output_type": "display_data"
    },
    {
     "data": {
      "text/html": [
       "<pre style=\"white-space:pre;overflow-x:auto;line-height:normal;font-family:Menlo,'DejaVu Sans Mono',consolas,'Courier New',monospace\"></pre>\n"
      ],
      "text/plain": []
     },
     "metadata": {},
     "output_type": "display_data"
    },
    {
     "data": {
      "text/html": [
       "<pre style=\"white-space:pre;overflow-x:auto;line-height:normal;font-family:Menlo,'DejaVu Sans Mono',consolas,'Courier New',monospace\">\n",
       "</pre>\n"
      ],
      "text/plain": [
       "\n"
      ]
     },
     "metadata": {},
     "output_type": "display_data"
    },
    {
     "data": {
      "text/html": [
       "<pre style=\"white-space:pre;overflow-x:auto;line-height:normal;font-family:Menlo,'DejaVu Sans Mono',consolas,'Courier New',monospace\"><span style=\"color: #008080; text-decoration-color: #008080; font-weight: bold\">1</span> records logged to <a href=\"https://michaelai23-argillatest.hf.space/datasets/admin/llm_textmarker_with_preds\" target=\"_blank\"><span style=\"color: #0000ff; text-decoration-color: #0000ff; text-decoration: underline\">https://michaelai23-argillatest.hf.space/datasets/admin/llm_textmarker_with_preds</span></a>\n",
       "</pre>\n"
      ],
      "text/plain": [
       "\u001b[1;36m1\u001b[0m records logged to \u001b]8;id=971908;https://michaelai23-argillatest.hf.space/datasets/admin/llm_textmarker_with_preds\u001b\\\u001b[4;94mhttps://michaelai23-argillatest.hf.space/datasets/admin/llm_textmarker_with_preds\u001b[0m\u001b]8;;\u001b\\\n"
      ]
     },
     "metadata": {},
     "output_type": "display_data"
    },
    {
     "data": {
      "application/vnd.jupyter.widget-view+json": {
       "model_id": "7a676519dcf348d899881f56710fcd38",
       "version_major": 2,
       "version_minor": 0
      },
      "text/plain": [
       "Output()"
      ]
     },
     "metadata": {},
     "output_type": "display_data"
    },
    {
     "data": {
      "text/html": [
       "<pre style=\"white-space:pre;overflow-x:auto;line-height:normal;font-family:Menlo,'DejaVu Sans Mono',consolas,'Courier New',monospace\"></pre>\n"
      ],
      "text/plain": []
     },
     "metadata": {},
     "output_type": "display_data"
    },
    {
     "data": {
      "text/html": [
       "<pre style=\"white-space:pre;overflow-x:auto;line-height:normal;font-family:Menlo,'DejaVu Sans Mono',consolas,'Courier New',monospace\">\n",
       "</pre>\n"
      ],
      "text/plain": [
       "\n"
      ]
     },
     "metadata": {},
     "output_type": "display_data"
    },
    {
     "data": {
      "text/html": [
       "<pre style=\"white-space:pre;overflow-x:auto;line-height:normal;font-family:Menlo,'DejaVu Sans Mono',consolas,'Courier New',monospace\"><span style=\"color: #008080; text-decoration-color: #008080; font-weight: bold\">1</span> records logged to <a href=\"https://michaelai23-argillatest.hf.space/datasets/admin/llm_textmarker_with_preds\" target=\"_blank\"><span style=\"color: #0000ff; text-decoration-color: #0000ff; text-decoration: underline\">https://michaelai23-argillatest.hf.space/datasets/admin/llm_textmarker_with_preds</span></a>\n",
       "</pre>\n"
      ],
      "text/plain": [
       "\u001b[1;36m1\u001b[0m records logged to \u001b]8;id=205014;https://michaelai23-argillatest.hf.space/datasets/admin/llm_textmarker_with_preds\u001b\\\u001b[4;94mhttps://michaelai23-argillatest.hf.space/datasets/admin/llm_textmarker_with_preds\u001b[0m\u001b]8;;\u001b\\\n"
      ]
     },
     "metadata": {},
     "output_type": "display_data"
    },
    {
     "data": {
      "application/vnd.jupyter.widget-view+json": {
       "model_id": "efb42f26fbe34220a2acd66d5834b5e8",
       "version_major": 2,
       "version_minor": 0
      },
      "text/plain": [
       "Output()"
      ]
     },
     "metadata": {},
     "output_type": "display_data"
    },
    {
     "data": {
      "text/html": [
       "<pre style=\"white-space:pre;overflow-x:auto;line-height:normal;font-family:Menlo,'DejaVu Sans Mono',consolas,'Courier New',monospace\"></pre>\n"
      ],
      "text/plain": []
     },
     "metadata": {},
     "output_type": "display_data"
    },
    {
     "data": {
      "text/html": [
       "<pre style=\"white-space:pre;overflow-x:auto;line-height:normal;font-family:Menlo,'DejaVu Sans Mono',consolas,'Courier New',monospace\">\n",
       "</pre>\n"
      ],
      "text/plain": [
       "\n"
      ]
     },
     "metadata": {},
     "output_type": "display_data"
    },
    {
     "data": {
      "text/html": [
       "<pre style=\"white-space:pre;overflow-x:auto;line-height:normal;font-family:Menlo,'DejaVu Sans Mono',consolas,'Courier New',monospace\"><span style=\"color: #008080; text-decoration-color: #008080; font-weight: bold\">1</span> records logged to <a href=\"https://michaelai23-argillatest.hf.space/datasets/admin/llm_textmarker_with_preds\" target=\"_blank\"><span style=\"color: #0000ff; text-decoration-color: #0000ff; text-decoration: underline\">https://michaelai23-argillatest.hf.space/datasets/admin/llm_textmarker_with_preds</span></a>\n",
       "</pre>\n"
      ],
      "text/plain": [
       "\u001b[1;36m1\u001b[0m records logged to \u001b]8;id=439736;https://michaelai23-argillatest.hf.space/datasets/admin/llm_textmarker_with_preds\u001b\\\u001b[4;94mhttps://michaelai23-argillatest.hf.space/datasets/admin/llm_textmarker_with_preds\u001b[0m\u001b]8;;\u001b\\\n"
      ]
     },
     "metadata": {},
     "output_type": "display_data"
    },
    {
     "data": {
      "application/vnd.jupyter.widget-view+json": {
       "model_id": "c638fb668eed44e6a9b1548d5be50929",
       "version_major": 2,
       "version_minor": 0
      },
      "text/plain": [
       "Output()"
      ]
     },
     "metadata": {},
     "output_type": "display_data"
    },
    {
     "data": {
      "text/html": [
       "<pre style=\"white-space:pre;overflow-x:auto;line-height:normal;font-family:Menlo,'DejaVu Sans Mono',consolas,'Courier New',monospace\"></pre>\n"
      ],
      "text/plain": []
     },
     "metadata": {},
     "output_type": "display_data"
    },
    {
     "data": {
      "text/html": [
       "<pre style=\"white-space:pre;overflow-x:auto;line-height:normal;font-family:Menlo,'DejaVu Sans Mono',consolas,'Courier New',monospace\">\n",
       "</pre>\n"
      ],
      "text/plain": [
       "\n"
      ]
     },
     "metadata": {},
     "output_type": "display_data"
    },
    {
     "data": {
      "text/html": [
       "<pre style=\"white-space:pre;overflow-x:auto;line-height:normal;font-family:Menlo,'DejaVu Sans Mono',consolas,'Courier New',monospace\"><span style=\"color: #008080; text-decoration-color: #008080; font-weight: bold\">1</span> records logged to <a href=\"https://michaelai23-argillatest.hf.space/datasets/admin/llm_textmarker_with_preds\" target=\"_blank\"><span style=\"color: #0000ff; text-decoration-color: #0000ff; text-decoration: underline\">https://michaelai23-argillatest.hf.space/datasets/admin/llm_textmarker_with_preds</span></a>\n",
       "</pre>\n"
      ],
      "text/plain": [
       "\u001b[1;36m1\u001b[0m records logged to \u001b]8;id=961429;https://michaelai23-argillatest.hf.space/datasets/admin/llm_textmarker_with_preds\u001b\\\u001b[4;94mhttps://michaelai23-argillatest.hf.space/datasets/admin/llm_textmarker_with_preds\u001b[0m\u001b]8;;\u001b\\\n"
      ]
     },
     "metadata": {},
     "output_type": "display_data"
    },
    {
     "data": {
      "application/vnd.jupyter.widget-view+json": {
       "model_id": "1e55c26a8286472e9c16d02469284018",
       "version_major": 2,
       "version_minor": 0
      },
      "text/plain": [
       "Output()"
      ]
     },
     "metadata": {},
     "output_type": "display_data"
    },
    {
     "data": {
      "text/html": [
       "<pre style=\"white-space:pre;overflow-x:auto;line-height:normal;font-family:Menlo,'DejaVu Sans Mono',consolas,'Courier New',monospace\"></pre>\n"
      ],
      "text/plain": []
     },
     "metadata": {},
     "output_type": "display_data"
    },
    {
     "data": {
      "text/html": [
       "<pre style=\"white-space:pre;overflow-x:auto;line-height:normal;font-family:Menlo,'DejaVu Sans Mono',consolas,'Courier New',monospace\">\n",
       "</pre>\n"
      ],
      "text/plain": [
       "\n"
      ]
     },
     "metadata": {},
     "output_type": "display_data"
    },
    {
     "data": {
      "text/html": [
       "<pre style=\"white-space:pre;overflow-x:auto;line-height:normal;font-family:Menlo,'DejaVu Sans Mono',consolas,'Courier New',monospace\"><span style=\"color: #008080; text-decoration-color: #008080; font-weight: bold\">1</span> records logged to <a href=\"https://michaelai23-argillatest.hf.space/datasets/admin/llm_textmarker_with_preds\" target=\"_blank\"><span style=\"color: #0000ff; text-decoration-color: #0000ff; text-decoration: underline\">https://michaelai23-argillatest.hf.space/datasets/admin/llm_textmarker_with_preds</span></a>\n",
       "</pre>\n"
      ],
      "text/plain": [
       "\u001b[1;36m1\u001b[0m records logged to \u001b]8;id=621451;https://michaelai23-argillatest.hf.space/datasets/admin/llm_textmarker_with_preds\u001b\\\u001b[4;94mhttps://michaelai23-argillatest.hf.space/datasets/admin/llm_textmarker_with_preds\u001b[0m\u001b]8;;\u001b\\\n"
      ]
     },
     "metadata": {},
     "output_type": "display_data"
    },
    {
     "data": {
      "application/vnd.jupyter.widget-view+json": {
       "model_id": "0eff0a2ec3e646aea6a3e06e4f66144f",
       "version_major": 2,
       "version_minor": 0
      },
      "text/plain": [
       "Output()"
      ]
     },
     "metadata": {},
     "output_type": "display_data"
    },
    {
     "data": {
      "text/html": [
       "<pre style=\"white-space:pre;overflow-x:auto;line-height:normal;font-family:Menlo,'DejaVu Sans Mono',consolas,'Courier New',monospace\"></pre>\n"
      ],
      "text/plain": []
     },
     "metadata": {},
     "output_type": "display_data"
    },
    {
     "data": {
      "text/html": [
       "<pre style=\"white-space:pre;overflow-x:auto;line-height:normal;font-family:Menlo,'DejaVu Sans Mono',consolas,'Courier New',monospace\">\n",
       "</pre>\n"
      ],
      "text/plain": [
       "\n"
      ]
     },
     "metadata": {},
     "output_type": "display_data"
    },
    {
     "data": {
      "text/html": [
       "<pre style=\"white-space:pre;overflow-x:auto;line-height:normal;font-family:Menlo,'DejaVu Sans Mono',consolas,'Courier New',monospace\"><span style=\"color: #008080; text-decoration-color: #008080; font-weight: bold\">1</span> records logged to <a href=\"https://michaelai23-argillatest.hf.space/datasets/admin/llm_textmarker_with_preds\" target=\"_blank\"><span style=\"color: #0000ff; text-decoration-color: #0000ff; text-decoration: underline\">https://michaelai23-argillatest.hf.space/datasets/admin/llm_textmarker_with_preds</span></a>\n",
       "</pre>\n"
      ],
      "text/plain": [
       "\u001b[1;36m1\u001b[0m records logged to \u001b]8;id=706200;https://michaelai23-argillatest.hf.space/datasets/admin/llm_textmarker_with_preds\u001b\\\u001b[4;94mhttps://michaelai23-argillatest.hf.space/datasets/admin/llm_textmarker_with_preds\u001b[0m\u001b]8;;\u001b\\\n"
      ]
     },
     "metadata": {},
     "output_type": "display_data"
    },
    {
     "data": {
      "application/vnd.jupyter.widget-view+json": {
       "model_id": "5b3149c589ff419d913990af753bd4a2",
       "version_major": 2,
       "version_minor": 0
      },
      "text/plain": [
       "Output()"
      ]
     },
     "metadata": {},
     "output_type": "display_data"
    },
    {
     "data": {
      "text/html": [
       "<pre style=\"white-space:pre;overflow-x:auto;line-height:normal;font-family:Menlo,'DejaVu Sans Mono',consolas,'Courier New',monospace\"></pre>\n"
      ],
      "text/plain": []
     },
     "metadata": {},
     "output_type": "display_data"
    },
    {
     "data": {
      "text/html": [
       "<pre style=\"white-space:pre;overflow-x:auto;line-height:normal;font-family:Menlo,'DejaVu Sans Mono',consolas,'Courier New',monospace\">\n",
       "</pre>\n"
      ],
      "text/plain": [
       "\n"
      ]
     },
     "metadata": {},
     "output_type": "display_data"
    },
    {
     "data": {
      "text/html": [
       "<pre style=\"white-space:pre;overflow-x:auto;line-height:normal;font-family:Menlo,'DejaVu Sans Mono',consolas,'Courier New',monospace\"><span style=\"color: #008080; text-decoration-color: #008080; font-weight: bold\">1</span> records logged to <a href=\"https://michaelai23-argillatest.hf.space/datasets/admin/llm_textmarker_with_preds\" target=\"_blank\"><span style=\"color: #0000ff; text-decoration-color: #0000ff; text-decoration: underline\">https://michaelai23-argillatest.hf.space/datasets/admin/llm_textmarker_with_preds</span></a>\n",
       "</pre>\n"
      ],
      "text/plain": [
       "\u001b[1;36m1\u001b[0m records logged to \u001b]8;id=597862;https://michaelai23-argillatest.hf.space/datasets/admin/llm_textmarker_with_preds\u001b\\\u001b[4;94mhttps://michaelai23-argillatest.hf.space/datasets/admin/llm_textmarker_with_preds\u001b[0m\u001b]8;;\u001b\\\n"
      ]
     },
     "metadata": {},
     "output_type": "display_data"
    },
    {
     "data": {
      "application/vnd.jupyter.widget-view+json": {
       "model_id": "f4e8d74f4ddc459491b651eedb2eca5e",
       "version_major": 2,
       "version_minor": 0
      },
      "text/plain": [
       "Output()"
      ]
     },
     "metadata": {},
     "output_type": "display_data"
    },
    {
     "data": {
      "text/html": [
       "<pre style=\"white-space:pre;overflow-x:auto;line-height:normal;font-family:Menlo,'DejaVu Sans Mono',consolas,'Courier New',monospace\"></pre>\n"
      ],
      "text/plain": []
     },
     "metadata": {},
     "output_type": "display_data"
    },
    {
     "data": {
      "text/html": [
       "<pre style=\"white-space:pre;overflow-x:auto;line-height:normal;font-family:Menlo,'DejaVu Sans Mono',consolas,'Courier New',monospace\">\n",
       "</pre>\n"
      ],
      "text/plain": [
       "\n"
      ]
     },
     "metadata": {},
     "output_type": "display_data"
    },
    {
     "data": {
      "text/html": [
       "<pre style=\"white-space:pre;overflow-x:auto;line-height:normal;font-family:Menlo,'DejaVu Sans Mono',consolas,'Courier New',monospace\"><span style=\"color: #008080; text-decoration-color: #008080; font-weight: bold\">1</span> records logged to <a href=\"https://michaelai23-argillatest.hf.space/datasets/admin/llm_textmarker_with_preds\" target=\"_blank\"><span style=\"color: #0000ff; text-decoration-color: #0000ff; text-decoration: underline\">https://michaelai23-argillatest.hf.space/datasets/admin/llm_textmarker_with_preds</span></a>\n",
       "</pre>\n"
      ],
      "text/plain": [
       "\u001b[1;36m1\u001b[0m records logged to \u001b]8;id=174030;https://michaelai23-argillatest.hf.space/datasets/admin/llm_textmarker_with_preds\u001b\\\u001b[4;94mhttps://michaelai23-argillatest.hf.space/datasets/admin/llm_textmarker_with_preds\u001b[0m\u001b]8;;\u001b\\\n"
      ]
     },
     "metadata": {},
     "output_type": "display_data"
    },
    {
     "data": {
      "application/vnd.jupyter.widget-view+json": {
       "model_id": "da979a41b61142cc95b462a1c1f624bb",
       "version_major": 2,
       "version_minor": 0
      },
      "text/plain": [
       "Output()"
      ]
     },
     "metadata": {},
     "output_type": "display_data"
    },
    {
     "data": {
      "text/html": [
       "<pre style=\"white-space:pre;overflow-x:auto;line-height:normal;font-family:Menlo,'DejaVu Sans Mono',consolas,'Courier New',monospace\"></pre>\n"
      ],
      "text/plain": []
     },
     "metadata": {},
     "output_type": "display_data"
    },
    {
     "data": {
      "text/html": [
       "<pre style=\"white-space:pre;overflow-x:auto;line-height:normal;font-family:Menlo,'DejaVu Sans Mono',consolas,'Courier New',monospace\">\n",
       "</pre>\n"
      ],
      "text/plain": [
       "\n"
      ]
     },
     "metadata": {},
     "output_type": "display_data"
    },
    {
     "data": {
      "text/html": [
       "<pre style=\"white-space:pre;overflow-x:auto;line-height:normal;font-family:Menlo,'DejaVu Sans Mono',consolas,'Courier New',monospace\"><span style=\"color: #008080; text-decoration-color: #008080; font-weight: bold\">1</span> records logged to <a href=\"https://michaelai23-argillatest.hf.space/datasets/admin/llm_textmarker_with_preds\" target=\"_blank\"><span style=\"color: #0000ff; text-decoration-color: #0000ff; text-decoration: underline\">https://michaelai23-argillatest.hf.space/datasets/admin/llm_textmarker_with_preds</span></a>\n",
       "</pre>\n"
      ],
      "text/plain": [
       "\u001b[1;36m1\u001b[0m records logged to \u001b]8;id=220466;https://michaelai23-argillatest.hf.space/datasets/admin/llm_textmarker_with_preds\u001b\\\u001b[4;94mhttps://michaelai23-argillatest.hf.space/datasets/admin/llm_textmarker_with_preds\u001b[0m\u001b]8;;\u001b\\\n"
      ]
     },
     "metadata": {},
     "output_type": "display_data"
    },
    {
     "data": {
      "application/vnd.jupyter.widget-view+json": {
       "model_id": "eb1a841fdf344e30a890b3fcc2f028fe",
       "version_major": 2,
       "version_minor": 0
      },
      "text/plain": [
       "Output()"
      ]
     },
     "metadata": {},
     "output_type": "display_data"
    },
    {
     "data": {
      "text/html": [
       "<pre style=\"white-space:pre;overflow-x:auto;line-height:normal;font-family:Menlo,'DejaVu Sans Mono',consolas,'Courier New',monospace\"></pre>\n"
      ],
      "text/plain": []
     },
     "metadata": {},
     "output_type": "display_data"
    },
    {
     "data": {
      "text/html": [
       "<pre style=\"white-space:pre;overflow-x:auto;line-height:normal;font-family:Menlo,'DejaVu Sans Mono',consolas,'Courier New',monospace\">\n",
       "</pre>\n"
      ],
      "text/plain": [
       "\n"
      ]
     },
     "metadata": {},
     "output_type": "display_data"
    },
    {
     "data": {
      "text/html": [
       "<pre style=\"white-space:pre;overflow-x:auto;line-height:normal;font-family:Menlo,'DejaVu Sans Mono',consolas,'Courier New',monospace\"><span style=\"color: #008080; text-decoration-color: #008080; font-weight: bold\">1</span> records logged to <a href=\"https://michaelai23-argillatest.hf.space/datasets/admin/llm_textmarker_with_preds\" target=\"_blank\"><span style=\"color: #0000ff; text-decoration-color: #0000ff; text-decoration: underline\">https://michaelai23-argillatest.hf.space/datasets/admin/llm_textmarker_with_preds</span></a>\n",
       "</pre>\n"
      ],
      "text/plain": [
       "\u001b[1;36m1\u001b[0m records logged to \u001b]8;id=442462;https://michaelai23-argillatest.hf.space/datasets/admin/llm_textmarker_with_preds\u001b\\\u001b[4;94mhttps://michaelai23-argillatest.hf.space/datasets/admin/llm_textmarker_with_preds\u001b[0m\u001b]8;;\u001b\\\n"
      ]
     },
     "metadata": {},
     "output_type": "display_data"
    },
    {
     "data": {
      "application/vnd.jupyter.widget-view+json": {
       "model_id": "b189031c5b634257a17e3f43c893360b",
       "version_major": 2,
       "version_minor": 0
      },
      "text/plain": [
       "Output()"
      ]
     },
     "metadata": {},
     "output_type": "display_data"
    },
    {
     "data": {
      "text/html": [
       "<pre style=\"white-space:pre;overflow-x:auto;line-height:normal;font-family:Menlo,'DejaVu Sans Mono',consolas,'Courier New',monospace\"></pre>\n"
      ],
      "text/plain": []
     },
     "metadata": {},
     "output_type": "display_data"
    },
    {
     "data": {
      "text/html": [
       "<pre style=\"white-space:pre;overflow-x:auto;line-height:normal;font-family:Menlo,'DejaVu Sans Mono',consolas,'Courier New',monospace\">\n",
       "</pre>\n"
      ],
      "text/plain": [
       "\n"
      ]
     },
     "metadata": {},
     "output_type": "display_data"
    },
    {
     "data": {
      "text/html": [
       "<pre style=\"white-space:pre;overflow-x:auto;line-height:normal;font-family:Menlo,'DejaVu Sans Mono',consolas,'Courier New',monospace\"><span style=\"color: #008080; text-decoration-color: #008080; font-weight: bold\">1</span> records logged to <a href=\"https://michaelai23-argillatest.hf.space/datasets/admin/llm_textmarker_with_preds\" target=\"_blank\"><span style=\"color: #0000ff; text-decoration-color: #0000ff; text-decoration: underline\">https://michaelai23-argillatest.hf.space/datasets/admin/llm_textmarker_with_preds</span></a>\n",
       "</pre>\n"
      ],
      "text/plain": [
       "\u001b[1;36m1\u001b[0m records logged to \u001b]8;id=481814;https://michaelai23-argillatest.hf.space/datasets/admin/llm_textmarker_with_preds\u001b\\\u001b[4;94mhttps://michaelai23-argillatest.hf.space/datasets/admin/llm_textmarker_with_preds\u001b[0m\u001b]8;;\u001b\\\n"
      ]
     },
     "metadata": {},
     "output_type": "display_data"
    },
    {
     "data": {
      "application/vnd.jupyter.widget-view+json": {
       "model_id": "8aa8d6d49b844feb8a8c919b1de88f76",
       "version_major": 2,
       "version_minor": 0
      },
      "text/plain": [
       "Output()"
      ]
     },
     "metadata": {},
     "output_type": "display_data"
    },
    {
     "data": {
      "text/html": [
       "<pre style=\"white-space:pre;overflow-x:auto;line-height:normal;font-family:Menlo,'DejaVu Sans Mono',consolas,'Courier New',monospace\"></pre>\n"
      ],
      "text/plain": []
     },
     "metadata": {},
     "output_type": "display_data"
    },
    {
     "data": {
      "text/html": [
       "<pre style=\"white-space:pre;overflow-x:auto;line-height:normal;font-family:Menlo,'DejaVu Sans Mono',consolas,'Courier New',monospace\">\n",
       "</pre>\n"
      ],
      "text/plain": [
       "\n"
      ]
     },
     "metadata": {},
     "output_type": "display_data"
    },
    {
     "data": {
      "text/html": [
       "<pre style=\"white-space:pre;overflow-x:auto;line-height:normal;font-family:Menlo,'DejaVu Sans Mono',consolas,'Courier New',monospace\"><span style=\"color: #008080; text-decoration-color: #008080; font-weight: bold\">1</span> records logged to <a href=\"https://michaelai23-argillatest.hf.space/datasets/admin/llm_textmarker_with_preds\" target=\"_blank\"><span style=\"color: #0000ff; text-decoration-color: #0000ff; text-decoration: underline\">https://michaelai23-argillatest.hf.space/datasets/admin/llm_textmarker_with_preds</span></a>\n",
       "</pre>\n"
      ],
      "text/plain": [
       "\u001b[1;36m1\u001b[0m records logged to \u001b]8;id=408978;https://michaelai23-argillatest.hf.space/datasets/admin/llm_textmarker_with_preds\u001b\\\u001b[4;94mhttps://michaelai23-argillatest.hf.space/datasets/admin/llm_textmarker_with_preds\u001b[0m\u001b]8;;\u001b\\\n"
      ]
     },
     "metadata": {},
     "output_type": "display_data"
    },
    {
     "data": {
      "application/vnd.jupyter.widget-view+json": {
       "model_id": "3647cfa1e0734a8198ff13e399471fa7",
       "version_major": 2,
       "version_minor": 0
      },
      "text/plain": [
       "Output()"
      ]
     },
     "metadata": {},
     "output_type": "display_data"
    },
    {
     "data": {
      "text/html": [
       "<pre style=\"white-space:pre;overflow-x:auto;line-height:normal;font-family:Menlo,'DejaVu Sans Mono',consolas,'Courier New',monospace\"></pre>\n"
      ],
      "text/plain": []
     },
     "metadata": {},
     "output_type": "display_data"
    },
    {
     "data": {
      "text/html": [
       "<pre style=\"white-space:pre;overflow-x:auto;line-height:normal;font-family:Menlo,'DejaVu Sans Mono',consolas,'Courier New',monospace\">\n",
       "</pre>\n"
      ],
      "text/plain": [
       "\n"
      ]
     },
     "metadata": {},
     "output_type": "display_data"
    },
    {
     "data": {
      "text/html": [
       "<pre style=\"white-space:pre;overflow-x:auto;line-height:normal;font-family:Menlo,'DejaVu Sans Mono',consolas,'Courier New',monospace\"><span style=\"color: #008080; text-decoration-color: #008080; font-weight: bold\">1</span> records logged to <a href=\"https://michaelai23-argillatest.hf.space/datasets/admin/llm_textmarker_with_preds\" target=\"_blank\"><span style=\"color: #0000ff; text-decoration-color: #0000ff; text-decoration: underline\">https://michaelai23-argillatest.hf.space/datasets/admin/llm_textmarker_with_preds</span></a>\n",
       "</pre>\n"
      ],
      "text/plain": [
       "\u001b[1;36m1\u001b[0m records logged to \u001b]8;id=204749;https://michaelai23-argillatest.hf.space/datasets/admin/llm_textmarker_with_preds\u001b\\\u001b[4;94mhttps://michaelai23-argillatest.hf.space/datasets/admin/llm_textmarker_with_preds\u001b[0m\u001b]8;;\u001b\\\n"
      ]
     },
     "metadata": {},
     "output_type": "display_data"
    },
    {
     "data": {
      "application/vnd.jupyter.widget-view+json": {
       "model_id": "3554c583e88549c0a137183a992636c6",
       "version_major": 2,
       "version_minor": 0
      },
      "text/plain": [
       "Output()"
      ]
     },
     "metadata": {},
     "output_type": "display_data"
    },
    {
     "data": {
      "text/html": [
       "<pre style=\"white-space:pre;overflow-x:auto;line-height:normal;font-family:Menlo,'DejaVu Sans Mono',consolas,'Courier New',monospace\"></pre>\n"
      ],
      "text/plain": []
     },
     "metadata": {},
     "output_type": "display_data"
    },
    {
     "data": {
      "text/html": [
       "<pre style=\"white-space:pre;overflow-x:auto;line-height:normal;font-family:Menlo,'DejaVu Sans Mono',consolas,'Courier New',monospace\">\n",
       "</pre>\n"
      ],
      "text/plain": [
       "\n"
      ]
     },
     "metadata": {},
     "output_type": "display_data"
    },
    {
     "data": {
      "text/html": [
       "<pre style=\"white-space:pre;overflow-x:auto;line-height:normal;font-family:Menlo,'DejaVu Sans Mono',consolas,'Courier New',monospace\"><span style=\"color: #008080; text-decoration-color: #008080; font-weight: bold\">1</span> records logged to <a href=\"https://michaelai23-argillatest.hf.space/datasets/admin/llm_textmarker_with_preds\" target=\"_blank\"><span style=\"color: #0000ff; text-decoration-color: #0000ff; text-decoration: underline\">https://michaelai23-argillatest.hf.space/datasets/admin/llm_textmarker_with_preds</span></a>\n",
       "</pre>\n"
      ],
      "text/plain": [
       "\u001b[1;36m1\u001b[0m records logged to \u001b]8;id=42255;https://michaelai23-argillatest.hf.space/datasets/admin/llm_textmarker_with_preds\u001b\\\u001b[4;94mhttps://michaelai23-argillatest.hf.space/datasets/admin/llm_textmarker_with_preds\u001b[0m\u001b]8;;\u001b\\\n"
      ]
     },
     "metadata": {},
     "output_type": "display_data"
    },
    {
     "data": {
      "application/vnd.jupyter.widget-view+json": {
       "model_id": "700946e811cf46f987aa637a9cbc4494",
       "version_major": 2,
       "version_minor": 0
      },
      "text/plain": [
       "Output()"
      ]
     },
     "metadata": {},
     "output_type": "display_data"
    },
    {
     "data": {
      "text/html": [
       "<pre style=\"white-space:pre;overflow-x:auto;line-height:normal;font-family:Menlo,'DejaVu Sans Mono',consolas,'Courier New',monospace\"></pre>\n"
      ],
      "text/plain": []
     },
     "metadata": {},
     "output_type": "display_data"
    },
    {
     "data": {
      "text/html": [
       "<pre style=\"white-space:pre;overflow-x:auto;line-height:normal;font-family:Menlo,'DejaVu Sans Mono',consolas,'Courier New',monospace\">\n",
       "</pre>\n"
      ],
      "text/plain": [
       "\n"
      ]
     },
     "metadata": {},
     "output_type": "display_data"
    },
    {
     "data": {
      "text/html": [
       "<pre style=\"white-space:pre;overflow-x:auto;line-height:normal;font-family:Menlo,'DejaVu Sans Mono',consolas,'Courier New',monospace\"><span style=\"color: #008080; text-decoration-color: #008080; font-weight: bold\">1</span> records logged to <a href=\"https://michaelai23-argillatest.hf.space/datasets/admin/llm_textmarker_with_preds\" target=\"_blank\"><span style=\"color: #0000ff; text-decoration-color: #0000ff; text-decoration: underline\">https://michaelai23-argillatest.hf.space/datasets/admin/llm_textmarker_with_preds</span></a>\n",
       "</pre>\n"
      ],
      "text/plain": [
       "\u001b[1;36m1\u001b[0m records logged to \u001b]8;id=680109;https://michaelai23-argillatest.hf.space/datasets/admin/llm_textmarker_with_preds\u001b\\\u001b[4;94mhttps://michaelai23-argillatest.hf.space/datasets/admin/llm_textmarker_with_preds\u001b[0m\u001b]8;;\u001b\\\n"
      ]
     },
     "metadata": {},
     "output_type": "display_data"
    },
    {
     "data": {
      "application/vnd.jupyter.widget-view+json": {
       "model_id": "2e0dc418995547db9ff89b8bd5a078c8",
       "version_major": 2,
       "version_minor": 0
      },
      "text/plain": [
       "Output()"
      ]
     },
     "metadata": {},
     "output_type": "display_data"
    },
    {
     "data": {
      "text/html": [
       "<pre style=\"white-space:pre;overflow-x:auto;line-height:normal;font-family:Menlo,'DejaVu Sans Mono',consolas,'Courier New',monospace\"></pre>\n"
      ],
      "text/plain": []
     },
     "metadata": {},
     "output_type": "display_data"
    },
    {
     "data": {
      "text/html": [
       "<pre style=\"white-space:pre;overflow-x:auto;line-height:normal;font-family:Menlo,'DejaVu Sans Mono',consolas,'Courier New',monospace\">\n",
       "</pre>\n"
      ],
      "text/plain": [
       "\n"
      ]
     },
     "metadata": {},
     "output_type": "display_data"
    },
    {
     "data": {
      "text/html": [
       "<pre style=\"white-space:pre;overflow-x:auto;line-height:normal;font-family:Menlo,'DejaVu Sans Mono',consolas,'Courier New',monospace\"><span style=\"color: #008080; text-decoration-color: #008080; font-weight: bold\">1</span> records logged to <a href=\"https://michaelai23-argillatest.hf.space/datasets/admin/llm_textmarker_with_preds\" target=\"_blank\"><span style=\"color: #0000ff; text-decoration-color: #0000ff; text-decoration: underline\">https://michaelai23-argillatest.hf.space/datasets/admin/llm_textmarker_with_preds</span></a>\n",
       "</pre>\n"
      ],
      "text/plain": [
       "\u001b[1;36m1\u001b[0m records logged to \u001b]8;id=551545;https://michaelai23-argillatest.hf.space/datasets/admin/llm_textmarker_with_preds\u001b\\\u001b[4;94mhttps://michaelai23-argillatest.hf.space/datasets/admin/llm_textmarker_with_preds\u001b[0m\u001b]8;;\u001b\\\n"
      ]
     },
     "metadata": {},
     "output_type": "display_data"
    },
    {
     "data": {
      "application/vnd.jupyter.widget-view+json": {
       "model_id": "d3f91ee9d8ef40c2b9d8d57a93dead69",
       "version_major": 2,
       "version_minor": 0
      },
      "text/plain": [
       "Output()"
      ]
     },
     "metadata": {},
     "output_type": "display_data"
    },
    {
     "data": {
      "text/html": [
       "<pre style=\"white-space:pre;overflow-x:auto;line-height:normal;font-family:Menlo,'DejaVu Sans Mono',consolas,'Courier New',monospace\"></pre>\n"
      ],
      "text/plain": []
     },
     "metadata": {},
     "output_type": "display_data"
    },
    {
     "data": {
      "text/html": [
       "<pre style=\"white-space:pre;overflow-x:auto;line-height:normal;font-family:Menlo,'DejaVu Sans Mono',consolas,'Courier New',monospace\">\n",
       "</pre>\n"
      ],
      "text/plain": [
       "\n"
      ]
     },
     "metadata": {},
     "output_type": "display_data"
    },
    {
     "data": {
      "text/html": [
       "<pre style=\"white-space:pre;overflow-x:auto;line-height:normal;font-family:Menlo,'DejaVu Sans Mono',consolas,'Courier New',monospace\"><span style=\"color: #008080; text-decoration-color: #008080; font-weight: bold\">1</span> records logged to <a href=\"https://michaelai23-argillatest.hf.space/datasets/admin/llm_textmarker_with_preds\" target=\"_blank\"><span style=\"color: #0000ff; text-decoration-color: #0000ff; text-decoration: underline\">https://michaelai23-argillatest.hf.space/datasets/admin/llm_textmarker_with_preds</span></a>\n",
       "</pre>\n"
      ],
      "text/plain": [
       "\u001b[1;36m1\u001b[0m records logged to \u001b]8;id=626542;https://michaelai23-argillatest.hf.space/datasets/admin/llm_textmarker_with_preds\u001b\\\u001b[4;94mhttps://michaelai23-argillatest.hf.space/datasets/admin/llm_textmarker_with_preds\u001b[0m\u001b]8;;\u001b\\\n"
      ]
     },
     "metadata": {},
     "output_type": "display_data"
    },
    {
     "data": {
      "application/vnd.jupyter.widget-view+json": {
       "model_id": "6d530778b4d449fb98d3b54fd76097e7",
       "version_major": 2,
       "version_minor": 0
      },
      "text/plain": [
       "Output()"
      ]
     },
     "metadata": {},
     "output_type": "display_data"
    },
    {
     "data": {
      "text/html": [
       "<pre style=\"white-space:pre;overflow-x:auto;line-height:normal;font-family:Menlo,'DejaVu Sans Mono',consolas,'Courier New',monospace\"></pre>\n"
      ],
      "text/plain": []
     },
     "metadata": {},
     "output_type": "display_data"
    },
    {
     "data": {
      "text/html": [
       "<pre style=\"white-space:pre;overflow-x:auto;line-height:normal;font-family:Menlo,'DejaVu Sans Mono',consolas,'Courier New',monospace\">\n",
       "</pre>\n"
      ],
      "text/plain": [
       "\n"
      ]
     },
     "metadata": {},
     "output_type": "display_data"
    },
    {
     "data": {
      "text/html": [
       "<pre style=\"white-space:pre;overflow-x:auto;line-height:normal;font-family:Menlo,'DejaVu Sans Mono',consolas,'Courier New',monospace\"><span style=\"color: #008080; text-decoration-color: #008080; font-weight: bold\">1</span> records logged to <a href=\"https://michaelai23-argillatest.hf.space/datasets/admin/llm_textmarker_with_preds\" target=\"_blank\"><span style=\"color: #0000ff; text-decoration-color: #0000ff; text-decoration: underline\">https://michaelai23-argillatest.hf.space/datasets/admin/llm_textmarker_with_preds</span></a>\n",
       "</pre>\n"
      ],
      "text/plain": [
       "\u001b[1;36m1\u001b[0m records logged to \u001b]8;id=760664;https://michaelai23-argillatest.hf.space/datasets/admin/llm_textmarker_with_preds\u001b\\\u001b[4;94mhttps://michaelai23-argillatest.hf.space/datasets/admin/llm_textmarker_with_preds\u001b[0m\u001b]8;;\u001b\\\n"
      ]
     },
     "metadata": {},
     "output_type": "display_data"
    },
    {
     "data": {
      "application/vnd.jupyter.widget-view+json": {
       "model_id": "3bb9fd56e91c420cb2eb75464ac24046",
       "version_major": 2,
       "version_minor": 0
      },
      "text/plain": [
       "Output()"
      ]
     },
     "metadata": {},
     "output_type": "display_data"
    },
    {
     "data": {
      "text/html": [
       "<pre style=\"white-space:pre;overflow-x:auto;line-height:normal;font-family:Menlo,'DejaVu Sans Mono',consolas,'Courier New',monospace\"></pre>\n"
      ],
      "text/plain": []
     },
     "metadata": {},
     "output_type": "display_data"
    },
    {
     "data": {
      "text/html": [
       "<pre style=\"white-space:pre;overflow-x:auto;line-height:normal;font-family:Menlo,'DejaVu Sans Mono',consolas,'Courier New',monospace\">\n",
       "</pre>\n"
      ],
      "text/plain": [
       "\n"
      ]
     },
     "metadata": {},
     "output_type": "display_data"
    },
    {
     "data": {
      "text/html": [
       "<pre style=\"white-space:pre;overflow-x:auto;line-height:normal;font-family:Menlo,'DejaVu Sans Mono',consolas,'Courier New',monospace\"><span style=\"color: #008080; text-decoration-color: #008080; font-weight: bold\">1</span> records logged to <a href=\"https://michaelai23-argillatest.hf.space/datasets/admin/llm_textmarker_with_preds\" target=\"_blank\"><span style=\"color: #0000ff; text-decoration-color: #0000ff; text-decoration: underline\">https://michaelai23-argillatest.hf.space/datasets/admin/llm_textmarker_with_preds</span></a>\n",
       "</pre>\n"
      ],
      "text/plain": [
       "\u001b[1;36m1\u001b[0m records logged to \u001b]8;id=201272;https://michaelai23-argillatest.hf.space/datasets/admin/llm_textmarker_with_preds\u001b\\\u001b[4;94mhttps://michaelai23-argillatest.hf.space/datasets/admin/llm_textmarker_with_preds\u001b[0m\u001b]8;;\u001b\\\n"
      ]
     },
     "metadata": {},
     "output_type": "display_data"
    },
    {
     "data": {
      "application/vnd.jupyter.widget-view+json": {
       "model_id": "4938515a604a46fa9f6fb04052d424a1",
       "version_major": 2,
       "version_minor": 0
      },
      "text/plain": [
       "Output()"
      ]
     },
     "metadata": {},
     "output_type": "display_data"
    },
    {
     "data": {
      "text/html": [
       "<pre style=\"white-space:pre;overflow-x:auto;line-height:normal;font-family:Menlo,'DejaVu Sans Mono',consolas,'Courier New',monospace\"></pre>\n"
      ],
      "text/plain": []
     },
     "metadata": {},
     "output_type": "display_data"
    },
    {
     "data": {
      "text/html": [
       "<pre style=\"white-space:pre;overflow-x:auto;line-height:normal;font-family:Menlo,'DejaVu Sans Mono',consolas,'Courier New',monospace\">\n",
       "</pre>\n"
      ],
      "text/plain": [
       "\n"
      ]
     },
     "metadata": {},
     "output_type": "display_data"
    },
    {
     "data": {
      "text/html": [
       "<pre style=\"white-space:pre;overflow-x:auto;line-height:normal;font-family:Menlo,'DejaVu Sans Mono',consolas,'Courier New',monospace\"><span style=\"color: #008080; text-decoration-color: #008080; font-weight: bold\">1</span> records logged to <a href=\"https://michaelai23-argillatest.hf.space/datasets/admin/llm_textmarker_with_preds\" target=\"_blank\"><span style=\"color: #0000ff; text-decoration-color: #0000ff; text-decoration: underline\">https://michaelai23-argillatest.hf.space/datasets/admin/llm_textmarker_with_preds</span></a>\n",
       "</pre>\n"
      ],
      "text/plain": [
       "\u001b[1;36m1\u001b[0m records logged to \u001b]8;id=297520;https://michaelai23-argillatest.hf.space/datasets/admin/llm_textmarker_with_preds\u001b\\\u001b[4;94mhttps://michaelai23-argillatest.hf.space/datasets/admin/llm_textmarker_with_preds\u001b[0m\u001b]8;;\u001b\\\n"
      ]
     },
     "metadata": {},
     "output_type": "display_data"
    },
    {
     "data": {
      "application/vnd.jupyter.widget-view+json": {
       "model_id": "79a22e4d6700439a9e37214f1304e867",
       "version_major": 2,
       "version_minor": 0
      },
      "text/plain": [
       "Output()"
      ]
     },
     "metadata": {},
     "output_type": "display_data"
    },
    {
     "data": {
      "text/html": [
       "<pre style=\"white-space:pre;overflow-x:auto;line-height:normal;font-family:Menlo,'DejaVu Sans Mono',consolas,'Courier New',monospace\"></pre>\n"
      ],
      "text/plain": []
     },
     "metadata": {},
     "output_type": "display_data"
    },
    {
     "data": {
      "text/html": [
       "<pre style=\"white-space:pre;overflow-x:auto;line-height:normal;font-family:Menlo,'DejaVu Sans Mono',consolas,'Courier New',monospace\">\n",
       "</pre>\n"
      ],
      "text/plain": [
       "\n"
      ]
     },
     "metadata": {},
     "output_type": "display_data"
    },
    {
     "data": {
      "text/html": [
       "<pre style=\"white-space:pre;overflow-x:auto;line-height:normal;font-family:Menlo,'DejaVu Sans Mono',consolas,'Courier New',monospace\"><span style=\"color: #008080; text-decoration-color: #008080; font-weight: bold\">1</span> records logged to <a href=\"https://michaelai23-argillatest.hf.space/datasets/admin/llm_textmarker_with_preds\" target=\"_blank\"><span style=\"color: #0000ff; text-decoration-color: #0000ff; text-decoration: underline\">https://michaelai23-argillatest.hf.space/datasets/admin/llm_textmarker_with_preds</span></a>\n",
       "</pre>\n"
      ],
      "text/plain": [
       "\u001b[1;36m1\u001b[0m records logged to \u001b]8;id=959224;https://michaelai23-argillatest.hf.space/datasets/admin/llm_textmarker_with_preds\u001b\\\u001b[4;94mhttps://michaelai23-argillatest.hf.space/datasets/admin/llm_textmarker_with_preds\u001b[0m\u001b]8;;\u001b\\\n"
      ]
     },
     "metadata": {},
     "output_type": "display_data"
    },
    {
     "data": {
      "application/vnd.jupyter.widget-view+json": {
       "model_id": "cd1a3083d2ce458597ae21e6cd077806",
       "version_major": 2,
       "version_minor": 0
      },
      "text/plain": [
       "Output()"
      ]
     },
     "metadata": {},
     "output_type": "display_data"
    },
    {
     "data": {
      "text/html": [
       "<pre style=\"white-space:pre;overflow-x:auto;line-height:normal;font-family:Menlo,'DejaVu Sans Mono',consolas,'Courier New',monospace\"></pre>\n"
      ],
      "text/plain": []
     },
     "metadata": {},
     "output_type": "display_data"
    },
    {
     "data": {
      "text/html": [
       "<pre style=\"white-space:pre;overflow-x:auto;line-height:normal;font-family:Menlo,'DejaVu Sans Mono',consolas,'Courier New',monospace\">\n",
       "</pre>\n"
      ],
      "text/plain": [
       "\n"
      ]
     },
     "metadata": {},
     "output_type": "display_data"
    },
    {
     "data": {
      "text/html": [
       "<pre style=\"white-space:pre;overflow-x:auto;line-height:normal;font-family:Menlo,'DejaVu Sans Mono',consolas,'Courier New',monospace\"><span style=\"color: #008080; text-decoration-color: #008080; font-weight: bold\">1</span> records logged to <a href=\"https://michaelai23-argillatest.hf.space/datasets/admin/llm_textmarker_with_preds\" target=\"_blank\"><span style=\"color: #0000ff; text-decoration-color: #0000ff; text-decoration: underline\">https://michaelai23-argillatest.hf.space/datasets/admin/llm_textmarker_with_preds</span></a>\n",
       "</pre>\n"
      ],
      "text/plain": [
       "\u001b[1;36m1\u001b[0m records logged to \u001b]8;id=155037;https://michaelai23-argillatest.hf.space/datasets/admin/llm_textmarker_with_preds\u001b\\\u001b[4;94mhttps://michaelai23-argillatest.hf.space/datasets/admin/llm_textmarker_with_preds\u001b[0m\u001b]8;;\u001b\\\n"
      ]
     },
     "metadata": {},
     "output_type": "display_data"
    },
    {
     "data": {
      "application/vnd.jupyter.widget-view+json": {
       "model_id": "3aaf00ed3ddf4585bf72354d214d2b14",
       "version_major": 2,
       "version_minor": 0
      },
      "text/plain": [
       "Output()"
      ]
     },
     "metadata": {},
     "output_type": "display_data"
    },
    {
     "data": {
      "text/html": [
       "<pre style=\"white-space:pre;overflow-x:auto;line-height:normal;font-family:Menlo,'DejaVu Sans Mono',consolas,'Courier New',monospace\"></pre>\n"
      ],
      "text/plain": []
     },
     "metadata": {},
     "output_type": "display_data"
    },
    {
     "data": {
      "text/html": [
       "<pre style=\"white-space:pre;overflow-x:auto;line-height:normal;font-family:Menlo,'DejaVu Sans Mono',consolas,'Courier New',monospace\">\n",
       "</pre>\n"
      ],
      "text/plain": [
       "\n"
      ]
     },
     "metadata": {},
     "output_type": "display_data"
    },
    {
     "data": {
      "text/html": [
       "<pre style=\"white-space:pre;overflow-x:auto;line-height:normal;font-family:Menlo,'DejaVu Sans Mono',consolas,'Courier New',monospace\"><span style=\"color: #008080; text-decoration-color: #008080; font-weight: bold\">1</span> records logged to <a href=\"https://michaelai23-argillatest.hf.space/datasets/admin/llm_textmarker_with_preds\" target=\"_blank\"><span style=\"color: #0000ff; text-decoration-color: #0000ff; text-decoration: underline\">https://michaelai23-argillatest.hf.space/datasets/admin/llm_textmarker_with_preds</span></a>\n",
       "</pre>\n"
      ],
      "text/plain": [
       "\u001b[1;36m1\u001b[0m records logged to \u001b]8;id=631754;https://michaelai23-argillatest.hf.space/datasets/admin/llm_textmarker_with_preds\u001b\\\u001b[4;94mhttps://michaelai23-argillatest.hf.space/datasets/admin/llm_textmarker_with_preds\u001b[0m\u001b]8;;\u001b\\\n"
      ]
     },
     "metadata": {},
     "output_type": "display_data"
    },
    {
     "data": {
      "application/vnd.jupyter.widget-view+json": {
       "model_id": "105a0f17be5746f78cb536590c50f0b6",
       "version_major": 2,
       "version_minor": 0
      },
      "text/plain": [
       "Output()"
      ]
     },
     "metadata": {},
     "output_type": "display_data"
    },
    {
     "data": {
      "text/html": [
       "<pre style=\"white-space:pre;overflow-x:auto;line-height:normal;font-family:Menlo,'DejaVu Sans Mono',consolas,'Courier New',monospace\"></pre>\n"
      ],
      "text/plain": []
     },
     "metadata": {},
     "output_type": "display_data"
    },
    {
     "data": {
      "text/html": [
       "<pre style=\"white-space:pre;overflow-x:auto;line-height:normal;font-family:Menlo,'DejaVu Sans Mono',consolas,'Courier New',monospace\">\n",
       "</pre>\n"
      ],
      "text/plain": [
       "\n"
      ]
     },
     "metadata": {},
     "output_type": "display_data"
    },
    {
     "data": {
      "text/html": [
       "<pre style=\"white-space:pre;overflow-x:auto;line-height:normal;font-family:Menlo,'DejaVu Sans Mono',consolas,'Courier New',monospace\"><span style=\"color: #008080; text-decoration-color: #008080; font-weight: bold\">1</span> records logged to <a href=\"https://michaelai23-argillatest.hf.space/datasets/admin/llm_textmarker_with_preds\" target=\"_blank\"><span style=\"color: #0000ff; text-decoration-color: #0000ff; text-decoration: underline\">https://michaelai23-argillatest.hf.space/datasets/admin/llm_textmarker_with_preds</span></a>\n",
       "</pre>\n"
      ],
      "text/plain": [
       "\u001b[1;36m1\u001b[0m records logged to \u001b]8;id=160604;https://michaelai23-argillatest.hf.space/datasets/admin/llm_textmarker_with_preds\u001b\\\u001b[4;94mhttps://michaelai23-argillatest.hf.space/datasets/admin/llm_textmarker_with_preds\u001b[0m\u001b]8;;\u001b\\\n"
      ]
     },
     "metadata": {},
     "output_type": "display_data"
    },
    {
     "data": {
      "application/vnd.jupyter.widget-view+json": {
       "model_id": "f879e072cf874ec1ad870ae769dcdda5",
       "version_major": 2,
       "version_minor": 0
      },
      "text/plain": [
       "Output()"
      ]
     },
     "metadata": {},
     "output_type": "display_data"
    },
    {
     "data": {
      "text/html": [
       "<pre style=\"white-space:pre;overflow-x:auto;line-height:normal;font-family:Menlo,'DejaVu Sans Mono',consolas,'Courier New',monospace\"></pre>\n"
      ],
      "text/plain": []
     },
     "metadata": {},
     "output_type": "display_data"
    },
    {
     "data": {
      "text/html": [
       "<pre style=\"white-space:pre;overflow-x:auto;line-height:normal;font-family:Menlo,'DejaVu Sans Mono',consolas,'Courier New',monospace\">\n",
       "</pre>\n"
      ],
      "text/plain": [
       "\n"
      ]
     },
     "metadata": {},
     "output_type": "display_data"
    },
    {
     "data": {
      "text/html": [
       "<pre style=\"white-space:pre;overflow-x:auto;line-height:normal;font-family:Menlo,'DejaVu Sans Mono',consolas,'Courier New',monospace\"><span style=\"color: #008080; text-decoration-color: #008080; font-weight: bold\">1</span> records logged to <a href=\"https://michaelai23-argillatest.hf.space/datasets/admin/llm_textmarker_with_preds\" target=\"_blank\"><span style=\"color: #0000ff; text-decoration-color: #0000ff; text-decoration: underline\">https://michaelai23-argillatest.hf.space/datasets/admin/llm_textmarker_with_preds</span></a>\n",
       "</pre>\n"
      ],
      "text/plain": [
       "\u001b[1;36m1\u001b[0m records logged to \u001b]8;id=719355;https://michaelai23-argillatest.hf.space/datasets/admin/llm_textmarker_with_preds\u001b\\\u001b[4;94mhttps://michaelai23-argillatest.hf.space/datasets/admin/llm_textmarker_with_preds\u001b[0m\u001b]8;;\u001b\\\n"
      ]
     },
     "metadata": {},
     "output_type": "display_data"
    }
   ],
   "source": [
    "for record in token_dataset:\n",
    "    rg.log(record, name=\"llm_textmarker_with_preds\")"
   ]
  },
  {
   "cell_type": "code",
   "execution_count": 33,
   "id": "84a028b9-c53a-4b98-8e76-7276f2b38f2e",
   "metadata": {
    "tags": []
   },
   "outputs": [],
   "source": [
    "# Load the dataset\n",
    "dataset = rg.load(name=\"llm_textmarker_with_preds\", workspace=\"admin\")"
   ]
  },
  {
   "cell_type": "code",
   "execution_count": 74,
   "id": "fdc953a3-b2c7-439d-adbe-b2f44aebe08e",
   "metadata": {
    "tags": []
   },
   "outputs": [
    {
     "data": {
      "text/plain": [
       "(100, 100)"
      ]
     },
     "execution_count": 74,
     "metadata": {},
     "output_type": "execute_result"
    }
   ],
   "source": [
    "# rg.delete_records(name=\"llm_textmarker_with_preds\")"
   ]
  }
 ],
 "metadata": {
  "kernelspec": {
   "display_name": "conda_tensorflow2_p310",
   "language": "python",
   "name": "conda_tensorflow2_p310"
  },
  "language_info": {
   "codemirror_mode": {
    "name": "ipython",
    "version": 3
   },
   "file_extension": ".py",
   "mimetype": "text/x-python",
   "name": "python",
   "nbconvert_exporter": "python",
   "pygments_lexer": "ipython3",
   "version": "3.10.14"
  }
 },
 "nbformat": 4,
 "nbformat_minor": 5
}
